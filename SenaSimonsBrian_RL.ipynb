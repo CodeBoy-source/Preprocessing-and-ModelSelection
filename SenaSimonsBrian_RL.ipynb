{
  "nbformat": 4,
  "nbformat_minor": 0,
  "metadata": {
    "colab": {
      "name": "SenaSimonsBrian_RL",
      "provenance": [],
      "collapsed_sections": [
        "43zQDkV0xrYu",
        "FCVSdgb2Aus6"
      ]
    },
    "kernelspec": {
      "name": "python3",
      "display_name": "Python 3"
    },
    "language_info": {
      "name": "python"
    }
  },
  "cells": [
    {
      "cell_type": "markdown",
      "source": [
        "# Problema de Regresión YearPredictionMSD\n",
        "## **Autor**: Brian Sena Simons \n",
        "## **Grupo**: 3ºA - A2.\n"
      ],
      "metadata": {
        "id": "udo3MI0gVA9c"
      }
    },
    {
      "cell_type": "markdown",
      "source": [
        "# Introducción al Problema."
      ],
      "metadata": {
        "id": "yxFI4Yt3jnKW"
      }
    },
    {
      "cell_type": "markdown",
      "source": [
        "Disponemos de un problema con objetivo de ser capaces de predecir el estreno de una canción a partir de las características de ella. Dentro del data-set disponemos de variadas canciones desde 1922 hasta 2011, con un pico en 2000.\n",
        "\n",
        "El conjunto de datos es multivariado con un total de medio millón de instancias y 90 atributos de características reales. La tarea es diseñar un método de regresión lineal para realizar las predicciones. \n",
        "\n",
        "Como vemos en este caso, similar al anterior, estamos ante un problema de aprendizaje supervisado ya que disponemos de las etiquetas de cada caso. La diferencia es que utilizaremos modelos lineales en \"w\" con regresión. \n",
        "\n",
        "**Se recomienda ver el documento anterior previo a este para las explicaciones de las funciones de las librerías utilizadas**. Lo que haremos es utilizar la librería sklearn y otras para analizar los datos, preprocesar-los y a posterior entrenar y elegir hiperparámetros para finalmente definir el modelo final para nuestra supuesta empresa. "
      ],
      "metadata": {
        "id": "72hW2svMj3iP"
      }
    },
    {
      "cell_type": "markdown",
      "source": [
        "## Conjunto de datos."
      ],
      "metadata": {
        "id": "BFxoss5VlCh4"
      }
    },
    {
      "cell_type": "markdown",
      "source": [
        "Según la [página oficial](https://archive.ics.uci.edu/ml/datasets/YearPredictionMSD), ya tenemos un conjunto de datos para entreno/test definidos. Sin embargo, realizaremos un análisis sin tener en cuenta esa distribución y luego verificaremos el comportamiento de nuestro modelo sobre el conjunto definido.\n",
        "\n",
        "Respecto sobre los atributos del conjunto $\\mathcal{X}$ disponemos de 90 atributos. 12 de ellos son respecto al timbre de la canción, los 78 otros son respecto a la covarianza entre ellos. El primer valor es el año en el que salió la canción. Como vemos supuestamente, solamente tenemos variables númericas por lo que no tenemos que realizar ningún cambio de variables categóricas como en el problema anterior.\n",
        "\n",
        "Lo primero que haremos es leer los datos y verificar lo especificado por el website."
      ],
      "metadata": {
        "id": "3Fj5WG-tlKG8"
      }
    },
    {
      "cell_type": "code",
      "source": [
        "from google.colab import drive \n",
        "drive.mount('/content/drive')"
      ],
      "metadata": {
        "id": "tF5wSsqU09ym",
        "colab": {
          "base_uri": "https://localhost:8080/"
        },
        "outputId": "f751292e-5cc0-404e-92c1-49d1b992001f"
      },
      "execution_count": null,
      "outputs": [
        {
          "output_type": "stream",
          "name": "stdout",
          "text": [
            "Mounted at /content/drive\n"
          ]
        }
      ]
    },
    {
      "cell_type": "markdown",
      "source": [
        "Una vez montado el drive, a continuación utilizaremos la librería panda ya utilizada en prácticas anteriores para realizar la lectura de los archivos de tipos \"txt\" en forma de tabla vectorial. \n",
        "\n",
        "Una vez leídos, realizaremos una división entre conjunto de test y conjunto de entreno. Y procedemos a preprocesar los datos, verificando el comportamiento de cada atributo, datos faltantes, moda.. con la ayuda de distintas librerías."
      ],
      "metadata": {
        "id": "krKTbctuWNeM"
      }
    },
    {
      "cell_type": "code",
      "source": [
        "import pandas as pd\n",
        "from sklearn.model_selection import train_test_split\n",
        "\n",
        "allData = pd.read_csv('/content/drive/MyDrive/datos/YearPredictionMSD.txt',delimiter=',',header=None)"
      ],
      "metadata": {
        "id": "H589JD_enEc4"
      },
      "execution_count": null,
      "outputs": []
    },
    {
      "cell_type": "code",
      "source": [
        "allYdata = pd.DataFrame(data=allData.values[:,0]);\n",
        "allData.drop(columns=0,inplace=True)"
      ],
      "metadata": {
        "id": "POtv-RRIuZu6"
      },
      "execution_count": null,
      "outputs": []
    },
    {
      "cell_type": "markdown",
      "source": [
        "En este ejercicio no tenemos tampoco que tocar nuestro conjunto de etiquetas $\\mathcal{Y}$ ya que son númericas como podemos ver a continuación."
      ],
      "metadata": {
        "id": "zXSMgroovaOC"
      }
    },
    {
      "cell_type": "code",
      "source": [
        "display(allYdata)"
      ],
      "metadata": {
        "id": "_d9lTW9ovko_",
        "colab": {
          "base_uri": "https://localhost:8080/",
          "height": 424
        },
        "outputId": "e84102fa-3998-4924-d0fe-e268c40dd712"
      },
      "execution_count": null,
      "outputs": [
        {
          "output_type": "display_data",
          "data": {
            "text/plain": [
              "             0\n",
              "0       2001.0\n",
              "1       2001.0\n",
              "2       2001.0\n",
              "3       2001.0\n",
              "4       2001.0\n",
              "...        ...\n",
              "515340  2006.0\n",
              "515341  2006.0\n",
              "515342  2006.0\n",
              "515343  2006.0\n",
              "515344  2005.0\n",
              "\n",
              "[515345 rows x 1 columns]"
            ],
            "text/html": [
              "\n",
              "  <div id=\"df-fbcf5214-b604-4ee4-9056-532481ab3e50\">\n",
              "    <div class=\"colab-df-container\">\n",
              "      <div>\n",
              "<style scoped>\n",
              "    .dataframe tbody tr th:only-of-type {\n",
              "        vertical-align: middle;\n",
              "    }\n",
              "\n",
              "    .dataframe tbody tr th {\n",
              "        vertical-align: top;\n",
              "    }\n",
              "\n",
              "    .dataframe thead th {\n",
              "        text-align: right;\n",
              "    }\n",
              "</style>\n",
              "<table border=\"1\" class=\"dataframe\">\n",
              "  <thead>\n",
              "    <tr style=\"text-align: right;\">\n",
              "      <th></th>\n",
              "      <th>0</th>\n",
              "    </tr>\n",
              "  </thead>\n",
              "  <tbody>\n",
              "    <tr>\n",
              "      <th>0</th>\n",
              "      <td>2001.0</td>\n",
              "    </tr>\n",
              "    <tr>\n",
              "      <th>1</th>\n",
              "      <td>2001.0</td>\n",
              "    </tr>\n",
              "    <tr>\n",
              "      <th>2</th>\n",
              "      <td>2001.0</td>\n",
              "    </tr>\n",
              "    <tr>\n",
              "      <th>3</th>\n",
              "      <td>2001.0</td>\n",
              "    </tr>\n",
              "    <tr>\n",
              "      <th>4</th>\n",
              "      <td>2001.0</td>\n",
              "    </tr>\n",
              "    <tr>\n",
              "      <th>...</th>\n",
              "      <td>...</td>\n",
              "    </tr>\n",
              "    <tr>\n",
              "      <th>515340</th>\n",
              "      <td>2006.0</td>\n",
              "    </tr>\n",
              "    <tr>\n",
              "      <th>515341</th>\n",
              "      <td>2006.0</td>\n",
              "    </tr>\n",
              "    <tr>\n",
              "      <th>515342</th>\n",
              "      <td>2006.0</td>\n",
              "    </tr>\n",
              "    <tr>\n",
              "      <th>515343</th>\n",
              "      <td>2006.0</td>\n",
              "    </tr>\n",
              "    <tr>\n",
              "      <th>515344</th>\n",
              "      <td>2005.0</td>\n",
              "    </tr>\n",
              "  </tbody>\n",
              "</table>\n",
              "<p>515345 rows × 1 columns</p>\n",
              "</div>\n",
              "      <button class=\"colab-df-convert\" onclick=\"convertToInteractive('df-fbcf5214-b604-4ee4-9056-532481ab3e50')\"\n",
              "              title=\"Convert this dataframe to an interactive table.\"\n",
              "              style=\"display:none;\">\n",
              "        \n",
              "  <svg xmlns=\"http://www.w3.org/2000/svg\" height=\"24px\"viewBox=\"0 0 24 24\"\n",
              "       width=\"24px\">\n",
              "    <path d=\"M0 0h24v24H0V0z\" fill=\"none\"/>\n",
              "    <path d=\"M18.56 5.44l.94 2.06.94-2.06 2.06-.94-2.06-.94-.94-2.06-.94 2.06-2.06.94zm-11 1L8.5 8.5l.94-2.06 2.06-.94-2.06-.94L8.5 2.5l-.94 2.06-2.06.94zm10 10l.94 2.06.94-2.06 2.06-.94-2.06-.94-.94-2.06-.94 2.06-2.06.94z\"/><path d=\"M17.41 7.96l-1.37-1.37c-.4-.4-.92-.59-1.43-.59-.52 0-1.04.2-1.43.59L10.3 9.45l-7.72 7.72c-.78.78-.78 2.05 0 2.83L4 21.41c.39.39.9.59 1.41.59.51 0 1.02-.2 1.41-.59l7.78-7.78 2.81-2.81c.8-.78.8-2.07 0-2.86zM5.41 20L4 18.59l7.72-7.72 1.47 1.35L5.41 20z\"/>\n",
              "  </svg>\n",
              "      </button>\n",
              "      \n",
              "  <style>\n",
              "    .colab-df-container {\n",
              "      display:flex;\n",
              "      flex-wrap:wrap;\n",
              "      gap: 12px;\n",
              "    }\n",
              "\n",
              "    .colab-df-convert {\n",
              "      background-color: #E8F0FE;\n",
              "      border: none;\n",
              "      border-radius: 50%;\n",
              "      cursor: pointer;\n",
              "      display: none;\n",
              "      fill: #1967D2;\n",
              "      height: 32px;\n",
              "      padding: 0 0 0 0;\n",
              "      width: 32px;\n",
              "    }\n",
              "\n",
              "    .colab-df-convert:hover {\n",
              "      background-color: #E2EBFA;\n",
              "      box-shadow: 0px 1px 2px rgba(60, 64, 67, 0.3), 0px 1px 3px 1px rgba(60, 64, 67, 0.15);\n",
              "      fill: #174EA6;\n",
              "    }\n",
              "\n",
              "    [theme=dark] .colab-df-convert {\n",
              "      background-color: #3B4455;\n",
              "      fill: #D2E3FC;\n",
              "    }\n",
              "\n",
              "    [theme=dark] .colab-df-convert:hover {\n",
              "      background-color: #434B5C;\n",
              "      box-shadow: 0px 1px 3px 1px rgba(0, 0, 0, 0.15);\n",
              "      filter: drop-shadow(0px 1px 2px rgba(0, 0, 0, 0.3));\n",
              "      fill: #FFFFFF;\n",
              "    }\n",
              "  </style>\n",
              "\n",
              "      <script>\n",
              "        const buttonEl =\n",
              "          document.querySelector('#df-fbcf5214-b604-4ee4-9056-532481ab3e50 button.colab-df-convert');\n",
              "        buttonEl.style.display =\n",
              "          google.colab.kernel.accessAllowed ? 'block' : 'none';\n",
              "\n",
              "        async function convertToInteractive(key) {\n",
              "          const element = document.querySelector('#df-fbcf5214-b604-4ee4-9056-532481ab3e50');\n",
              "          const dataTable =\n",
              "            await google.colab.kernel.invokeFunction('convertToInteractive',\n",
              "                                                     [key], {});\n",
              "          if (!dataTable) return;\n",
              "\n",
              "          const docLinkHtml = 'Like what you see? Visit the ' +\n",
              "            '<a target=\"_blank\" href=https://colab.research.google.com/notebooks/data_table.ipynb>data table notebook</a>'\n",
              "            + ' to learn more about interactive tables.';\n",
              "          element.innerHTML = '';\n",
              "          dataTable['output_type'] = 'display_data';\n",
              "          await google.colab.output.renderOutput(dataTable, element);\n",
              "          const docLink = document.createElement('div');\n",
              "          docLink.innerHTML = docLinkHtml;\n",
              "          element.appendChild(docLink);\n",
              "        }\n",
              "      </script>\n",
              "    </div>\n",
              "  </div>\n",
              "  "
            ]
          },
          "metadata": {}
        }
      ]
    },
    {
      "cell_type": "markdown",
      "source": [
        "Creamos nuestro proprio conjunto entreno/test, y luego procederemos a realizar el debido estudio estadístico de los datos.\n",
        "\n",
        "Además, visualizamos nuestro conjunto $\\mathcal{X}$"
      ],
      "metadata": {
        "id": "hT3BT46IvxTb"
      }
    },
    {
      "cell_type": "code",
      "source": [
        "data, test, ydata, ytest =  train_test_split(allData,allYdata,test_size=0.2,random_state=42)\n",
        "display(data)"
      ],
      "metadata": {
        "id": "NW067X2evy6O",
        "colab": {
          "base_uri": "https://localhost:8080/",
          "height": 488
        },
        "outputId": "edfea0b3-20dc-4a90-ab89-dca9b76c26c6"
      },
      "execution_count": null,
      "outputs": [
        {
          "output_type": "display_data",
          "data": {
            "text/plain": [
              "              1          2         3         4         5         6         7   \\\n",
              "432804  44.84827  -63.52746  39.62962   4.76874   3.63452 -15.78054  11.35907   \n",
              "14107   40.64447 -132.69806  61.71749   7.65651 -64.88847 -10.53420  14.03082   \n",
              "445704  42.83931  -62.36282  38.25557  10.82303  11.63044 -24.96657   7.75105   \n",
              "360598  48.06036   -3.44522   7.65788   5.75887   0.64289 -11.55394  19.69670   \n",
              "443245  43.18513   48.78499 -18.89776 -16.00906  -8.71047  -3.88508 -11.62025   \n",
              "...          ...        ...       ...       ...       ...       ...       ...   \n",
              "259178  44.32199  -23.81309 -13.53284 -20.22994  -8.27441 -13.11242  -7.13980   \n",
              "365838  55.31715   45.93366  41.56784  -6.89224 -24.65473 -20.43824   7.44115   \n",
              "131932  46.28889   23.56662  -9.55045   2.52348 -20.92755 -14.06585   3.47423   \n",
              "146867  43.55954   11.81148 -23.47619 -27.76221 -23.67627 -25.48018 -25.80220   \n",
              "121958  46.24465   23.71582  33.48507 -10.79635 -19.83903 -10.93768 -31.58949   \n",
              "\n",
              "              8         9         10  ...         81         82        83  \\\n",
              "432804  -7.77886  19.39953  -3.38522  ...   -1.72216 -117.17036  86.56313   \n",
              "14107   -0.85293 -13.30655 -10.10274  ...   32.31195  111.74395   3.11314   \n",
              "445704  -7.83695  -7.74882 -10.74002  ...  130.40625  -52.05532  -1.11332   \n",
              "360598  -0.30330  15.47389  -2.81710  ...   -8.50756  -95.76863  44.13172   \n",
              "443245  -9.23192  -5.87327  -1.11433  ...   -4.16870   78.54464   1.76344   \n",
              "...          ...       ...       ...  ...        ...        ...       ...   \n",
              "259178  -2.96502   1.87100  -0.17680  ...   38.74888   87.98865  62.25886   \n",
              "365838   6.72527  -4.22937   2.10896  ...   -3.14755  -31.40562  17.90573   \n",
              "131932  -0.59447   3.71155   6.64269  ...    3.36283  117.83089 -38.60685   \n",
              "146867  -9.52762  24.17281   9.29710  ...   89.18690   -5.00498  19.91281   \n",
              "121958 -10.55502  16.51100  -3.04537  ...  -20.50959 -131.93392  41.57847   \n",
              "\n",
              "              84        85        86         87        88         89        90  \n",
              "432804  58.32602  -1.10826  -5.98171  155.39741  -1.32106  -16.81849   2.63945  \n",
              "14107  -23.91776   3.58467 -12.76738   31.68369   5.22281   -1.22578  12.82205  \n",
              "445704 -50.03516 -29.30650 -46.26227 -186.60942  -8.84056 -106.53343  40.91720  \n",
              "360598  86.90574  -1.88630   2.83544  -38.33097   2.80345  -96.88037  -9.37875  \n",
              "443245  27.48088  11.01302  13.12671 -103.15496  -2.30336   27.81066  -2.38488  \n",
              "...          ...       ...       ...        ...       ...        ...       ...  \n",
              "259178  -3.28936   2.11499 -80.15949 -126.87331   5.21554  -72.42765   1.92268  \n",
              "365838   0.87750   2.43974  -0.39560   16.05061   0.23265   57.42801   1.66406  \n",
              "131932  71.93546  22.44123  19.21300 -262.93731   3.20689 -142.63874 -26.27662  \n",
              "146867 -17.50665   8.34713  -6.84043 -102.85199  16.61852 -110.42362  25.18114  \n",
              "121958  -8.13366   2.81061 -16.41314  -57.09566  12.53452  -37.97646  15.99634  \n",
              "\n",
              "[412276 rows x 90 columns]"
            ],
            "text/html": [
              "\n",
              "  <div id=\"df-428a4568-d676-4756-8b45-f63b7e76d001\">\n",
              "    <div class=\"colab-df-container\">\n",
              "      <div>\n",
              "<style scoped>\n",
              "    .dataframe tbody tr th:only-of-type {\n",
              "        vertical-align: middle;\n",
              "    }\n",
              "\n",
              "    .dataframe tbody tr th {\n",
              "        vertical-align: top;\n",
              "    }\n",
              "\n",
              "    .dataframe thead th {\n",
              "        text-align: right;\n",
              "    }\n",
              "</style>\n",
              "<table border=\"1\" class=\"dataframe\">\n",
              "  <thead>\n",
              "    <tr style=\"text-align: right;\">\n",
              "      <th></th>\n",
              "      <th>1</th>\n",
              "      <th>2</th>\n",
              "      <th>3</th>\n",
              "      <th>4</th>\n",
              "      <th>5</th>\n",
              "      <th>6</th>\n",
              "      <th>7</th>\n",
              "      <th>8</th>\n",
              "      <th>9</th>\n",
              "      <th>10</th>\n",
              "      <th>...</th>\n",
              "      <th>81</th>\n",
              "      <th>82</th>\n",
              "      <th>83</th>\n",
              "      <th>84</th>\n",
              "      <th>85</th>\n",
              "      <th>86</th>\n",
              "      <th>87</th>\n",
              "      <th>88</th>\n",
              "      <th>89</th>\n",
              "      <th>90</th>\n",
              "    </tr>\n",
              "  </thead>\n",
              "  <tbody>\n",
              "    <tr>\n",
              "      <th>432804</th>\n",
              "      <td>44.84827</td>\n",
              "      <td>-63.52746</td>\n",
              "      <td>39.62962</td>\n",
              "      <td>4.76874</td>\n",
              "      <td>3.63452</td>\n",
              "      <td>-15.78054</td>\n",
              "      <td>11.35907</td>\n",
              "      <td>-7.77886</td>\n",
              "      <td>19.39953</td>\n",
              "      <td>-3.38522</td>\n",
              "      <td>...</td>\n",
              "      <td>-1.72216</td>\n",
              "      <td>-117.17036</td>\n",
              "      <td>86.56313</td>\n",
              "      <td>58.32602</td>\n",
              "      <td>-1.10826</td>\n",
              "      <td>-5.98171</td>\n",
              "      <td>155.39741</td>\n",
              "      <td>-1.32106</td>\n",
              "      <td>-16.81849</td>\n",
              "      <td>2.63945</td>\n",
              "    </tr>\n",
              "    <tr>\n",
              "      <th>14107</th>\n",
              "      <td>40.64447</td>\n",
              "      <td>-132.69806</td>\n",
              "      <td>61.71749</td>\n",
              "      <td>7.65651</td>\n",
              "      <td>-64.88847</td>\n",
              "      <td>-10.53420</td>\n",
              "      <td>14.03082</td>\n",
              "      <td>-0.85293</td>\n",
              "      <td>-13.30655</td>\n",
              "      <td>-10.10274</td>\n",
              "      <td>...</td>\n",
              "      <td>32.31195</td>\n",
              "      <td>111.74395</td>\n",
              "      <td>3.11314</td>\n",
              "      <td>-23.91776</td>\n",
              "      <td>3.58467</td>\n",
              "      <td>-12.76738</td>\n",
              "      <td>31.68369</td>\n",
              "      <td>5.22281</td>\n",
              "      <td>-1.22578</td>\n",
              "      <td>12.82205</td>\n",
              "    </tr>\n",
              "    <tr>\n",
              "      <th>445704</th>\n",
              "      <td>42.83931</td>\n",
              "      <td>-62.36282</td>\n",
              "      <td>38.25557</td>\n",
              "      <td>10.82303</td>\n",
              "      <td>11.63044</td>\n",
              "      <td>-24.96657</td>\n",
              "      <td>7.75105</td>\n",
              "      <td>-7.83695</td>\n",
              "      <td>-7.74882</td>\n",
              "      <td>-10.74002</td>\n",
              "      <td>...</td>\n",
              "      <td>130.40625</td>\n",
              "      <td>-52.05532</td>\n",
              "      <td>-1.11332</td>\n",
              "      <td>-50.03516</td>\n",
              "      <td>-29.30650</td>\n",
              "      <td>-46.26227</td>\n",
              "      <td>-186.60942</td>\n",
              "      <td>-8.84056</td>\n",
              "      <td>-106.53343</td>\n",
              "      <td>40.91720</td>\n",
              "    </tr>\n",
              "    <tr>\n",
              "      <th>360598</th>\n",
              "      <td>48.06036</td>\n",
              "      <td>-3.44522</td>\n",
              "      <td>7.65788</td>\n",
              "      <td>5.75887</td>\n",
              "      <td>0.64289</td>\n",
              "      <td>-11.55394</td>\n",
              "      <td>19.69670</td>\n",
              "      <td>-0.30330</td>\n",
              "      <td>15.47389</td>\n",
              "      <td>-2.81710</td>\n",
              "      <td>...</td>\n",
              "      <td>-8.50756</td>\n",
              "      <td>-95.76863</td>\n",
              "      <td>44.13172</td>\n",
              "      <td>86.90574</td>\n",
              "      <td>-1.88630</td>\n",
              "      <td>2.83544</td>\n",
              "      <td>-38.33097</td>\n",
              "      <td>2.80345</td>\n",
              "      <td>-96.88037</td>\n",
              "      <td>-9.37875</td>\n",
              "    </tr>\n",
              "    <tr>\n",
              "      <th>443245</th>\n",
              "      <td>43.18513</td>\n",
              "      <td>48.78499</td>\n",
              "      <td>-18.89776</td>\n",
              "      <td>-16.00906</td>\n",
              "      <td>-8.71047</td>\n",
              "      <td>-3.88508</td>\n",
              "      <td>-11.62025</td>\n",
              "      <td>-9.23192</td>\n",
              "      <td>-5.87327</td>\n",
              "      <td>-1.11433</td>\n",
              "      <td>...</td>\n",
              "      <td>-4.16870</td>\n",
              "      <td>78.54464</td>\n",
              "      <td>1.76344</td>\n",
              "      <td>27.48088</td>\n",
              "      <td>11.01302</td>\n",
              "      <td>13.12671</td>\n",
              "      <td>-103.15496</td>\n",
              "      <td>-2.30336</td>\n",
              "      <td>27.81066</td>\n",
              "      <td>-2.38488</td>\n",
              "    </tr>\n",
              "    <tr>\n",
              "      <th>...</th>\n",
              "      <td>...</td>\n",
              "      <td>...</td>\n",
              "      <td>...</td>\n",
              "      <td>...</td>\n",
              "      <td>...</td>\n",
              "      <td>...</td>\n",
              "      <td>...</td>\n",
              "      <td>...</td>\n",
              "      <td>...</td>\n",
              "      <td>...</td>\n",
              "      <td>...</td>\n",
              "      <td>...</td>\n",
              "      <td>...</td>\n",
              "      <td>...</td>\n",
              "      <td>...</td>\n",
              "      <td>...</td>\n",
              "      <td>...</td>\n",
              "      <td>...</td>\n",
              "      <td>...</td>\n",
              "      <td>...</td>\n",
              "      <td>...</td>\n",
              "    </tr>\n",
              "    <tr>\n",
              "      <th>259178</th>\n",
              "      <td>44.32199</td>\n",
              "      <td>-23.81309</td>\n",
              "      <td>-13.53284</td>\n",
              "      <td>-20.22994</td>\n",
              "      <td>-8.27441</td>\n",
              "      <td>-13.11242</td>\n",
              "      <td>-7.13980</td>\n",
              "      <td>-2.96502</td>\n",
              "      <td>1.87100</td>\n",
              "      <td>-0.17680</td>\n",
              "      <td>...</td>\n",
              "      <td>38.74888</td>\n",
              "      <td>87.98865</td>\n",
              "      <td>62.25886</td>\n",
              "      <td>-3.28936</td>\n",
              "      <td>2.11499</td>\n",
              "      <td>-80.15949</td>\n",
              "      <td>-126.87331</td>\n",
              "      <td>5.21554</td>\n",
              "      <td>-72.42765</td>\n",
              "      <td>1.92268</td>\n",
              "    </tr>\n",
              "    <tr>\n",
              "      <th>365838</th>\n",
              "      <td>55.31715</td>\n",
              "      <td>45.93366</td>\n",
              "      <td>41.56784</td>\n",
              "      <td>-6.89224</td>\n",
              "      <td>-24.65473</td>\n",
              "      <td>-20.43824</td>\n",
              "      <td>7.44115</td>\n",
              "      <td>6.72527</td>\n",
              "      <td>-4.22937</td>\n",
              "      <td>2.10896</td>\n",
              "      <td>...</td>\n",
              "      <td>-3.14755</td>\n",
              "      <td>-31.40562</td>\n",
              "      <td>17.90573</td>\n",
              "      <td>0.87750</td>\n",
              "      <td>2.43974</td>\n",
              "      <td>-0.39560</td>\n",
              "      <td>16.05061</td>\n",
              "      <td>0.23265</td>\n",
              "      <td>57.42801</td>\n",
              "      <td>1.66406</td>\n",
              "    </tr>\n",
              "    <tr>\n",
              "      <th>131932</th>\n",
              "      <td>46.28889</td>\n",
              "      <td>23.56662</td>\n",
              "      <td>-9.55045</td>\n",
              "      <td>2.52348</td>\n",
              "      <td>-20.92755</td>\n",
              "      <td>-14.06585</td>\n",
              "      <td>3.47423</td>\n",
              "      <td>-0.59447</td>\n",
              "      <td>3.71155</td>\n",
              "      <td>6.64269</td>\n",
              "      <td>...</td>\n",
              "      <td>3.36283</td>\n",
              "      <td>117.83089</td>\n",
              "      <td>-38.60685</td>\n",
              "      <td>71.93546</td>\n",
              "      <td>22.44123</td>\n",
              "      <td>19.21300</td>\n",
              "      <td>-262.93731</td>\n",
              "      <td>3.20689</td>\n",
              "      <td>-142.63874</td>\n",
              "      <td>-26.27662</td>\n",
              "    </tr>\n",
              "    <tr>\n",
              "      <th>146867</th>\n",
              "      <td>43.55954</td>\n",
              "      <td>11.81148</td>\n",
              "      <td>-23.47619</td>\n",
              "      <td>-27.76221</td>\n",
              "      <td>-23.67627</td>\n",
              "      <td>-25.48018</td>\n",
              "      <td>-25.80220</td>\n",
              "      <td>-9.52762</td>\n",
              "      <td>24.17281</td>\n",
              "      <td>9.29710</td>\n",
              "      <td>...</td>\n",
              "      <td>89.18690</td>\n",
              "      <td>-5.00498</td>\n",
              "      <td>19.91281</td>\n",
              "      <td>-17.50665</td>\n",
              "      <td>8.34713</td>\n",
              "      <td>-6.84043</td>\n",
              "      <td>-102.85199</td>\n",
              "      <td>16.61852</td>\n",
              "      <td>-110.42362</td>\n",
              "      <td>25.18114</td>\n",
              "    </tr>\n",
              "    <tr>\n",
              "      <th>121958</th>\n",
              "      <td>46.24465</td>\n",
              "      <td>23.71582</td>\n",
              "      <td>33.48507</td>\n",
              "      <td>-10.79635</td>\n",
              "      <td>-19.83903</td>\n",
              "      <td>-10.93768</td>\n",
              "      <td>-31.58949</td>\n",
              "      <td>-10.55502</td>\n",
              "      <td>16.51100</td>\n",
              "      <td>-3.04537</td>\n",
              "      <td>...</td>\n",
              "      <td>-20.50959</td>\n",
              "      <td>-131.93392</td>\n",
              "      <td>41.57847</td>\n",
              "      <td>-8.13366</td>\n",
              "      <td>2.81061</td>\n",
              "      <td>-16.41314</td>\n",
              "      <td>-57.09566</td>\n",
              "      <td>12.53452</td>\n",
              "      <td>-37.97646</td>\n",
              "      <td>15.99634</td>\n",
              "    </tr>\n",
              "  </tbody>\n",
              "</table>\n",
              "<p>412276 rows × 90 columns</p>\n",
              "</div>\n",
              "      <button class=\"colab-df-convert\" onclick=\"convertToInteractive('df-428a4568-d676-4756-8b45-f63b7e76d001')\"\n",
              "              title=\"Convert this dataframe to an interactive table.\"\n",
              "              style=\"display:none;\">\n",
              "        \n",
              "  <svg xmlns=\"http://www.w3.org/2000/svg\" height=\"24px\"viewBox=\"0 0 24 24\"\n",
              "       width=\"24px\">\n",
              "    <path d=\"M0 0h24v24H0V0z\" fill=\"none\"/>\n",
              "    <path d=\"M18.56 5.44l.94 2.06.94-2.06 2.06-.94-2.06-.94-.94-2.06-.94 2.06-2.06.94zm-11 1L8.5 8.5l.94-2.06 2.06-.94-2.06-.94L8.5 2.5l-.94 2.06-2.06.94zm10 10l.94 2.06.94-2.06 2.06-.94-2.06-.94-.94-2.06-.94 2.06-2.06.94z\"/><path d=\"M17.41 7.96l-1.37-1.37c-.4-.4-.92-.59-1.43-.59-.52 0-1.04.2-1.43.59L10.3 9.45l-7.72 7.72c-.78.78-.78 2.05 0 2.83L4 21.41c.39.39.9.59 1.41.59.51 0 1.02-.2 1.41-.59l7.78-7.78 2.81-2.81c.8-.78.8-2.07 0-2.86zM5.41 20L4 18.59l7.72-7.72 1.47 1.35L5.41 20z\"/>\n",
              "  </svg>\n",
              "      </button>\n",
              "      \n",
              "  <style>\n",
              "    .colab-df-container {\n",
              "      display:flex;\n",
              "      flex-wrap:wrap;\n",
              "      gap: 12px;\n",
              "    }\n",
              "\n",
              "    .colab-df-convert {\n",
              "      background-color: #E8F0FE;\n",
              "      border: none;\n",
              "      border-radius: 50%;\n",
              "      cursor: pointer;\n",
              "      display: none;\n",
              "      fill: #1967D2;\n",
              "      height: 32px;\n",
              "      padding: 0 0 0 0;\n",
              "      width: 32px;\n",
              "    }\n",
              "\n",
              "    .colab-df-convert:hover {\n",
              "      background-color: #E2EBFA;\n",
              "      box-shadow: 0px 1px 2px rgba(60, 64, 67, 0.3), 0px 1px 3px 1px rgba(60, 64, 67, 0.15);\n",
              "      fill: #174EA6;\n",
              "    }\n",
              "\n",
              "    [theme=dark] .colab-df-convert {\n",
              "      background-color: #3B4455;\n",
              "      fill: #D2E3FC;\n",
              "    }\n",
              "\n",
              "    [theme=dark] .colab-df-convert:hover {\n",
              "      background-color: #434B5C;\n",
              "      box-shadow: 0px 1px 3px 1px rgba(0, 0, 0, 0.15);\n",
              "      filter: drop-shadow(0px 1px 2px rgba(0, 0, 0, 0.3));\n",
              "      fill: #FFFFFF;\n",
              "    }\n",
              "  </style>\n",
              "\n",
              "      <script>\n",
              "        const buttonEl =\n",
              "          document.querySelector('#df-428a4568-d676-4756-8b45-f63b7e76d001 button.colab-df-convert');\n",
              "        buttonEl.style.display =\n",
              "          google.colab.kernel.accessAllowed ? 'block' : 'none';\n",
              "\n",
              "        async function convertToInteractive(key) {\n",
              "          const element = document.querySelector('#df-428a4568-d676-4756-8b45-f63b7e76d001');\n",
              "          const dataTable =\n",
              "            await google.colab.kernel.invokeFunction('convertToInteractive',\n",
              "                                                     [key], {});\n",
              "          if (!dataTable) return;\n",
              "\n",
              "          const docLinkHtml = 'Like what you see? Visit the ' +\n",
              "            '<a target=\"_blank\" href=https://colab.research.google.com/notebooks/data_table.ipynb>data table notebook</a>'\n",
              "            + ' to learn more about interactive tables.';\n",
              "          element.innerHTML = '';\n",
              "          dataTable['output_type'] = 'display_data';\n",
              "          await google.colab.output.renderOutput(dataTable, element);\n",
              "          const docLink = document.createElement('div');\n",
              "          docLink.innerHTML = docLinkHtml;\n",
              "          element.appendChild(docLink);\n",
              "        }\n",
              "      </script>\n",
              "    </div>\n",
              "  </div>\n",
              "  "
            ]
          },
          "metadata": {}
        }
      ]
    },
    {
      "cell_type": "markdown",
      "source": [
        "# Preprocesado de los datos"
      ],
      "metadata": {
        "id": "aevwUvwlwZl_"
      }
    },
    {
      "cell_type": "markdown",
      "source": [
        "La idea es ir realizando un estudio estadístico respecto las variables, buscando valores faltantes, valores extremos y fuera de la distribución normal y todos los posibles pequeños fallos y ruidos que puedan haber dentro de nuestro conjunto de datos. \n",
        "\n",
        "Lo primero que he decidido hacer es verificar la distribución de datos como en la práctica anterior mediante un histograma."
      ],
      "metadata": {
        "id": "RPCOR39bx7tb"
      }
    },
    {
      "cell_type": "code",
      "source": [
        "import matplotlib.pyplot as plt\n",
        "plt.figure(dpi=80,figsize=(10,8))\n",
        "plt.hist(ydata.values[:],histtype='step')\n",
        "plt.grid()\n",
        "plt.show()"
      ],
      "metadata": {
        "id": "8iYi3GlXzvI9",
        "colab": {
          "base_uri": "https://localhost:8080/",
          "height": 533
        },
        "outputId": "8d05d786-0737-4dc8-8d18-351a207732bf"
      },
      "execution_count": null,
      "outputs": [
        {
          "output_type": "display_data",
          "data": {
            "text/plain": [
              "<Figure size 800x640 with 1 Axes>"
            ],
            "image/png": "[encoded data removed]"
          },
          "metadata": {
            "needs_background": "light"
          }
        }
      ]
    },
    {
      "cell_type": "markdown",
      "source": [
        "Vemos que tenemos mucho más datos de los últimos años que de anteriormente. Podemos esperar un mejor rendimiento para predecir los datos de los 2000's. Y tendremos que tener cuidado con el rendimiento de nuestro modelo sobre los datos de los años anteriores."
      ],
      "metadata": {
        "id": "CCfSCZIxzvJB"
      }
    },
    {
      "cell_type": "markdown",
      "source": [
        "#### Histograma Bonito "
      ],
      "metadata": {
        "id": "43zQDkV0xrYu"
      }
    },
    {
      "cell_type": "code",
      "source": [
        "import matplotlib.pyplot as plt \n",
        "\n",
        "def histogram(x,bins,xlabel=\"\"):\n",
        "  plt.style.use('ggplot')\n",
        "  fig, ax = plt.subplots(figsize = (10,8))\n",
        "  if(type(x.values[0])!=str):\n",
        "    # Plot histogram\n",
        "    x.plot(kind = \"hist\", density = True, alpha = 0.65, bins = bins) # change density to true, because KDE uses density\n",
        "    # Plot KDE\n",
        "    x.plot(kind = \"kde\")\n",
        "\n",
        "        # Quantile lines\n",
        "    quant_5, quant_25, quant_50, quant_75, quant_95 = x.quantile(0.05), x.quantile(0.25), x.quantile(0.5), x.quantile(0.75), x.quantile(0.95)\n",
        "    quants = [[quant_5, 0.6, 0.16], [quant_25, 0.8, 0.26], [quant_50, 1, 0.36],  [quant_75, 0.8, 0.46], [quant_95, 0.6, 0.56]]\n",
        "    for i in quants:\n",
        "        ax.axvline(i[0], alpha = i[1], ymax = i[2], linestyle = \":\",color=\"blue\")\n",
        "        \n",
        "    ax.set_xlim(0,100)\n",
        "    ax.set_xlabel(xlabel) \n",
        "    ax.set_ylabel(\"\")\n",
        "    \n",
        "    # Annotations\n",
        "    ax.text(quant_5-.5, 0.012, \"5th\", size = 10, alpha = 0.8)\n",
        "    ax.text(quant_25-.25, 0.020, \"25th\", size = 11, alpha = 0.85)\n",
        "    ax.text(quant_50-.25, 0.025, \"50th\", size = 12, alpha = 1)\n",
        "    ax.text(quant_75-.25, 0.030, \"75th\", size = 11, alpha = 0.85)\n",
        "    ax.text(quant_95-.45, 0.036, \"95th Percentile\", size = 10, alpha =.8)\n",
        "  else:\n",
        "    x.value_counts().plot(kind = \"bar\", alpha = 0.65)\n",
        "  \n",
        "  \n",
        "  # Overall\n",
        "  ax.grid(False)\n",
        "  \n",
        "      # Remove ticks and spines\n",
        "  ax.tick_params(left = False, bottom = False)\n",
        "  for ax, spine in ax.spines.items():\n",
        "      spine.set_visible(False)\n",
        "      \n",
        "  plt.show()\n"
      ],
      "metadata": {
        "id": "IdnF8gIIL4Kq"
      },
      "execution_count": null,
      "outputs": []
    },
    {
      "cell_type": "markdown",
      "source": [
        "## Estudio Estadístico"
      ],
      "metadata": {
        "id": "MB_IVFtVwx5H"
      }
    },
    {
      "cell_type": "code",
      "source": [
        "histogram(data[1],bins=10)"
      ],
      "metadata": {
        "id": "cELWPJZbyHTL",
        "colab": {
          "base_uri": "https://localhost:8080/",
          "height": 483
        },
        "outputId": "793b8351-5f85-49b1-c849-bdddc8d47730"
      },
      "execution_count": null,
      "outputs": [
        {
          "output_type": "display_data",
          "data": {
            "text/plain": [
              "<Figure size 720x576 with 1 Axes>"
            ],
            "image/png": "[encoded data removed]"
          },
          "metadata": {}
        }
      ]
    },
    {
      "cell_type": "markdown",
      "source": [
        "Vemos que para los primeros datos tenemos una distribución bastante regular, similar a una campana gaussiana. Por lo que podremos suponer que no haya problemas con ese atributo, pero habría que indagar.\n",
        "\n",
        "Sin embargo, si nos ponemos a dibujar el histograma para los 90 atributos...\n",
        "Mejor optaré por estudiar de manera análitica los resultados utilizando métricas como la media, varianza, mínimos y máximos con ayuda de la librería pandas.\n",
        "\n",
        "Con eso podremos entender que columnas tienen datos faltantes, que columnas tienen variaciones extrañas y alta desviación de manera más eficaz."
      ],
      "metadata": {
        "id": "MhbgmZI8yb5e"
      }
    },
    {
      "cell_type": "code",
      "source": [
        "import numpy as np\n",
        "import statistics as st\n",
        "from scipy.stats import skew \n",
        "\n",
        "mean_table = data.mean(axis=0,skipna=False)\n",
        "var_table = data.var(axis=0)\n",
        "std_table = data.std(axis=0)"
      ],
      "metadata": {
        "id": "axxFRPvszEuB"
      },
      "execution_count": null,
      "outputs": []
    },
    {
      "cell_type": "code",
      "source": [
        "missing_data = np.where(mean_table==np.NaN)\n",
        "display(missing_data)"
      ],
      "metadata": {
        "id": "1Wz6F1Fr0Up9",
        "colab": {
          "base_uri": "https://localhost:8080/",
          "height": 34
        },
        "outputId": "d9d36a45-ee5d-41c2-fb07-d98d26db7358"
      },
      "execution_count": null,
      "outputs": [
        {
          "output_type": "display_data",
          "data": {
            "text/plain": [
              "(array([], dtype=int64),)"
            ]
          },
          "metadata": {}
        }
      ]
    },
    {
      "cell_type": "markdown",
      "source": [
        "Al parecer no tenemos ningún dato faltante en nuestro conjunto de datos, ya que hemos utilizado la librería pandas con el parámetro \"skipna=False\" para la media haciendo que si tuvieramos algún valor faltante el valor devuelto por la función sería de tipo \"np.NaN\" y al filtrar vemos que nos da un vector vacío.\n",
        "\n",
        "Sin embargo, tenemos varianzas muy grandes en varias componentes, veremos: "
      ],
      "metadata": {
        "id": "h-7CurIA12qv"
      }
    },
    {
      "cell_type": "code",
      "source": [
        "print(\"### Análisis de varianza y desviación típica ### \") \n",
        "big_var = np.array(np.where(var_table > 1000)[0])\n",
        "print(\"Posiciones con alta varianza:\\n\", big_var, \" - Size: \" , big_var.shape[0]) \n",
        "big_std = np.array(np.where(std_table > 1000)[0])\n",
        "print(\"Posiciones con alta desviación:\\n \", big_std, \" - Size: \" , big_std.shape[0]) \n",
        "print(\"#################################################\")"
      ],
      "metadata": {
        "id": "Sd2dr0q22Iok",
        "colab": {
          "base_uri": "https://localhost:8080/"
        },
        "outputId": "1bb9d72c-7407-4a17-be5b-d6038382643d"
      },
      "execution_count": null,
      "outputs": [
        {
          "output_type": "stream",
          "name": "stdout",
          "text": [
            "### Análisis de varianza y desviación típica ### \n",
            "Posiciones con alta varianza:\n",
            " [ 1  2 13 14 15 16 17 18 19 20 21 22 23 24 25 26 27 28 29 30 31 32 33 34\n",
            " 35 36 37 38 39 40 41 42 43 44 45 46 47 48 49 50 51 52 53 54 55 56 57 58\n",
            " 59 60 61 62 63 64 65 66 67 68 69 70 71 72 73 74 76 77 78 79 80 81 82 83\n",
            " 85 86 88]  - Size:  75\n",
            "Posiciones con alta desviación:\n",
            "  [13 14 15]  - Size:  3\n",
            "#################################################\n"
          ]
        }
      ]
    },
    {
      "cell_type": "markdown",
      "source": [
        "Vemos con esto que más de la mitad de los datos aparentan tener varianzas y desviaciones típicas grandes. Podemos realizar un análisis con la ayuda de un boxplot y la librería scipy como en la práctica anterior para intentar encontrar los valores extremos: "
      ],
      "metadata": {
        "id": "NvMvuBbT2XTi"
      }
    },
    {
      "cell_type": "code",
      "source": [
        "from scipy import stats \n",
        "zsc = np.abs(data.select_dtypes(include='number').apply(stats.zscore))\n",
        "threshold = 3"
      ],
      "metadata": {
        "id": "fBEiqLDo4BQc"
      },
      "execution_count": null,
      "outputs": []
    },
    {
      "cell_type": "code",
      "source": [
        "cols = list(data.columns)\n",
        "outliers = []\n",
        "for col in cols:\n",
        "  if len(zsc[col][zsc[col]>threshold])>2:\n",
        "    outliers.append(col)\n",
        "\n",
        "print(\"Las columnas con outliers son:\", outliers)"
      ],
      "metadata": {
        "id": "Km7plPL7Cjtl",
        "colab": {
          "base_uri": "https://localhost:8080/"
        },
        "outputId": "8c778727-3903-4053-e652-648689f48fb4"
      },
      "execution_count": null,
      "outputs": [
        {
          "output_type": "stream",
          "name": "stdout",
          "text": [
            "Las columnas con outliers son: [1, 2, 3, 4, 5, 6, 7, 8, 9, 10, 11, 12, 13, 14, 15, 16, 17, 18, 19, 20, 21, 22, 23, 24, 25, 26, 27, 28, 29, 30, 31, 32, 33, 34, 35, 36, 37, 38, 39, 40, 41, 42, 43, 44, 45, 46, 47, 48, 49, 50, 51, 52, 53, 54, 55, 56, 57, 58, 59, 60, 61, 62, 63, 64, 65, 66, 67, 68, 69, 70, 71, 72, 73, 74, 75, 76, 77, 78, 79, 80, 81, 82, 83, 84, 85, 86, 87, 88, 89, 90]\n"
          ]
        }
      ]
    },
    {
      "cell_type": "markdown",
      "source": [
        "Vemos que como es esperable para un conjunto de datos tan grande es que tenemos miles de supuestos outliers, casi enteramente en todas las columnas.\n",
        "Con esa información lo que podemos es verificar gráficamente el boxplot que produce nuestros datos: "
      ],
      "metadata": {
        "id": "gI8efO2KD2xY"
      }
    },
    {
      "cell_type": "code",
      "source": [
        "import seaborn as sns \n",
        "max_bal = data[2].max()\n",
        "min_bal = data[2].min()\n",
        "median_bal = data[2].median()\n",
        "print(\"### Estudiando atributo balance ### \" )\n",
        "print(\"Valor mínimo:\",min_bal,\"Mediana:\",median_bal,\"Valor máximo:\",max_bal) \n",
        "print(\"####################################\")\n",
        "sns.set(rc={'figure.figsize':(11.7,8.27)})\n",
        "sns.boxplot(y=data[2])\n",
        "plt.show()"
      ],
      "metadata": {
        "id": "i2N7BjuUDtbF",
        "colab": {
          "base_uri": "https://localhost:8080/",
          "height": 532
        },
        "outputId": "62b7f8cd-3d4e-44d6-dd64-d118dfc66ae9"
      },
      "execution_count": null,
      "outputs": [
        {
          "output_type": "stream",
          "name": "stdout",
          "text": [
            "### Estudiando atributo balance ### \n",
            "Valor mínimo: -337.0925 Mediana: 8.41305 Valor máximo: 384.06573\n",
            "####################################\n"
          ]
        },
        {
          "output_type": "display_data",
          "data": {
            "text/plain": [
              "<Figure size 842.4x595.44 with 1 Axes>"
            ],
            "image/png": "[encoded data removed]"
          },
          "metadata": {}
        }
      ]
    },
    {
      "cell_type": "code",
      "source": [
        "uniq_index = np.unique(np.array(np.where(zsc>threshold)[0]))\n",
        "print(\"Cantidad de outliers: \",len(uniq_index))"
      ],
      "metadata": {
        "id": "5X_mAh5fEXa1",
        "colab": {
          "base_uri": "https://localhost:8080/"
        },
        "outputId": "d99ef253-926d-472b-ec3a-44419a1194fa"
      },
      "execution_count": null,
      "outputs": [
        {
          "output_type": "stream",
          "name": "stdout",
          "text": [
            "Cantidad de outliers:  114319\n"
          ]
        }
      ]
    },
    {
      "cell_type": "markdown",
      "source": [
        "Vemos que al parecer tenemos más de 100.000 \"outliers\". Eso equivale +20% porciento aproximandamente. Por lo que antes de directamente eliminarlos, voy a verificar la correlación entre los valores y los outliers por medio de un análisis multidimensional como mencionado en prácticas.\n",
        "\n",
        "Como tenemos muchisima cantidad de datos voy a utilizar mejor el IsolationForest en vez de LocalOutlierFactor por el tiempo de cómputo esperado."
      ],
      "metadata": {
        "id": "5dVZFpqm9BKW"
      }
    },
    {
      "cell_type": "code",
      "source": [
        "from sklearn.ensemble import IsolationForest\n",
        "colNames = list(data.columns)\n",
        "isf = IsolationForest(n_estimators=100,random_state=42,contamination='auto')\n",
        "preds = isf.fit_predict(data[colNames])\n",
        "ndata  = pd.DataFrame(data=preds,columns=[\"iso_forest_outliers\"]) \n",
        "ndata[\"iso_forest_outliers\"] = ndata[\"iso_forest_outliers\"].astype(str)\n",
        "ndata[\"iso_forest_scores\"] = isf.decision_function(data[colNames])\n",
        "print(ndata[\"iso_forest_outliers\"].value_counts())"
      ],
      "metadata": {
        "id": "_x3Znoa8fTZ_",
        "colab": {
          "base_uri": "https://localhost:8080/"
        },
        "outputId": "d4829e8d-e176-4b76-bcd6-443db125f3ab"
      },
      "execution_count": null,
      "outputs": [
        {
          "output_type": "stream",
          "name": "stdout",
          "text": [
            "1     392982\n",
            "-1     19294\n",
            "Name: iso_forest_outliers, dtype: int64\n"
          ]
        }
      ]
    },
    {
      "cell_type": "markdown",
      "source": [
        "Vemos que tenemos un dato muchísimo mejor respecto al número de outliers. Una proporción más adecuada. Realizaré la limpieza de esos datos."
      ],
      "metadata": {
        "id": "Ctvevp7ozEhU"
      }
    },
    {
      "cell_type": "code",
      "source": [
        "uniq_index = np.array(np.where(ndata[\"iso_forest_outliers\"].astype(int)<1)[0])\n",
        "print(\"Before removing outliers: \",len(data),uniq_index.shape[0])\n",
        "data = data.drop(data.index[uniq_index])\n",
        "ydata = ydata.drop(ydata.index[uniq_index])\n",
        "print(\"After removing outliers: \",len(data),len(ydata))"
      ],
      "metadata": {
        "id": "8R_bOb3qJq1e",
        "colab": {
          "base_uri": "https://localhost:8080/"
        },
        "outputId": "91932a52-e9df-4f75-8273-906b833e8c15"
      },
      "execution_count": null,
      "outputs": [
        {
          "output_type": "stream",
          "name": "stdout",
          "text": [
            "Before removing outliers:  412276 19294\n",
            "After removing outliers:  392982 392982\n"
          ]
        }
      ]
    },
    {
      "cell_type": "markdown",
      "source": [
        "Hasta aquí llega mi estudio y preprocesado de los datos de partida para el problema de regresión lineal. A partir de ahora vamos a normalizar los datos y realizar la discusión entre modelos."
      ],
      "metadata": {
        "id": "u4zYZXtapYhT"
      }
    },
    {
      "cell_type": "markdown",
      "source": [
        "## Transformaciones de los Datos."
      ],
      "metadata": {
        "id": "O6UJmKHPw1H1"
      }
    },
    {
      "cell_type": "markdown",
      "source": [
        "Vamos a normalizar los datos para mejorar el rendimiento de nuestros posibles modelos. Para ello utilizaremos el mismo transformador que en la práctica anterior que hace uso de la media y de la varianza, dónde le resta la primera y divide sobre la segunda para obtener valores dentro de un intervalo adecuado."
      ],
      "metadata": {
        "id": "WjljmjB-PVxb"
      }
    },
    {
      "cell_type": "code",
      "source": [
        "from sklearn import preprocessing\n",
        "from sklearn.preprocessing import StandardScaler\n",
        "\n",
        "scaler = StandardScaler()\n",
        "Scltransformed = scaler.fit_transform(data)\n",
        "cols = scaler.get_feature_names_out()\n",
        "for i,col in enumerate(cols): \n",
        "  cols[i] = col[col.find(\"_\")+2:]\n",
        "tdata = pd.DataFrame(data=Scltransformed,columns=cols)\n",
        "display(tdata) "
      ],
      "metadata": {
        "id": "V3UIuTfzO-db",
        "colab": {
          "base_uri": "https://localhost:8080/",
          "height": 488
        },
        "outputId": "4f2eda0e-71fa-4f85-e8e5-ef7968bfe7f2"
      },
      "execution_count": null,
      "outputs": [
        {
          "output_type": "display_data",
          "data": {
            "text/plain": [
              "               0         1         2         3         4         5         6  \\\n",
              "0       0.186414 -1.323872  0.911415  0.303380  0.488992 -0.478995  0.979163   \n",
              "1      -0.545052 -2.709988  1.578771  0.502302 -2.606905 -0.046202  1.170029   \n",
              "2      -0.163147 -1.300534  0.869900  0.720425  0.850251 -1.236790  0.721412   \n",
              "3       0.745321 -0.119879 -0.054569  0.371585  0.353829 -0.130324  1.574789   \n",
              "4      -0.102974  0.926767 -0.856913 -1.127881 -0.068759  0.502313 -0.662440   \n",
              "...          ...       ...       ...       ...       ...       ...       ...   \n",
              "392977  0.094840 -0.528032 -0.694819 -1.418633 -0.049058 -0.258890 -0.342365   \n",
              "392978  2.008009  0.869629  0.969976 -0.499877 -0.789128 -0.863229  0.699274   \n",
              "392979  0.437083  0.421414 -0.574496  0.148717 -0.620732 -0.337543  0.415884   \n",
              "392980 -0.037827  0.185851 -0.995244 -1.937488 -0.744921 -1.279160 -1.675575   \n",
              "392981  0.429385  0.424403  0.725766 -0.768808 -0.571552 -0.079486 -2.089009   \n",
              "\n",
              "               7         8         9  ...        80        81        82  \\\n",
              "0      -0.765625  1.520537 -0.811050  ... -0.567134 -0.333221  0.490896   \n",
              "1       0.155123 -1.710058 -1.870721  ...  0.641870  1.200449 -0.318270   \n",
              "2      -0.773348 -1.161084 -1.971250  ...  4.126504  0.103034 -0.359251   \n",
              "3       0.228192  1.132775 -0.721431  ... -0.808174 -0.189834  0.079463   \n",
              "4      -0.958798 -0.975824 -0.452823  ... -0.654043  0.978022 -0.331357   \n",
              "...          ...       ...       ...  ...       ...       ...       ...   \n",
              "392977 -0.125663 -0.210872 -0.304930  ...  0.870531  1.041294  0.255232   \n",
              "392978  1.162586 -0.813445  0.055642  ... -0.617769  0.241382 -0.174835   \n",
              "392979  0.189484 -0.029068  0.770826  ... -0.386498  1.241230 -0.722804   \n",
              "392980 -0.998109  1.992025  1.189552  ...  2.662256  0.418260 -0.155373   \n",
              "392981 -1.134694  1.235218 -0.757440  ... -1.234526 -0.432133  0.054706   \n",
              "\n",
              "              83        84        85        86        87        88        89  \n",
              "0       0.271724 -0.126413 -0.251954  1.203149 -0.447390 -0.220847  0.100105  \n",
              "1      -0.757051  0.200392 -0.322970  0.378234  0.110039 -0.120257  0.618446  \n",
              "2      -1.083750 -2.090071 -0.673514 -1.077330 -1.087928 -0.799602  2.048617  \n",
              "3       0.629223 -0.180594 -0.159678 -0.088619 -0.096050 -0.737330 -0.511676  \n",
              "4      -0.114114  0.717684 -0.051974 -0.520861 -0.531066  0.067058 -0.155656  \n",
              "...          ...       ...       ...       ...       ...       ...       ...  \n",
              "392977 -0.499014  0.098047 -1.028268 -0.679014  0.109420 -0.579584  0.063618  \n",
              "392978 -0.446891  0.120662 -0.193492  0.273994 -0.315040  0.258121  0.050453  \n",
              "392979  0.441962  1.513518  0.011723 -1.586280 -0.061684 -1.032520 -1.371855  \n",
              "392980 -0.676856  0.532038 -0.260941 -0.518841  1.080766 -0.824698  1.247580  \n",
              "392981 -0.559610  0.146488 -0.361125 -0.213741  0.732876 -0.357338  0.780032  \n",
              "\n",
              "[392982 rows x 90 columns]"
            ],
            "text/html": [
              "\n",
              "  <div id=\"df-cb08b3d8-c322-4ec1-9597-4cff598de097\">\n",
              "    <div class=\"colab-df-container\">\n",
              "      <div>\n",
              "<style scoped>\n",
              "    .dataframe tbody tr th:only-of-type {\n",
              "        vertical-align: middle;\n",
              "    }\n",
              "\n",
              "    .dataframe tbody tr th {\n",
              "        vertical-align: top;\n",
              "    }\n",
              "\n",
              "    .dataframe thead th {\n",
              "        text-align: right;\n",
              "    }\n",
              "</style>\n",
              "<table border=\"1\" class=\"dataframe\">\n",
              "  <thead>\n",
              "    <tr style=\"text-align: right;\">\n",
              "      <th></th>\n",
              "      <th>0</th>\n",
              "      <th>1</th>\n",
              "      <th>2</th>\n",
              "      <th>3</th>\n",
              "      <th>4</th>\n",
              "      <th>5</th>\n",
              "      <th>6</th>\n",
              "      <th>7</th>\n",
              "      <th>8</th>\n",
              "      <th>9</th>\n",
              "      <th>...</th>\n",
              "      <th>80</th>\n",
              "      <th>81</th>\n",
              "      <th>82</th>\n",
              "      <th>83</th>\n",
              "      <th>84</th>\n",
              "      <th>85</th>\n",
              "      <th>86</th>\n",
              "      <th>87</th>\n",
              "      <th>88</th>\n",
              "      <th>89</th>\n",
              "    </tr>\n",
              "  </thead>\n",
              "  <tbody>\n",
              "    <tr>\n",
              "      <th>0</th>\n",
              "      <td>0.186414</td>\n",
              "      <td>-1.323872</td>\n",
              "      <td>0.911415</td>\n",
              "      <td>0.303380</td>\n",
              "      <td>0.488992</td>\n",
              "      <td>-0.478995</td>\n",
              "      <td>0.979163</td>\n",
              "      <td>-0.765625</td>\n",
              "      <td>1.520537</td>\n",
              "      <td>-0.811050</td>\n",
              "      <td>...</td>\n",
              "      <td>-0.567134</td>\n",
              "      <td>-0.333221</td>\n",
              "      <td>0.490896</td>\n",
              "      <td>0.271724</td>\n",
              "      <td>-0.126413</td>\n",
              "      <td>-0.251954</td>\n",
              "      <td>1.203149</td>\n",
              "      <td>-0.447390</td>\n",
              "      <td>-0.220847</td>\n",
              "      <td>0.100105</td>\n",
              "    </tr>\n",
              "    <tr>\n",
              "      <th>1</th>\n",
              "      <td>-0.545052</td>\n",
              "      <td>-2.709988</td>\n",
              "      <td>1.578771</td>\n",
              "      <td>0.502302</td>\n",
              "      <td>-2.606905</td>\n",
              "      <td>-0.046202</td>\n",
              "      <td>1.170029</td>\n",
              "      <td>0.155123</td>\n",
              "      <td>-1.710058</td>\n",
              "      <td>-1.870721</td>\n",
              "      <td>...</td>\n",
              "      <td>0.641870</td>\n",
              "      <td>1.200449</td>\n",
              "      <td>-0.318270</td>\n",
              "      <td>-0.757051</td>\n",
              "      <td>0.200392</td>\n",
              "      <td>-0.322970</td>\n",
              "      <td>0.378234</td>\n",
              "      <td>0.110039</td>\n",
              "      <td>-0.120257</td>\n",
              "      <td>0.618446</td>\n",
              "    </tr>\n",
              "    <tr>\n",
              "      <th>2</th>\n",
              "      <td>-0.163147</td>\n",
              "      <td>-1.300534</td>\n",
              "      <td>0.869900</td>\n",
              "      <td>0.720425</td>\n",
              "      <td>0.850251</td>\n",
              "      <td>-1.236790</td>\n",
              "      <td>0.721412</td>\n",
              "      <td>-0.773348</td>\n",
              "      <td>-1.161084</td>\n",
              "      <td>-1.971250</td>\n",
              "      <td>...</td>\n",
              "      <td>4.126504</td>\n",
              "      <td>0.103034</td>\n",
              "      <td>-0.359251</td>\n",
              "      <td>-1.083750</td>\n",
              "      <td>-2.090071</td>\n",
              "      <td>-0.673514</td>\n",
              "      <td>-1.077330</td>\n",
              "      <td>-1.087928</td>\n",
              "      <td>-0.799602</td>\n",
              "      <td>2.048617</td>\n",
              "    </tr>\n",
              "    <tr>\n",
              "      <th>3</th>\n",
              "      <td>0.745321</td>\n",
              "      <td>-0.119879</td>\n",
              "      <td>-0.054569</td>\n",
              "      <td>0.371585</td>\n",
              "      <td>0.353829</td>\n",
              "      <td>-0.130324</td>\n",
              "      <td>1.574789</td>\n",
              "      <td>0.228192</td>\n",
              "      <td>1.132775</td>\n",
              "      <td>-0.721431</td>\n",
              "      <td>...</td>\n",
              "      <td>-0.808174</td>\n",
              "      <td>-0.189834</td>\n",
              "      <td>0.079463</td>\n",
              "      <td>0.629223</td>\n",
              "      <td>-0.180594</td>\n",
              "      <td>-0.159678</td>\n",
              "      <td>-0.088619</td>\n",
              "      <td>-0.096050</td>\n",
              "      <td>-0.737330</td>\n",
              "      <td>-0.511676</td>\n",
              "    </tr>\n",
              "    <tr>\n",
              "      <th>4</th>\n",
              "      <td>-0.102974</td>\n",
              "      <td>0.926767</td>\n",
              "      <td>-0.856913</td>\n",
              "      <td>-1.127881</td>\n",
              "      <td>-0.068759</td>\n",
              "      <td>0.502313</td>\n",
              "      <td>-0.662440</td>\n",
              "      <td>-0.958798</td>\n",
              "      <td>-0.975824</td>\n",
              "      <td>-0.452823</td>\n",
              "      <td>...</td>\n",
              "      <td>-0.654043</td>\n",
              "      <td>0.978022</td>\n",
              "      <td>-0.331357</td>\n",
              "      <td>-0.114114</td>\n",
              "      <td>0.717684</td>\n",
              "      <td>-0.051974</td>\n",
              "      <td>-0.520861</td>\n",
              "      <td>-0.531066</td>\n",
              "      <td>0.067058</td>\n",
              "      <td>-0.155656</td>\n",
              "    </tr>\n",
              "    <tr>\n",
              "      <th>...</th>\n",
              "      <td>...</td>\n",
              "      <td>...</td>\n",
              "      <td>...</td>\n",
              "      <td>...</td>\n",
              "      <td>...</td>\n",
              "      <td>...</td>\n",
              "      <td>...</td>\n",
              "      <td>...</td>\n",
              "      <td>...</td>\n",
              "      <td>...</td>\n",
              "      <td>...</td>\n",
              "      <td>...</td>\n",
              "      <td>...</td>\n",
              "      <td>...</td>\n",
              "      <td>...</td>\n",
              "      <td>...</td>\n",
              "      <td>...</td>\n",
              "      <td>...</td>\n",
              "      <td>...</td>\n",
              "      <td>...</td>\n",
              "      <td>...</td>\n",
              "    </tr>\n",
              "    <tr>\n",
              "      <th>392977</th>\n",
              "      <td>0.094840</td>\n",
              "      <td>-0.528032</td>\n",
              "      <td>-0.694819</td>\n",
              "      <td>-1.418633</td>\n",
              "      <td>-0.049058</td>\n",
              "      <td>-0.258890</td>\n",
              "      <td>-0.342365</td>\n",
              "      <td>-0.125663</td>\n",
              "      <td>-0.210872</td>\n",
              "      <td>-0.304930</td>\n",
              "      <td>...</td>\n",
              "      <td>0.870531</td>\n",
              "      <td>1.041294</td>\n",
              "      <td>0.255232</td>\n",
              "      <td>-0.499014</td>\n",
              "      <td>0.098047</td>\n",
              "      <td>-1.028268</td>\n",
              "      <td>-0.679014</td>\n",
              "      <td>0.109420</td>\n",
              "      <td>-0.579584</td>\n",
              "      <td>0.063618</td>\n",
              "    </tr>\n",
              "    <tr>\n",
              "      <th>392978</th>\n",
              "      <td>2.008009</td>\n",
              "      <td>0.869629</td>\n",
              "      <td>0.969976</td>\n",
              "      <td>-0.499877</td>\n",
              "      <td>-0.789128</td>\n",
              "      <td>-0.863229</td>\n",
              "      <td>0.699274</td>\n",
              "      <td>1.162586</td>\n",
              "      <td>-0.813445</td>\n",
              "      <td>0.055642</td>\n",
              "      <td>...</td>\n",
              "      <td>-0.617769</td>\n",
              "      <td>0.241382</td>\n",
              "      <td>-0.174835</td>\n",
              "      <td>-0.446891</td>\n",
              "      <td>0.120662</td>\n",
              "      <td>-0.193492</td>\n",
              "      <td>0.273994</td>\n",
              "      <td>-0.315040</td>\n",
              "      <td>0.258121</td>\n",
              "      <td>0.050453</td>\n",
              "    </tr>\n",
              "    <tr>\n",
              "      <th>392979</th>\n",
              "      <td>0.437083</td>\n",
              "      <td>0.421414</td>\n",
              "      <td>-0.574496</td>\n",
              "      <td>0.148717</td>\n",
              "      <td>-0.620732</td>\n",
              "      <td>-0.337543</td>\n",
              "      <td>0.415884</td>\n",
              "      <td>0.189484</td>\n",
              "      <td>-0.029068</td>\n",
              "      <td>0.770826</td>\n",
              "      <td>...</td>\n",
              "      <td>-0.386498</td>\n",
              "      <td>1.241230</td>\n",
              "      <td>-0.722804</td>\n",
              "      <td>0.441962</td>\n",
              "      <td>1.513518</td>\n",
              "      <td>0.011723</td>\n",
              "      <td>-1.586280</td>\n",
              "      <td>-0.061684</td>\n",
              "      <td>-1.032520</td>\n",
              "      <td>-1.371855</td>\n",
              "    </tr>\n",
              "    <tr>\n",
              "      <th>392980</th>\n",
              "      <td>-0.037827</td>\n",
              "      <td>0.185851</td>\n",
              "      <td>-0.995244</td>\n",
              "      <td>-1.937488</td>\n",
              "      <td>-0.744921</td>\n",
              "      <td>-1.279160</td>\n",
              "      <td>-1.675575</td>\n",
              "      <td>-0.998109</td>\n",
              "      <td>1.992025</td>\n",
              "      <td>1.189552</td>\n",
              "      <td>...</td>\n",
              "      <td>2.662256</td>\n",
              "      <td>0.418260</td>\n",
              "      <td>-0.155373</td>\n",
              "      <td>-0.676856</td>\n",
              "      <td>0.532038</td>\n",
              "      <td>-0.260941</td>\n",
              "      <td>-0.518841</td>\n",
              "      <td>1.080766</td>\n",
              "      <td>-0.824698</td>\n",
              "      <td>1.247580</td>\n",
              "    </tr>\n",
              "    <tr>\n",
              "      <th>392981</th>\n",
              "      <td>0.429385</td>\n",
              "      <td>0.424403</td>\n",
              "      <td>0.725766</td>\n",
              "      <td>-0.768808</td>\n",
              "      <td>-0.571552</td>\n",
              "      <td>-0.079486</td>\n",
              "      <td>-2.089009</td>\n",
              "      <td>-1.134694</td>\n",
              "      <td>1.235218</td>\n",
              "      <td>-0.757440</td>\n",
              "      <td>...</td>\n",
              "      <td>-1.234526</td>\n",
              "      <td>-0.432133</td>\n",
              "      <td>0.054706</td>\n",
              "      <td>-0.559610</td>\n",
              "      <td>0.146488</td>\n",
              "      <td>-0.361125</td>\n",
              "      <td>-0.213741</td>\n",
              "      <td>0.732876</td>\n",
              "      <td>-0.357338</td>\n",
              "      <td>0.780032</td>\n",
              "    </tr>\n",
              "  </tbody>\n",
              "</table>\n",
              "<p>392982 rows × 90 columns</p>\n",
              "</div>\n",
              "      <button class=\"colab-df-convert\" onclick=\"convertToInteractive('df-cb08b3d8-c322-4ec1-9597-4cff598de097')\"\n",
              "              title=\"Convert this dataframe to an interactive table.\"\n",
              "              style=\"display:none;\">\n",
              "        \n",
              "  <svg xmlns=\"http://www.w3.org/2000/svg\" height=\"24px\"viewBox=\"0 0 24 24\"\n",
              "       width=\"24px\">\n",
              "    <path d=\"M0 0h24v24H0V0z\" fill=\"none\"/>\n",
              "    <path d=\"M18.56 5.44l.94 2.06.94-2.06 2.06-.94-2.06-.94-.94-2.06-.94 2.06-2.06.94zm-11 1L8.5 8.5l.94-2.06 2.06-.94-2.06-.94L8.5 2.5l-.94 2.06-2.06.94zm10 10l.94 2.06.94-2.06 2.06-.94-2.06-.94-.94-2.06-.94 2.06-2.06.94z\"/><path d=\"M17.41 7.96l-1.37-1.37c-.4-.4-.92-.59-1.43-.59-.52 0-1.04.2-1.43.59L10.3 9.45l-7.72 7.72c-.78.78-.78 2.05 0 2.83L4 21.41c.39.39.9.59 1.41.59.51 0 1.02-.2 1.41-.59l7.78-7.78 2.81-2.81c.8-.78.8-2.07 0-2.86zM5.41 20L4 18.59l7.72-7.72 1.47 1.35L5.41 20z\"/>\n",
              "  </svg>\n",
              "      </button>\n",
              "      \n",
              "  <style>\n",
              "    .colab-df-container {\n",
              "      display:flex;\n",
              "      flex-wrap:wrap;\n",
              "      gap: 12px;\n",
              "    }\n",
              "\n",
              "    .colab-df-convert {\n",
              "      background-color: #E8F0FE;\n",
              "      border: none;\n",
              "      border-radius: 50%;\n",
              "      cursor: pointer;\n",
              "      display: none;\n",
              "      fill: #1967D2;\n",
              "      height: 32px;\n",
              "      padding: 0 0 0 0;\n",
              "      width: 32px;\n",
              "    }\n",
              "\n",
              "    .colab-df-convert:hover {\n",
              "      background-color: #E2EBFA;\n",
              "      box-shadow: 0px 1px 2px rgba(60, 64, 67, 0.3), 0px 1px 3px 1px rgba(60, 64, 67, 0.15);\n",
              "      fill: #174EA6;\n",
              "    }\n",
              "\n",
              "    [theme=dark] .colab-df-convert {\n",
              "      background-color: #3B4455;\n",
              "      fill: #D2E3FC;\n",
              "    }\n",
              "\n",
              "    [theme=dark] .colab-df-convert:hover {\n",
              "      background-color: #434B5C;\n",
              "      box-shadow: 0px 1px 3px 1px rgba(0, 0, 0, 0.15);\n",
              "      filter: drop-shadow(0px 1px 2px rgba(0, 0, 0, 0.3));\n",
              "      fill: #FFFFFF;\n",
              "    }\n",
              "  </style>\n",
              "\n",
              "      <script>\n",
              "        const buttonEl =\n",
              "          document.querySelector('#df-cb08b3d8-c322-4ec1-9597-4cff598de097 button.colab-df-convert');\n",
              "        buttonEl.style.display =\n",
              "          google.colab.kernel.accessAllowed ? 'block' : 'none';\n",
              "\n",
              "        async function convertToInteractive(key) {\n",
              "          const element = document.querySelector('#df-cb08b3d8-c322-4ec1-9597-4cff598de097');\n",
              "          const dataTable =\n",
              "            await google.colab.kernel.invokeFunction('convertToInteractive',\n",
              "                                                     [key], {});\n",
              "          if (!dataTable) return;\n",
              "\n",
              "          const docLinkHtml = 'Like what you see? Visit the ' +\n",
              "            '<a target=\"_blank\" href=https://colab.research.google.com/notebooks/data_table.ipynb>data table notebook</a>'\n",
              "            + ' to learn more about interactive tables.';\n",
              "          element.innerHTML = '';\n",
              "          dataTable['output_type'] = 'display_data';\n",
              "          await google.colab.output.renderOutput(dataTable, element);\n",
              "          const docLink = document.createElement('div');\n",
              "          docLink.innerHTML = docLinkHtml;\n",
              "          element.appendChild(docLink);\n",
              "        }\n",
              "      </script>\n",
              "    </div>\n",
              "  </div>\n",
              "  "
            ]
          },
          "metadata": {}
        }
      ]
    },
    {
      "cell_type": "markdown",
      "source": [
        "## Transformaciones del conjunto de test "
      ],
      "metadata": {
        "id": "bGbaULLVw6Jh"
      }
    },
    {
      "cell_type": "markdown",
      "source": [
        "Para la transformación sobre el conjunto de \"test\" tenemos que utilizar nuestro transformador entrenado sobre el conjunto de \"entreno\" para escalar el conjunto de \"test\" con las mismas propiedades y evitar el data \"snooping\" como hicimos y definimos en la práctica anterior."
      ],
      "metadata": {
        "id": "OW0pMmdoRjU2"
      }
    },
    {
      "cell_type": "code",
      "source": [
        "tScltransformed = scaler.transform(test)\n",
        "cols = scaler.get_feature_names_out()\n",
        "for i,col in enumerate(cols): \n",
        "  cols[i] = col[col.find(\"_\")+2:]\n",
        "tTest = pd.DataFrame(data=tScltransformed,columns=cols)\n",
        "display(tTest)"
      ],
      "metadata": {
        "id": "WDCpU969RimI",
        "colab": {
          "base_uri": "https://localhost:8080/",
          "height": 488
        },
        "outputId": "f6958e2c-d475-434e-f29b-99145c641ea7"
      },
      "execution_count": null,
      "outputs": [
        {
          "output_type": "display_data",
          "data": {
            "text/plain": [
              "               0         1         2         3         4         5         6  \\\n",
              "0      -0.604616 -1.466020 -0.191430  0.435699 -1.975282 -1.248550  2.037326   \n",
              "1      -0.642252 -1.196378  0.605977  0.575480 -0.183942  0.601074 -0.439874   \n",
              "2       0.391533 -0.918659  0.172770  0.869958 -0.557609  0.043433  1.385987   \n",
              "3      -0.572173  1.100114 -0.832894  0.194673  0.415482  0.650560  0.677501   \n",
              "4      -0.328095  0.600788  0.760084 -0.348460  0.538766  0.568504 -1.601028   \n",
              "...          ...       ...       ...       ...       ...       ...       ...   \n",
              "103064  0.041821  0.507309 -1.110143 -0.322970 -0.824592  0.938797 -0.644792   \n",
              "103065 -2.630027 -0.576602 -1.407094 -0.030689  0.488111  0.389446 -0.017262   \n",
              "103066  0.820310 -0.199564  0.165893 -0.183770 -1.133308 -0.077621  0.166721   \n",
              "103067  0.569741  0.993754 -0.848287  1.314445  0.055137 -0.733881  0.457416   \n",
              "103068  0.393087  0.215682 -0.011636  0.205377 -0.874344  0.502081  0.031113   \n",
              "\n",
              "               7         8         9  ...        80        81        82  \\\n",
              "0      -0.243303  1.349359  0.700900  ...  2.341045  0.784209 -0.506538   \n",
              "1      -0.146113  0.568330 -0.023602  ...  0.512377  0.149914 -1.312681   \n",
              "2      -0.336593 -0.825535 -1.027708  ... -1.016085  0.200423  0.081622   \n",
              "3       2.643797 -0.554342  1.293110  ... -1.204600  0.144195 -1.646676   \n",
              "4       0.130348 -0.582582 -0.604674  ...  0.152960 -0.342086  0.325805   \n",
              "...          ...       ...       ...  ...       ...       ...       ...   \n",
              "103064 -0.055787  0.648231  1.405893  ...  0.313302 -0.160104  0.411952   \n",
              "103065  0.992605 -0.379852  1.011943  ... -0.948903 -0.296646 -1.218681   \n",
              "103066 -0.490318  1.808072 -0.285234  ... -0.481979 -0.475394 -0.252065   \n",
              "103067  3.311368 -1.005920  1.627583  ... -0.622327 -1.538528 -0.719461   \n",
              "103068  1.180266 -0.879814 -0.647048  ... -0.577992  1.132518 -1.016542   \n",
              "\n",
              "              83        84        85        86        87        88        89  \n",
              "0      -0.458964  0.568676  1.097972  0.087079  2.082471  0.520887  0.487548  \n",
              "1       0.529063 -0.072580  0.440431  2.318342  0.713952  0.076520  1.208339  \n",
              "2      -0.394757 -0.496139  0.441218 -1.419312  0.698174  0.820973 -0.683001  \n",
              "3       0.287051 -0.721681  1.621108  0.478276 -1.184502 -0.648569 -0.236979  \n",
              "4       1.116974  0.034085  0.236120  1.342190  0.319477  0.651830  0.277280  \n",
              "...          ...       ...       ...       ...       ...       ...       ...  \n",
              "103064 -0.889443  1.330207  1.413170  0.727878  0.095751  0.680152 -0.454759  \n",
              "103065 -1.885915  0.445646  0.351880 -3.752517 -0.024578  0.845891 -2.363600  \n",
              "103066  0.155779 -0.681096  0.366698  0.281847  0.199924 -0.362350 -0.167731  \n",
              "103067 -2.972525 -1.986170  1.726922  2.097656  1.600173  1.120401  0.266523  \n",
              "103068 -0.369206 -0.447307 -1.166451  0.645854 -0.799479  0.182013  1.111439  \n",
              "\n",
              "[103069 rows x 90 columns]"
            ],
            "text/html": [
              "\n",
              "  <div id=\"df-cdb96082-1b3b-46cb-8a9b-fe72c8aec6ad\">\n",
              "    <div class=\"colab-df-container\">\n",
              "      <div>\n",
              "<style scoped>\n",
              "    .dataframe tbody tr th:only-of-type {\n",
              "        vertical-align: middle;\n",
              "    }\n",
              "\n",
              "    .dataframe tbody tr th {\n",
              "        vertical-align: top;\n",
              "    }\n",
              "\n",
              "    .dataframe thead th {\n",
              "        text-align: right;\n",
              "    }\n",
              "</style>\n",
              "<table border=\"1\" class=\"dataframe\">\n",
              "  <thead>\n",
              "    <tr style=\"text-align: right;\">\n",
              "      <th></th>\n",
              "      <th>0</th>\n",
              "      <th>1</th>\n",
              "      <th>2</th>\n",
              "      <th>3</th>\n",
              "      <th>4</th>\n",
              "      <th>5</th>\n",
              "      <th>6</th>\n",
              "      <th>7</th>\n",
              "      <th>8</th>\n",
              "      <th>9</th>\n",
              "      <th>...</th>\n",
              "      <th>80</th>\n",
              "      <th>81</th>\n",
              "      <th>82</th>\n",
              "      <th>83</th>\n",
              "      <th>84</th>\n",
              "      <th>85</th>\n",
              "      <th>86</th>\n",
              "      <th>87</th>\n",
              "      <th>88</th>\n",
              "      <th>89</th>\n",
              "    </tr>\n",
              "  </thead>\n",
              "  <tbody>\n",
              "    <tr>\n",
              "      <th>0</th>\n",
              "      <td>-0.604616</td>\n",
              "      <td>-1.466020</td>\n",
              "      <td>-0.191430</td>\n",
              "      <td>0.435699</td>\n",
              "      <td>-1.975282</td>\n",
              "      <td>-1.248550</td>\n",
              "      <td>2.037326</td>\n",
              "      <td>-0.243303</td>\n",
              "      <td>1.349359</td>\n",
              "      <td>0.700900</td>\n",
              "      <td>...</td>\n",
              "      <td>2.341045</td>\n",
              "      <td>0.784209</td>\n",
              "      <td>-0.506538</td>\n",
              "      <td>-0.458964</td>\n",
              "      <td>0.568676</td>\n",
              "      <td>1.097972</td>\n",
              "      <td>0.087079</td>\n",
              "      <td>2.082471</td>\n",
              "      <td>0.520887</td>\n",
              "      <td>0.487548</td>\n",
              "    </tr>\n",
              "    <tr>\n",
              "      <th>1</th>\n",
              "      <td>-0.642252</td>\n",
              "      <td>-1.196378</td>\n",
              "      <td>0.605977</td>\n",
              "      <td>0.575480</td>\n",
              "      <td>-0.183942</td>\n",
              "      <td>0.601074</td>\n",
              "      <td>-0.439874</td>\n",
              "      <td>-0.146113</td>\n",
              "      <td>0.568330</td>\n",
              "      <td>-0.023602</td>\n",
              "      <td>...</td>\n",
              "      <td>0.512377</td>\n",
              "      <td>0.149914</td>\n",
              "      <td>-1.312681</td>\n",
              "      <td>0.529063</td>\n",
              "      <td>-0.072580</td>\n",
              "      <td>0.440431</td>\n",
              "      <td>2.318342</td>\n",
              "      <td>0.713952</td>\n",
              "      <td>0.076520</td>\n",
              "      <td>1.208339</td>\n",
              "    </tr>\n",
              "    <tr>\n",
              "      <th>2</th>\n",
              "      <td>0.391533</td>\n",
              "      <td>-0.918659</td>\n",
              "      <td>0.172770</td>\n",
              "      <td>0.869958</td>\n",
              "      <td>-0.557609</td>\n",
              "      <td>0.043433</td>\n",
              "      <td>1.385987</td>\n",
              "      <td>-0.336593</td>\n",
              "      <td>-0.825535</td>\n",
              "      <td>-1.027708</td>\n",
              "      <td>...</td>\n",
              "      <td>-1.016085</td>\n",
              "      <td>0.200423</td>\n",
              "      <td>0.081622</td>\n",
              "      <td>-0.394757</td>\n",
              "      <td>-0.496139</td>\n",
              "      <td>0.441218</td>\n",
              "      <td>-1.419312</td>\n",
              "      <td>0.698174</td>\n",
              "      <td>0.820973</td>\n",
              "      <td>-0.683001</td>\n",
              "    </tr>\n",
              "    <tr>\n",
              "      <th>3</th>\n",
              "      <td>-0.572173</td>\n",
              "      <td>1.100114</td>\n",
              "      <td>-0.832894</td>\n",
              "      <td>0.194673</td>\n",
              "      <td>0.415482</td>\n",
              "      <td>0.650560</td>\n",
              "      <td>0.677501</td>\n",
              "      <td>2.643797</td>\n",
              "      <td>-0.554342</td>\n",
              "      <td>1.293110</td>\n",
              "      <td>...</td>\n",
              "      <td>-1.204600</td>\n",
              "      <td>0.144195</td>\n",
              "      <td>-1.646676</td>\n",
              "      <td>0.287051</td>\n",
              "      <td>-0.721681</td>\n",
              "      <td>1.621108</td>\n",
              "      <td>0.478276</td>\n",
              "      <td>-1.184502</td>\n",
              "      <td>-0.648569</td>\n",
              "      <td>-0.236979</td>\n",
              "    </tr>\n",
              "    <tr>\n",
              "      <th>4</th>\n",
              "      <td>-0.328095</td>\n",
              "      <td>0.600788</td>\n",
              "      <td>0.760084</td>\n",
              "      <td>-0.348460</td>\n",
              "      <td>0.538766</td>\n",
              "      <td>0.568504</td>\n",
              "      <td>-1.601028</td>\n",
              "      <td>0.130348</td>\n",
              "      <td>-0.582582</td>\n",
              "      <td>-0.604674</td>\n",
              "      <td>...</td>\n",
              "      <td>0.152960</td>\n",
              "      <td>-0.342086</td>\n",
              "      <td>0.325805</td>\n",
              "      <td>1.116974</td>\n",
              "      <td>0.034085</td>\n",
              "      <td>0.236120</td>\n",
              "      <td>1.342190</td>\n",
              "      <td>0.319477</td>\n",
              "      <td>0.651830</td>\n",
              "      <td>0.277280</td>\n",
              "    </tr>\n",
              "    <tr>\n",
              "      <th>...</th>\n",
              "      <td>...</td>\n",
              "      <td>...</td>\n",
              "      <td>...</td>\n",
              "      <td>...</td>\n",
              "      <td>...</td>\n",
              "      <td>...</td>\n",
              "      <td>...</td>\n",
              "      <td>...</td>\n",
              "      <td>...</td>\n",
              "      <td>...</td>\n",
              "      <td>...</td>\n",
              "      <td>...</td>\n",
              "      <td>...</td>\n",
              "      <td>...</td>\n",
              "      <td>...</td>\n",
              "      <td>...</td>\n",
              "      <td>...</td>\n",
              "      <td>...</td>\n",
              "      <td>...</td>\n",
              "      <td>...</td>\n",
              "      <td>...</td>\n",
              "    </tr>\n",
              "    <tr>\n",
              "      <th>103064</th>\n",
              "      <td>0.041821</td>\n",
              "      <td>0.507309</td>\n",
              "      <td>-1.110143</td>\n",
              "      <td>-0.322970</td>\n",
              "      <td>-0.824592</td>\n",
              "      <td>0.938797</td>\n",
              "      <td>-0.644792</td>\n",
              "      <td>-0.055787</td>\n",
              "      <td>0.648231</td>\n",
              "      <td>1.405893</td>\n",
              "      <td>...</td>\n",
              "      <td>0.313302</td>\n",
              "      <td>-0.160104</td>\n",
              "      <td>0.411952</td>\n",
              "      <td>-0.889443</td>\n",
              "      <td>1.330207</td>\n",
              "      <td>1.413170</td>\n",
              "      <td>0.727878</td>\n",
              "      <td>0.095751</td>\n",
              "      <td>0.680152</td>\n",
              "      <td>-0.454759</td>\n",
              "    </tr>\n",
              "    <tr>\n",
              "      <th>103065</th>\n",
              "      <td>-2.630027</td>\n",
              "      <td>-0.576602</td>\n",
              "      <td>-1.407094</td>\n",
              "      <td>-0.030689</td>\n",
              "      <td>0.488111</td>\n",
              "      <td>0.389446</td>\n",
              "      <td>-0.017262</td>\n",
              "      <td>0.992605</td>\n",
              "      <td>-0.379852</td>\n",
              "      <td>1.011943</td>\n",
              "      <td>...</td>\n",
              "      <td>-0.948903</td>\n",
              "      <td>-0.296646</td>\n",
              "      <td>-1.218681</td>\n",
              "      <td>-1.885915</td>\n",
              "      <td>0.445646</td>\n",
              "      <td>0.351880</td>\n",
              "      <td>-3.752517</td>\n",
              "      <td>-0.024578</td>\n",
              "      <td>0.845891</td>\n",
              "      <td>-2.363600</td>\n",
              "    </tr>\n",
              "    <tr>\n",
              "      <th>103066</th>\n",
              "      <td>0.820310</td>\n",
              "      <td>-0.199564</td>\n",
              "      <td>0.165893</td>\n",
              "      <td>-0.183770</td>\n",
              "      <td>-1.133308</td>\n",
              "      <td>-0.077621</td>\n",
              "      <td>0.166721</td>\n",
              "      <td>-0.490318</td>\n",
              "      <td>1.808072</td>\n",
              "      <td>-0.285234</td>\n",
              "      <td>...</td>\n",
              "      <td>-0.481979</td>\n",
              "      <td>-0.475394</td>\n",
              "      <td>-0.252065</td>\n",
              "      <td>0.155779</td>\n",
              "      <td>-0.681096</td>\n",
              "      <td>0.366698</td>\n",
              "      <td>0.281847</td>\n",
              "      <td>0.199924</td>\n",
              "      <td>-0.362350</td>\n",
              "      <td>-0.167731</td>\n",
              "    </tr>\n",
              "    <tr>\n",
              "      <th>103067</th>\n",
              "      <td>0.569741</td>\n",
              "      <td>0.993754</td>\n",
              "      <td>-0.848287</td>\n",
              "      <td>1.314445</td>\n",
              "      <td>0.055137</td>\n",
              "      <td>-0.733881</td>\n",
              "      <td>0.457416</td>\n",
              "      <td>3.311368</td>\n",
              "      <td>-1.005920</td>\n",
              "      <td>1.627583</td>\n",
              "      <td>...</td>\n",
              "      <td>-0.622327</td>\n",
              "      <td>-1.538528</td>\n",
              "      <td>-0.719461</td>\n",
              "      <td>-2.972525</td>\n",
              "      <td>-1.986170</td>\n",
              "      <td>1.726922</td>\n",
              "      <td>2.097656</td>\n",
              "      <td>1.600173</td>\n",
              "      <td>1.120401</td>\n",
              "      <td>0.266523</td>\n",
              "    </tr>\n",
              "    <tr>\n",
              "      <th>103068</th>\n",
              "      <td>0.393087</td>\n",
              "      <td>0.215682</td>\n",
              "      <td>-0.011636</td>\n",
              "      <td>0.205377</td>\n",
              "      <td>-0.874344</td>\n",
              "      <td>0.502081</td>\n",
              "      <td>0.031113</td>\n",
              "      <td>1.180266</td>\n",
              "      <td>-0.879814</td>\n",
              "      <td>-0.647048</td>\n",
              "      <td>...</td>\n",
              "      <td>-0.577992</td>\n",
              "      <td>1.132518</td>\n",
              "      <td>-1.016542</td>\n",
              "      <td>-0.369206</td>\n",
              "      <td>-0.447307</td>\n",
              "      <td>-1.166451</td>\n",
              "      <td>0.645854</td>\n",
              "      <td>-0.799479</td>\n",
              "      <td>0.182013</td>\n",
              "      <td>1.111439</td>\n",
              "    </tr>\n",
              "  </tbody>\n",
              "</table>\n",
              "<p>103069 rows × 90 columns</p>\n",
              "</div>\n",
              "      <button class=\"colab-df-convert\" onclick=\"convertToInteractive('df-cdb96082-1b3b-46cb-8a9b-fe72c8aec6ad')\"\n",
              "              title=\"Convert this dataframe to an interactive table.\"\n",
              "              style=\"display:none;\">\n",
              "        \n",
              "  <svg xmlns=\"http://www.w3.org/2000/svg\" height=\"24px\"viewBox=\"0 0 24 24\"\n",
              "       width=\"24px\">\n",
              "    <path d=\"M0 0h24v24H0V0z\" fill=\"none\"/>\n",
              "    <path d=\"M18.56 5.44l.94 2.06.94-2.06 2.06-.94-2.06-.94-.94-2.06-.94 2.06-2.06.94zm-11 1L8.5 8.5l.94-2.06 2.06-.94-2.06-.94L8.5 2.5l-.94 2.06-2.06.94zm10 10l.94 2.06.94-2.06 2.06-.94-2.06-.94-.94-2.06-.94 2.06-2.06.94z\"/><path d=\"M17.41 7.96l-1.37-1.37c-.4-.4-.92-.59-1.43-.59-.52 0-1.04.2-1.43.59L10.3 9.45l-7.72 7.72c-.78.78-.78 2.05 0 2.83L4 21.41c.39.39.9.59 1.41.59.51 0 1.02-.2 1.41-.59l7.78-7.78 2.81-2.81c.8-.78.8-2.07 0-2.86zM5.41 20L4 18.59l7.72-7.72 1.47 1.35L5.41 20z\"/>\n",
              "  </svg>\n",
              "      </button>\n",
              "      \n",
              "  <style>\n",
              "    .colab-df-container {\n",
              "      display:flex;\n",
              "      flex-wrap:wrap;\n",
              "      gap: 12px;\n",
              "    }\n",
              "\n",
              "    .colab-df-convert {\n",
              "      background-color: #E8F0FE;\n",
              "      border: none;\n",
              "      border-radius: 50%;\n",
              "      cursor: pointer;\n",
              "      display: none;\n",
              "      fill: #1967D2;\n",
              "      height: 32px;\n",
              "      padding: 0 0 0 0;\n",
              "      width: 32px;\n",
              "    }\n",
              "\n",
              "    .colab-df-convert:hover {\n",
              "      background-color: #E2EBFA;\n",
              "      box-shadow: 0px 1px 2px rgba(60, 64, 67, 0.3), 0px 1px 3px 1px rgba(60, 64, 67, 0.15);\n",
              "      fill: #174EA6;\n",
              "    }\n",
              "\n",
              "    [theme=dark] .colab-df-convert {\n",
              "      background-color: #3B4455;\n",
              "      fill: #D2E3FC;\n",
              "    }\n",
              "\n",
              "    [theme=dark] .colab-df-convert:hover {\n",
              "      background-color: #434B5C;\n",
              "      box-shadow: 0px 1px 3px 1px rgba(0, 0, 0, 0.15);\n",
              "      filter: drop-shadow(0px 1px 2px rgba(0, 0, 0, 0.3));\n",
              "      fill: #FFFFFF;\n",
              "    }\n",
              "  </style>\n",
              "\n",
              "      <script>\n",
              "        const buttonEl =\n",
              "          document.querySelector('#df-cdb96082-1b3b-46cb-8a9b-fe72c8aec6ad button.colab-df-convert');\n",
              "        buttonEl.style.display =\n",
              "          google.colab.kernel.accessAllowed ? 'block' : 'none';\n",
              "\n",
              "        async function convertToInteractive(key) {\n",
              "          const element = document.querySelector('#df-cdb96082-1b3b-46cb-8a9b-fe72c8aec6ad');\n",
              "          const dataTable =\n",
              "            await google.colab.kernel.invokeFunction('convertToInteractive',\n",
              "                                                     [key], {});\n",
              "          if (!dataTable) return;\n",
              "\n",
              "          const docLinkHtml = 'Like what you see? Visit the ' +\n",
              "            '<a target=\"_blank\" href=https://colab.research.google.com/notebooks/data_table.ipynb>data table notebook</a>'\n",
              "            + ' to learn more about interactive tables.';\n",
              "          element.innerHTML = '';\n",
              "          dataTable['output_type'] = 'display_data';\n",
              "          await google.colab.output.renderOutput(dataTable, element);\n",
              "          const docLink = document.createElement('div');\n",
              "          docLink.innerHTML = docLinkHtml;\n",
              "          element.appendChild(docLink);\n",
              "        }\n",
              "      </script>\n",
              "    </div>\n",
              "  </div>\n",
              "  "
            ]
          },
          "metadata": {}
        }
      ]
    },
    {
      "cell_type": "markdown",
      "source": [
        "Con los datos supuestamente limpios y normalizados, podemos proceder a verificar el comportamiento de los modelos lineales."
      ],
      "metadata": {
        "id": "u_fROPunput4"
      }
    },
    {
      "cell_type": "markdown",
      "source": [
        "# Discusión de Modelos"
      ],
      "metadata": {
        "id": "in6-29v5uxnt"
      }
    },
    {
      "cell_type": "markdown",
      "source": [
        "Como hemos introducido al principio de este documento, estudiaremos modelos lineales sobre este conjunto de datos. Para evitar tener que implementar-los yo y tener una múltitud de fallos, nos ayudaremos de la librería sklearn como hemos estado haciendo. \n",
        "\n",
        "Según la página de [modelos lineales](https://scikit-learn.org/stable/modules/linear_model.html) tenemos una multitud de métodos con los que experimentar, para este ejercicio utilizaré los métodos visto en clase como la regresión lineal, regresión ridge, lasso y elastic-net. (todos modelos lineales).  "
      ],
      "metadata": {
        "id": "5_wGhobsbBX5"
      }
    },
    {
      "cell_type": "markdown",
      "source": [
        "## Regresión Lineal."
      ],
      "metadata": {
        "id": "9kO1oYTdvgUA"
      }
    },
    {
      "cell_type": "markdown",
      "source": [
        "La teoría de la regresión lineal indica que la idea general es obtener el mejor conjunto de pesos \"w\" tal que minimizamos lo residual de la suma de los cuadrados entre las predicciones y las etiquetas reales de los datos. \n",
        "\n",
        "Matemáticamente estaremos resolviendo un problema de la forma $min_w||Xw-y||_2^2$. El único problema que tenemos que tener cuidado está relacionado con la correlación de las variables. Si estas están correlacionadas la matriz se vuelve sensible a los errores aleatorios que pueda haber en la muestra.\n",
        "\n",
        "Este es el único de los modelos al cuál no le vamos a aplicar ninguna regularización para comparar con los otros tres que por defecto aplican diferentes regularizaciones. \n",
        "\n",
        "Vamos a demás de probar diferentes regularizaciones realizar pruebas respecto a transformaciones sobre el conjunto de datos de entrada."
      ],
      "metadata": {
        "id": "YA_Mg-jTvxJQ"
      }
    },
    {
      "cell_type": "code",
      "source": [
        "from sklearn.linear_model import LinearRegression\n",
        "from sklearn.model_selection import cross_validate\n",
        "\n",
        "lr = LinearRegression()\n",
        "scoring={'MAE':'neg_mean_absolute_error',\n",
        "         'MSE':'neg_mean_squared_error',\n",
        "         'R2':'r2',\n",
        "         'MAX':'max_error'\n",
        "}\n",
        "cv = 5\n",
        "lr_results = cross_validate(lr,tdata,ydata,cv=cv,scoring=scoring)"
      ],
      "metadata": {
        "id": "EmZ__hFswzsI"
      },
      "execution_count": 28,
      "outputs": []
    },
    {
      "cell_type": "markdown",
      "source": [
        "La razón por la cuál vamos a utilizar como métrica \"R2_score\" ó métrica R cuadrado es porque ese valor nos indica cuánta variabilidad de las variables dependientes puede ser explicada por el modelo. Es el cuadrado del coeficiente de correlación.\n",
        "\n",
        "Es equivalente a $1-\\frac{\\sum_i(y_i-ŷ_i)^2}{\\sum_i(y_i-ȳ_i)^2}$. En palabras, uno menos la división entre el error de predicción y el error respecto a la media, ambos al cuadrado. Cuanto mayor mejor, hasta 1. \n",
        "\n",
        "Luego mirarmos la bondad general de nuestro modelo utilizando MSE explicado en la introducción. Luego para finalizar utilizaremos MAE, o la suma del error absoluto de predicción para tener una representación maś directa. Por último verificaremos el mayor error que obtenemos. "
      ],
      "metadata": {
        "id": "55C5erkY0ecS"
      }
    },
    {
      "cell_type": "code",
      "source": [
        "display(lr_results)"
      ],
      "metadata": {
        "id": "7Hyf0q2a7KAH",
        "colab": {
          "base_uri": "https://localhost:8080/",
          "height": 156
        },
        "outputId": "83601809-2160-401e-8fee-8fe8ef89a23a"
      },
      "execution_count": 26,
      "outputs": [
        {
          "output_type": "display_data",
          "data": {
            "text/plain": [
              "{'fit_time': array([3.47092247, 3.52579927, 3.55634165, 3.53166866, 3.93816185]),\n",
              " 'score_time': array([0.03671074, 0.02682638, 0.03567386, 0.02476168, 0.02477288]),\n",
              " 'test_MAE': array([-6.75269547, -6.73296613, -6.74737769, -6.76165685, -6.70737912]),\n",
              " 'test_MAX': array([-70.82743761, -71.36368443, -74.99974832, -74.13623713,\n",
              "        -70.56591683]),\n",
              " 'test_MSE': array([-90.02001046, -89.07869819, -90.04316653, -89.71314514,\n",
              "        -88.50830048]),\n",
              " 'test_R2': array([0.25580483, 0.25502404, 0.25717854, 0.25569968, 0.2561734 ])}"
            ]
          },
          "metadata": {}
        }
      ]
    },
    {
      "cell_type": "markdown",
      "source": [
        "Para este modelo sencillo vemos que hemos podido obtener un error medio de apenas 6 años de diferencia a respecto de una predicción.\n",
        "Pero vemos que hemos tenido predicciones que fueron un desastre al mirar la métrica del error máximo, alcanzando para algunas predicciones más de 70 años de diferencia, posiblemente resultado del desequilibrio de clases presente en nuestro conjunto de datos. \n",
        "\n",
        "Vemos con la métrica R cuadrático que nuestro modelo lineal es realmente mediocre. Un valor r2_score cercano a 0 significa que nuestro modelo lineal no es capaz de lidiar con las oscilaciones que existe en el conjunto de datos. Analizaremos mejor los datos antes de proponer soluciones y para verificar la veracidad de este hecho a medida que avancemos en este documento. "
      ],
      "metadata": {
        "id": "3uILQvwSzBzr"
      }
    },
    {
      "cell_type": "markdown",
      "source": [
        "### Empleo De Baseline "
      ],
      "metadata": {
        "id": "FHrVyvQ1675A"
      }
    },
    {
      "cell_type": "markdown",
      "source": [
        "Para verificar el comportamiento del R cuadrático voy a emplear un baseline equivalente a emplear el valor medio de nuestro conjunto de datos."
      ],
      "metadata": {
        "id": "KUz16iaI7FuE"
      }
    },
    {
      "cell_type": "code",
      "source": [
        "from sklearn.dummy import DummyRegressor\n",
        "dr = DummyRegressor(strategy='mean')\n",
        "dr_results = cross_validate(dr,tdata,ydata,cv=cv,scoring=scoring)"
      ],
      "metadata": {
        "id": "LwZCwaU26DJZ",
        "colab": {
          "base_uri": "https://localhost:8080/"
        },
        "outputId": "3b0ca546-5b3c-4c86-9232-12c07d048e26"
      },
      "execution_count": 23,
      "outputs": [
        {
          "output_type": "execute_result",
          "data": {
            "text/plain": [
              "DummyRegressor()"
            ]
          },
          "metadata": {},
          "execution_count": 23
        }
      ]
    },
    {
      "cell_type": "code",
      "source": [
        "display(dr_results)"
      ],
      "metadata": {
        "colab": {
          "base_uri": "https://localhost:8080/",
          "height": 173
        },
        "id": "By2lFIx781df",
        "outputId": "20cf44f4-548d-4320-cc50-423bd94e9473"
      },
      "execution_count": 24,
      "outputs": [
        {
          "output_type": "display_data",
          "data": {
            "text/plain": [
              "{'fit_time': array([0.12687254, 0.12174153, 0.18443704, 0.13137364, 0.12942266]),\n",
              " 'score_time': array([0.01380634, 0.0137229 , 0.01331782, 0.02049255, 0.01374984]),\n",
              " 'test_MAE': array([-8.22850346, -8.21165353, -8.2489289 , -8.23096171, -8.18365741]),\n",
              " 'test_MAX': array([-76.29297517, -76.28124751, -76.29489227, -76.2917878 ,\n",
              "        -74.28350181]),\n",
              " 'test_MSE': array([-120.96332488, -119.57403715, -121.21868106, -120.53374188,\n",
              "        -118.99122599]),\n",
              " 'test_R2': array([-3.46442846e-06, -1.21825414e-05, -7.45284720e-06, -1.75264004e-06,\n",
              "        -6.07928216e-06])}"
            ]
          },
          "metadata": {}
        }
      ]
    },
    {
      "cell_type": "markdown",
      "source": [
        "Vemos que los resultados crecen de forma notable de un modelo a otro. Es decir, un modelo tan sencillo como escoger la media no es equiparable al obtenido con el cómputo de la regresión lineal. Fijese en la métrica MSE que ha subido de unos 90 a 120. El error máximo obtenido es del 76 y la media ha crecido de 6 años a 8 años. Además que el R cuadrático indica que ha empeorado lo suficiente como para no realizar predicciones como tal, que tiene sentido dado que siempre dice la media. \n",
        "\n",
        "Pero aún no me contento con los resultados y me gustaría seguir indagando en las predicciones obtenidas por regresión lineal ya que me esperaría mejores resultados. "
      ],
      "metadata": {
        "id": "fYmbqz5I7XPj"
      }
    },
    {
      "cell_type": "markdown",
      "source": [
        "### Indagando en las predicciones "
      ],
      "metadata": {
        "id": "R4aiHoiAgRh3"
      }
    },
    {
      "cell_type": "code",
      "source": [
        "labels = np.unique(ydata.values)\n",
        "hist_data = {}\n",
        "for etq in labels:\n",
        "  indexes = np.array(np.where(ytest==etq)[0])\n",
        "  if(indexes.shape[0] > 0):\n",
        "    indexedData = tTest.iloc[indexes]\n",
        "    ypred = lr.predict(indexedData)\n",
        "    error = np.sum(np.abs(ypred-ytest.iloc[indexes]))/indexes.shape[0] \n",
        "    hist_data[etq] = error[0]\n"
      ],
      "metadata": {
        "id": "sacVakKZgV8S"
      },
      "execution_count": null,
      "outputs": []
    },
    {
      "cell_type": "code",
      "source": [
        "names = list(hist_data.keys())\n",
        "values = list(hist_data.values())\n",
        "plt.rcParams[\"figure.autolayout\"] = True\n",
        "fig,ax = plt.subplots(dpi=80,figsize=(15,8))\n",
        "xra = (range(len(hist_data)))\n",
        "nxra = [3*i for i in xra]\n",
        "plt.bar(nxra,values,tick_label=names,align='edge',linewidth=1,width=2)\n",
        "for tick in ax.get_xticklabels():\n",
        "  tick.set_rotation(90)\n",
        "plt.show()"
      ],
      "metadata": {
        "id": "iE9u0bFPjIDj",
        "colab": {
          "base_uri": "https://localhost:8080/",
          "height": 644
        },
        "outputId": "ea86750b-af4a-48da-94f5-c1eb79581310"
      },
      "execution_count": null,
      "outputs": [
        {
          "output_type": "display_data",
          "data": {
            "text/plain": [
              "<Figure size 1200x640 with 1 Axes>"
            ],
            "image/png": "[encoded data removed]"
          },
          "metadata": {}
        }
      ]
    },
    {
      "cell_type": "markdown",
      "source": [
        "Como vemos, igual que nos indicaba a priori nuestra distribución de datos del conjunto de entreno, nuestro modelo no ha sido capaz de generalizar para las fechas lejanas. Tenemos muy pocos datos para las fechas de 1922. Y esa distribución ocasiona que nuestro modelo obtenga unas métricas de errores por los cielos. \n",
        "\n",
        "No tendría sentido ni siquiera visualizar los demás métodos de regresión ya que obtendrían resultados similares dada la falta de datos y el hecho de su funcionamiento es el mismo que la regresión lineal. Lo único que podríamos mejorar es reducir la complejidad de la predicción utilizando la regularización L1.\n",
        "\n",
        "Algunas soluciones para un problema de este tipo sería por ejemplo obtener más datos para las fechas lejanas, o directamente descartar esas fechas y producir un modelo para las fechas más actuales donde disponemos de muchísimos más datos y probar a verificar si nuestro modelo obtendría mejores resultados. \n",
        "\n",
        "El problema sería que para obtener una nueva cota dado los cambios tendríamos que obtener un nuevo conjunto de datos \"test\" para verificar su rendimiento."
      ],
      "metadata": {
        "id": "OkHWdWF5kPTX"
      }
    },
    {
      "cell_type": "markdown",
      "source": [
        "**Solo por curiosidad**, veremos que pasaría que si elegímos etiquetas para 1980."
      ],
      "metadata": {
        "id": "iveiyD0Cn8RX"
      }
    },
    {
      "cell_type": "code",
      "source": [
        "from sklearn.model_selection import cross_val_score\n",
        "from sklearn.model_selection import GridSearchCV\n",
        "\n",
        "Date = 1980\n",
        "index = np.array(np.where(ydata>=Date)[0])\n",
        "grid = GridSearchCV(\n",
        "    lr,\n",
        "    cv=cv,\n",
        "    param_grid={\"fit_intercept\":[True]},\n",
        "    scoring=scoring,\n",
        "    refit='R2'\n",
        ")\n",
        "grid.fit(tdata,ydata)"
      ],
      "metadata": {
        "id": "BH2J2dEqn7om"
      },
      "execution_count": 34,
      "outputs": []
    },
    {
      "cell_type": "code",
      "source": [
        "from sklearn.metrics import mean_squared_error, r2_score, mean_absolute_error, max_error\n",
        "ypred_test = grid.predict(tdata.iloc[index])\n",
        "print(\"### Resultados MSE y R2_SCORE ### \")\n",
        "print(\"Mean Squared Error: %2.f\" % mean_squared_error(ydata.iloc[index],ypred_test))\n",
        "print(\"Coefficiente of determination %2.f\" % r2_score(ydata.iloc[index],ypred_test))\n",
        "print(\"Mean Absolute Error: %2.f\" % mean_absolute_error(ydata.iloc[index],ypred_test))\n",
        "print(\"Max Error: %2.f\" % max_error(ydata.iloc[index],ypred_test))\n",
        "print(\"###############################################\")"
      ],
      "metadata": {
        "colab": {
          "base_uri": "https://localhost:8080/"
        },
        "id": "_e8GDt05_i37",
        "outputId": "4ceb169b-279f-478f-83af-ded77a98c97a"
      },
      "execution_count": 37,
      "outputs": [
        {
          "output_type": "stream",
          "name": "stdout",
          "text": [
            "### Resultados MSE y R2_SCORE ### \n",
            "Mean Squared Error: 46\n",
            "Coefficiente of determination  0\n",
            "Mean Absolute Error:  5\n",
            "Max Error: 60\n",
            "###############################################\n"
          ]
        }
      ]
    },
    {
      "cell_type": "markdown",
      "source": [
        "Vemos que las demás métricas de error utilizadas mejoran su resultado, por lo que nuestro modelo tiene problemas con la proporción de datos que ocasiona que produzca valores de error desproporcionados, o quizás con el problema en sí que podría ser no-lineal como indica R cuadrático.\n",
        "\n",
        "Pero en todo caso, la mejor solución sería equilibrar más las clases o implementar algún modelo que sea menos sensible a oscilaciones."
      ],
      "metadata": {
        "id": "W8OzP_f2r-KZ"
      }
    },
    {
      "cell_type": "markdown",
      "source": [
        "## Ridge Regression"
      ],
      "metadata": {
        "id": "8NtFkKbB3kv8"
      }
    },
    {
      "cell_type": "markdown",
      "source": [
        "La función de pérdida del modelo es MSE (Mean-squared-error) + l2 penalty. Es decir, utiliza el error cuadrático medio y la regularización l2 que hemos estado comentando en el ejercicio de clasificación.\n",
        "\n",
        "$MSE = \\frac{1}{N}\\times\\sum_{t=1}^N(y_i-f_i)^2= \\frac{SSE}{N}$ Dónde SSE = suma de los errores cuadráticos. \n",
        "\n",
        "Este modelo entonces minimiza: $||y - Xw||^2_2 + \\alpha \\cdot ||w||^2_2$. Lo que nos permitiría probar a reducir los valores que pueden tomar nuestro de nuestra hipótesis. Veremos que concluye con lo anteriormente dicho de que no vamos a poder generalizar con modelos lineales.\n",
        "\n",
        "¿Cómo funciona [Ridge](https://www.youtube.com/watch?v=qC2UCjKRyZM)?"
      ],
      "metadata": {
        "id": "LLiLrp_pgsuz"
      }
    },
    {
      "cell_type": "markdown",
      "source": [
        "#### Función de sklearn para printear resultados"
      ],
      "metadata": {
        "id": "FCVSdgb2Aus6"
      }
    },
    {
      "cell_type": "markdown",
      "source": [
        "En la página oficial de sklearn podemos encontrar la siguiente función que nos ayuda a entender mejor los valores obtenidos por el GridSearch con validación cruzada. Más a respecto en la práctica de clasificación."
      ],
      "metadata": {
        "id": "t0hoYUn2tA0a"
      }
    },
    {
      "cell_type": "code",
      "source": [
        "def report(results, key,top, n_top=3):\n",
        "    for i in range(1, n_top + 1):\n",
        "      candidates = np.flatnonzero(results[\"rank_test_\"+top] == i )\n",
        "      for candidate in candidates: \n",
        "        print(\"Model with rank: {0}\".format(results[\"rank_test_\"+key][candidate]))\n",
        "        print(\n",
        "            \"Mean \" + key + \" score: {0:.3f} (std: {1:.3f})\".format(\n",
        "                results[\"mean_test_\"+key][candidate],\n",
        "                results[\"std_test_\"+key][candidate],\n",
        "            )\n",
        "        )\n",
        "        print(\"Parameters: {0}\".format(results[\"params\"][candidate]))\n",
        "        print(\"\")"
      ],
      "metadata": {
        "id": "0KbkF2p38Jui"
      },
      "execution_count": 39,
      "outputs": []
    },
    {
      "cell_type": "code",
      "source": [
        "def printMetrics(results,top):\n",
        "  for key in results.keys():\n",
        "    index = key.find('test')\n",
        "    if index>0 and key.find('split0')>=0 and key.find('mean')<0 and key.find('std')<0 and key.find('rank')<0:\n",
        "      report(results,key[index+5:],top,n_top=1)"
      ],
      "metadata": {
        "id": "SxQSVEn1FL2-"
      },
      "execution_count": 45,
      "outputs": []
    },
    {
      "cell_type": "markdown",
      "source": [
        "### Implementación Ridge"
      ],
      "metadata": {
        "id": "A2pv0QvVAqf7"
      }
    },
    {
      "cell_type": "markdown",
      "source": [
        "Como en la práctica de clasificación, utilizaremos el GridSearch con validación cruzada para un K=5 para elegir los mejores hiperparámetros para nuestro modelo. Una vez obtenido la mejor combinación procederemos a analizar los datos. "
      ],
      "metadata": {
        "id": "U4RijUsmsyOK"
      }
    },
    {
      "cell_type": "code",
      "source": [
        "from sklearn.linear_model import Ridge\n",
        "from sklearn.model_selection import cross_val_score\n",
        "from sklearn.model_selection import GridSearchCV\n",
        "\n",
        "rid = Ridge()\n",
        "alphas = np.linspace(0.0001,1,10)\n",
        "rid_parameters = {'alpha':alphas,\n",
        "                  'fit_intercept':[True,False]\n",
        "                  }\n",
        "# cv = número de folds, scoring -> métrica. parameters -> parámetros a probar.\n",
        "rid_clf = GridSearchCV(\n",
        "    rid,\n",
        "    rid_parameters,\n",
        "    scoring=scoring,\n",
        "    refit='R2',\n",
        "    cv=5,\n",
        "    n_jobs=2)\n",
        "#scores = cross_val_score(lrm,tdata,ydata,scoring='accuracy',cv=5)\n",
        "rid_clf.fit(tdata,ydata)"
      ],
      "metadata": {
        "id": "223iHEk7_uud",
        "colab": {
          "base_uri": "https://localhost:8080/"
        },
        "outputId": "9b3b58a9-e5d3-46fb-a361-e56a3a60e0ee"
      },
      "execution_count": 40,
      "outputs": [
        {
          "output_type": "execute_result",
          "data": {
            "text/plain": [
              "GridSearchCV(cv=5, estimator=Ridge(), n_jobs=2,\n",
              "             param_grid={'alpha': array([1.000e-04, 1.112e-01, 2.223e-01, 3.334e-01, 4.445e-01, 5.556e-01,\n",
              "       6.667e-01, 7.778e-01, 8.889e-01, 1.000e+00]),\n",
              "                         'fit_intercept': [True, False]},\n",
              "             refit='R2',\n",
              "             scoring={'MAE': 'neg_mean_absolute_error', 'MAX': 'max_error',\n",
              "                      'MSE': 'neg_mean_squared_error', 'R2': 'r2'})"
            ]
          },
          "metadata": {},
          "execution_count": 40
        }
      ]
    },
    {
      "cell_type": "code",
      "source": [
        "printMetrics(rid_clf.cv_results_,\"R2\")"
      ],
      "metadata": {
        "id": "gabn-2MXAu6Z",
        "colab": {
          "base_uri": "https://localhost:8080/"
        },
        "outputId": "82d47682-cd8a-4587-e08c-2c6e7bbbe8b3"
      },
      "execution_count": 46,
      "outputs": [
        {
          "output_type": "stream",
          "name": "stdout",
          "text": [
            "Model with rank: 10\n",
            "Mean MAE score: -6.740 (std: 0.019)\n",
            "Parameters: {'alpha': 1.0, 'fit_intercept': True}\n",
            "\n",
            "Model with rank: 1\n",
            "Mean MSE score: -89.473 (std: 0.595)\n",
            "Parameters: {'alpha': 1.0, 'fit_intercept': True}\n",
            "\n",
            "Model with rank: 1\n",
            "Mean R2 score: 0.256 (std: 0.001)\n",
            "Parameters: {'alpha': 1.0, 'fit_intercept': True}\n",
            "\n",
            "Model with rank: 1\n",
            "Mean MAX score: -72.379 (std: 1.827)\n",
            "Parameters: {'alpha': 1.0, 'fit_intercept': True}\n",
            "\n"
          ]
        }
      ]
    },
    {
      "cell_type": "markdown",
      "source": [
        "Vemos que la mejor combinación de hiperparámetros obtenidos es con una regularización L2 con factor de proporción $\\alpha=1.0$, es decir, una regularización bastante fuerte. \n",
        "Y que además, por casualidad también coincide que con ese mismo hiperparámetro hemos podido obtener los mejores resultados para las demás métricas con excepción del error medio absoluto, pero como en el ejercicio de clasificación tenemos que comprobar si realmente es así o cual es la diferencia."
      ],
      "metadata": {
        "id": "IOjVR8FHtP17"
      }
    },
    {
      "cell_type": "code",
      "source": [
        "report(rid_clf.cv_results_,\"MAE\",\"MAE\")"
      ],
      "metadata": {
        "colab": {
          "base_uri": "https://localhost:8080/"
        },
        "id": "hWPe6sYpFr2D",
        "outputId": "0d2a5869-281e-420a-bfe8-eddd5ae6ea5f"
      },
      "execution_count": 47,
      "outputs": [
        {
          "output_type": "stream",
          "name": "stdout",
          "text": [
            "Model with rank: 1\n",
            "Mean MAE score: -6.740 (std: 0.019)\n",
            "Parameters: {'alpha': 0.0001, 'fit_intercept': True}\n",
            "\n",
            "Model with rank: 2\n",
            "Mean MAE score: -6.740 (std: 0.019)\n",
            "Parameters: {'alpha': 0.11120000000000001, 'fit_intercept': True}\n",
            "\n",
            "Model with rank: 3\n",
            "Mean MAE score: -6.740 (std: 0.019)\n",
            "Parameters: {'alpha': 0.2223, 'fit_intercept': True}\n",
            "\n"
          ]
        }
      ]
    },
    {
      "cell_type": "markdown",
      "source": [
        "Vemos que es erróneo pensar que nuestro modelo no ha optimizado el error medio absoluto ya que coinciden los valores hasta el rango número 10 para distintos valores de alpha. Por lo que hemos logrado optimizar lo máximo posible con nuestro hiperparámetro. \n",
        "\n",
        "Y vemos que, como mencionado anteriormente hemos obtenidos resultados casi iguales a los de regresión lineal sin una mejora notable. El método que terminaría por entregar a la empresa sería más bien el con regularización L1 porque almenos podría reducir la complejidad del problema. (Si este consigue los mismos resultados aproximadamente)"
      ],
      "metadata": {
        "id": "ln0TKHzXFyB1"
      }
    },
    {
      "cell_type": "markdown",
      "source": [
        "### Resultados Obtenidos Ridge"
      ],
      "metadata": {
        "id": "UtK9ZBXFAQAD"
      }
    },
    {
      "cell_type": "code",
      "source": [
        "ypred_test = rid_clf.predict(tTest)\n",
        "print(\"### Resultados MSE y R2_SCORE ### \")\n",
        "print(\"Mean Squared Error: %2.f\" % mean_squared_error(ytest,ypred_test))\n",
        "print(\"Coefficiente of determination %2.f\" % r2_score(ytest,ypred_test))\n",
        "print(\"Mean Absolute Error: %2.f\" % mean_absolute_error(ytest,ypred_test))\n",
        "print(\"Max Error: %2.f\" % max_error(ytest,ypred_test))\n",
        "print(\"###############################################\")"
      ],
      "metadata": {
        "id": "0N0voGEPA4Is",
        "colab": {
          "base_uri": "https://localhost:8080/"
        },
        "outputId": "222562d3-6a96-4d3b-a522-989bf3d6cd22"
      },
      "execution_count": null,
      "outputs": [
        {
          "output_type": "stream",
          "name": "stdout",
          "text": [
            "### Resultados MSE y R2_SCORE ### \n",
            "Mean Squared Error: 92\n",
            "Coefficiente of determination  0\n",
            "Mean Absolute Error:  7\n",
            "Max Error: 79\n",
            "###############################################\n"
          ]
        }
      ]
    },
    {
      "cell_type": "markdown",
      "source": [
        "Vemos que, como bien indiqué anteriormente en el análisis. Los resultados obtenidos son equivalentes. Y lo mismo seguiría ocurriendo con los demás modelos lineales dado la distribución de datos y la naturaleza del problema. Como mencionado la única diferencia que podríamos encontrar es si utilizamos regularización de tipo L1. \n",
        "\n",
        "Dado el comportamiento equivalente, no dibujaré las curvas de aprendizaje. "
      ],
      "metadata": {
        "id": "WgHr2lHP8P5D"
      }
    },
    {
      "cell_type": "markdown",
      "source": [
        " ## Lasso Regression"
      ],
      "metadata": {
        "id": "UUrpSCHfAS5Y"
      }
    },
    {
      "cell_type": "markdown",
      "source": [
        "Saltamos directamente a regresión lineal con regularización de tipo L1 para verificar si podemos reducir la complejidad de nuestra hipótesis manteniendo buenos resultados bajo las condiciones.\n",
        "\n",
        "Básicamente busca minimizar: $(1 / (2 \\cdot n_{samples})) \\cdot ||y - Xw||^2_2 + \\alpha \\cdot ||w||_1$. Es decir, similar a la regularización L2 pero ahora en vez de utilizar la suma al cuadrado de los pesos como restricción, utilizamos la suma de los valores absolutos.\n",
        "\n",
        "Forzando así que se vayan descartando variables para poder cumplir con la restricción y minimizar el error. \n",
        "\n",
        "[Página oficial Lasso](https://scikit-learn.org/stable/modules/generated/sklearn.linear_model.Lasso.html#sklearn.linear_model.Lasso)"
      ],
      "metadata": {
        "id": "dHtKWkJ1AYP1"
      }
    },
    {
      "cell_type": "code",
      "source": [
        "from sklearn.linear_model import Lasso\n",
        "\n",
        "lass = Lasso()\n",
        "#alphas = np.linspace(0.0001,1,10)\n",
        "alphas = [0.0001,0.001,0.01,0.1,1,10]\n",
        "# cv = número de folds, scoring -> métrica. parameters -> parámetros a probar.\n",
        "lass_parameters = {'alpha':alphas,\n",
        "                  'fit_intercept':[True]\n",
        "                  }\n",
        "# cv = número de folds, scoring -> métrica. parameters -> parámetros a probar.\n",
        "lass_clf = GridSearchCV(\n",
        "    lass,\n",
        "    lass_parameters,\n",
        "    scoring=scoring,\n",
        "    refit='R2',\n",
        "    cv=5,\n",
        "    n_jobs=-1)\n",
        "lass_clf.fit(tdata,ydata)"
      ],
      "metadata": {
        "id": "Q_Z3vjYlBSua",
        "colab": {
          "base_uri": "https://localhost:8080/"
        },
        "outputId": "c8b4984e-bb27-423b-fdca-e43a0871c493"
      },
      "execution_count": 48,
      "outputs": [
        {
          "output_type": "execute_result",
          "data": {
            "text/plain": [
              "GridSearchCV(cv=5, estimator=Lasso(), n_jobs=2,\n",
              "             param_grid={'alpha': [0.0001, 0.001, 0.01, 0.1, 1, 10],\n",
              "                         'fit_intercept': [True, False]},\n",
              "             refit='R2',\n",
              "             scoring={'MAE': 'neg_mean_absolute_error', 'MAX': 'max_error',\n",
              "                      'MSE': 'neg_mean_squared_error', 'R2': 'r2'})"
            ]
          },
          "metadata": {},
          "execution_count": 48
        }
      ]
    },
    {
      "cell_type": "code",
      "source": [
        "printMetrics(lass_clf.cv_results_,\"R2\")"
      ],
      "metadata": {
        "id": "yeroR029BfAQ",
        "colab": {
          "base_uri": "https://localhost:8080/"
        },
        "outputId": "43ccf411-590d-4e41-f56d-7f111c567008"
      },
      "execution_count": 49,
      "outputs": [
        {
          "output_type": "stream",
          "name": "stdout",
          "text": [
            "Model with rank: 2\n",
            "Mean MAE score: -6.740 (std: 0.019)\n",
            "Parameters: {'alpha': 0.001, 'fit_intercept': True}\n",
            "\n",
            "Model with rank: 1\n",
            "Mean MSE score: -89.473 (std: 0.594)\n",
            "Parameters: {'alpha': 0.001, 'fit_intercept': True}\n",
            "\n",
            "Model with rank: 1\n",
            "Mean R2 score: 0.256 (std: 0.001)\n",
            "Parameters: {'alpha': 0.001, 'fit_intercept': True}\n",
            "\n",
            "Model with rank: 2\n",
            "Mean MAX score: -72.362 (std: 1.831)\n",
            "Parameters: {'alpha': 0.001, 'fit_intercept': True}\n",
            "\n"
          ]
        }
      ]
    },
    {
      "cell_type": "markdown",
      "source": [
        "Vemos que hemos tenido la suerte que para el mismo valor de alpha hemos obtenido los mejores resultados para todas las métricas, que además son exactamente las mismas que anteriormente pero con una reducción de complejidad dada la regularización que podemos comprobar a continuación: "
      ],
      "metadata": {
        "id": "qFV9xlvuH5JB"
      }
    },
    {
      "cell_type": "code",
      "source": [
        "print(\"Número de coeficientes igual a 0:\", np.count_nonzero(lass_clf.best_estimator_.coef_==0))"
      ],
      "metadata": {
        "id": "Rb1S-NcCECUc",
        "colab": {
          "base_uri": "https://localhost:8080/"
        },
        "outputId": "cd916ccd-3c8f-455f-fb96-dd9b1d4176ec"
      },
      "execution_count": 50,
      "outputs": [
        {
          "output_type": "stream",
          "name": "stdout",
          "text": [
            "Número de coeficientes igual a 0: 2\n"
          ]
        }
      ]
    },
    {
      "cell_type": "markdown",
      "source": [
        "Hemos podido reducir la complejidad de nuestro problema a 2 atributos menos. \n",
        "Por lo que si tuviera que elegir un modelo probablemente sería este."
      ],
      "metadata": {
        "id": "4jQiNSZzIGFC"
      }
    },
    {
      "cell_type": "markdown",
      "source": [
        "## Conclusión"
      ],
      "metadata": {
        "id": "tKgZBbrJjRo2"
      }
    },
    {
      "cell_type": "markdown",
      "source": [
        "Dado los resultados anteriores hemos visto que con un modelo lineal, independientemente de la regularización aplicada sobre él, no hemos podido aprender de nuestro conjunto de datos de manera eficaz. Aún tenemos valores de error bastante elevados y un coeficiente de determinación nulo.\n",
        "\n",
        "Pero entre ellos, el ganador o el modelo que entregaría a la empresa para que realize sus determinadas pruebas con un conjunto de test sería el modelo Lasso, o regresión lineal con regularización L1. Ya que con menor complejidad sobre la entrada ha podido obtener un mejor rendimiento. \n",
        "\n",
        "Los parámetros finales obtenidos serían: "
      ],
      "metadata": {
        "id": "0jRjHRkMjTzG"
      }
    },
    {
      "cell_type": "code",
      "source": [
        "print(\"#### Parámetros finales #### \")\n",
        "print(lass_clf.best_estimator_.coef_)"
      ],
      "metadata": {
        "id": "7b6Vn4Yxj0rL",
        "colab": {
          "base_uri": "https://localhost:8080/"
        },
        "outputId": "4d00fac5-7374-420d-a39d-ad5966ace886"
      },
      "execution_count": null,
      "outputs": [
        {
          "output_type": "stream",
          "name": "stdout",
          "text": [
            "#### Parámetros finales #### \n",
            "[ 5.32541134e+00 -3.09523512e+00 -1.66009356e+00  1.48988594e-01\n",
            " -5.30137602e-01 -3.01408432e+00 -1.86090220e-01 -7.99759512e-01\n",
            " -6.42115071e-01 -3.96624998e-02 -8.11580320e-01  3.12637601e-02\n",
            "  1.05651074e+00  5.68454410e-01 -5.82396452e-01  5.22213276e-01\n",
            "  1.40427680e-01  7.87750403e-01  4.44549583e-01  8.17937028e-01\n",
            " -0.00000000e+00 -2.23910627e-01  1.53648541e+00  4.45454916e-01\n",
            " -4.27035371e-01  3.48491095e-02  8.00013912e-01  1.30731621e-01\n",
            "  1.34581022e-01 -4.20723188e-03 -1.94324435e-01 -1.02026486e-01\n",
            " -3.62057148e-01  1.17323431e-01  4.05261206e-02 -5.36855886e-01\n",
            " -7.59916262e-02  3.49771462e-01  3.28891206e-01 -3.58640134e-01\n",
            " -2.77976281e-01 -1.72946754e-01 -1.54044981e-01 -1.28358619e-01\n",
            " -9.66329300e-02  3.58400477e-01  2.11106236e-01 -6.32406328e-01\n",
            "  2.44520136e-02  2.29865302e-01  2.97649597e-02 -1.38328094e-01\n",
            "  1.21898675e-02  7.17412788e-02 -2.75921212e-02  5.63892988e-02\n",
            " -6.12756695e-01  6.45580077e-01 -2.93839387e-01  1.95091474e-02\n",
            " -1.30360381e-01 -8.32406923e-02 -2.38645217e-01  3.34923111e-01\n",
            " -4.61331280e-01  9.03432558e-02 -8.57184957e-02  1.12104397e-02\n",
            " -4.26190681e-01 -1.42515906e-01 -3.59982196e-01  8.56748082e-02\n",
            "  9.84760068e-02  3.26569820e-01  1.83572782e-01  4.46344790e-01\n",
            "  7.33841669e-02 -6.84226271e-01 -1.68281522e-01 -1.52528842e-02\n",
            " -0.00000000e+00 -1.58313674e-01  1.43069132e-01  6.76017250e-02\n",
            "  4.97291233e-01 -4.67392961e-03  1.90192688e-01 -4.72888972e-01\n",
            " -2.03509176e-01 -3.85375858e-02]\n"
          ]
        }
      ]
    },
    {
      "cell_type": "markdown",
      "source": [
        "Este análisis ha sido posible dado que teníamos una definición clara de los conjuntos de datos disponibles, entre enternamiento y test. Si no lo tuvieramos tendríamos que analizar si disponemos de suficientes datos para realizar la división teniendo en cuenta que un conjunto de test pequeño implica una cota menos fiable pero cuanto mayor menos datos tenemos para entrenar. \n",
        "\n",
        "Mientras que si no dividimos tendríamos que estimar la cota fuera de la muestra utilizando la media de los errores obtenidos en el conjunto de valiación de validación cruzada.\n",
        "\n",
        "Ya que si entrenamos y validamos sobre el mismo conjunto de datos no tendríamos una cota real sobre el rendimiento de nuestro modelo fuera de la muestra. "
      ],
      "metadata": {
        "id": "NfP35Dmo9u-t"
      }
    },
    {
      "cell_type": "markdown",
      "source": [
        "## Resultados Obtenidos L1"
      ],
      "metadata": {
        "id": "ncxfxjorIRbz"
      }
    },
    {
      "cell_type": "markdown",
      "source": [
        "### Resultados Obtenidos LR "
      ],
      "metadata": {
        "id": "GSHBaSwvzMmq"
      }
    },
    {
      "cell_type": "code",
      "source": [
        "from sklearn.metrics import mean_squared_error, r2_score, mean_absolute_error, max_error\n",
        "ypred_test = lass_clf.predict(tTest)\n",
        "print(\"### Resultados MSE y R2_SCORE ### \")\n",
        "print(\"Mean Squared Error: %2.f\" % mean_squared_error(ytest,ypred_test))\n",
        "print(\"Coefficiente of determination %2.f\" % r2_score(ytest,ypred_test))\n",
        "print(\"Mean Absolute Error: %2.f\" % mean_absolute_error(ytest,ypred_test))\n",
        "print(\"Max Error: %2.f\" % max_error(ytest,ypred_test))\n",
        "print(\"###############################################\")"
      ],
      "metadata": {
        "id": "q1Q0ueunBfAS",
        "colab": {
          "base_uri": "https://localhost:8080/"
        },
        "outputId": "5ff364a5-1c16-4dbc-ca50-a637e338410e"
      },
      "execution_count": null,
      "outputs": [
        {
          "output_type": "stream",
          "name": "stdout",
          "text": [
            "### Resultados MSE y R2_SCORE ### \n",
            "Mean Squared Error: 92\n",
            "Coefficiente of determination  0\n",
            "Mean Absolute Error:  7\n",
            "Max Error: 79\n",
            "###############################################\n"
          ]
        }
      ]
    },
    {
      "cell_type": "markdown",
      "source": [
        "Vemos que nuestros resultados se aproximan bastante a los obtenidos dentro de nuestro conjunto de entrenamiento con excepción del R cuadrático por lo que podemos extrapolar que nuestro modelo no aparenta haber sobre-entrenado aunque tendremos que verificar con las curvas de aprendizaje. \n",
        "\n",
        "No hemos obtenido el mejor modelo pero si una buena aproximación en comparación a nuestro modelo de base. "
      ],
      "metadata": {
        "id": "h9CbcCoeJJCA"
      }
    },
    {
      "cell_type": "markdown",
      "source": [
        "### Curvas de aprendizaje L1 "
      ],
      "metadata": {
        "id": "N_3DaR31so9n"
      }
    },
    {
      "cell_type": "markdown",
      "source": [
        "Ahora, para hacer las curvas de aprendizaje vistas en teoría...\n",
        "Primeramente definimos nuestro modelo final con los mismos hiperparámetros y creamos un conjunto de entreno y otro de validación a partir de la librería sklearn que nos permite dividir un conjunto de datos en dos, como hecho anteriormente."
      ],
      "metadata": {
        "id": "Xm_F7R2_3wJ9"
      }
    },
    {
      "cell_type": "markdown",
      "source": [
        "A continuación para un número determinado de veces, vamos a entrenar el modelo sobre un conjunto de datos cada vez más pequeño y vamos ir guardando los errores obtenidos. El error para los modelos de regresión que utilizaré será el MSE, o error cuadrático medio. Lo definimos a continuación:"
      ],
      "metadata": {
        "id": "mrnBaHBk37ua"
      }
    },
    {
      "cell_type": "code",
      "source": [
        "lass = Lasso(alpha=0.001)"
      ],
      "metadata": {
        "id": "izUqTKHFI-BD"
      },
      "execution_count": 69,
      "outputs": []
    },
    {
      "cell_type": "code",
      "source": [
        "def Ein_loss(y,ypred):\n",
        "  ypred = ypred[:,np.newaxis]\n",
        "  return np.sum((ypred-y)**2)/len(y)"
      ],
      "metadata": {
        "id": "AYxLoK90vino"
      },
      "execution_count": 91,
      "outputs": []
    },
    {
      "cell_type": "code",
      "source": [
        "from scipy.interpolate import make_interp_spline\n",
        "def learning_curve_data(clf,k,Xtrain,ytrain,test,ytest,Ein_Loss=None):\n",
        "  batch_size = int(Xtrain.shape[0]/k)\n",
        "  x = []\n",
        "  y = []\n",
        "  yt = []\n",
        "  x.append(0)\n",
        "  y.append(0)\n",
        "  yt.append(100)\n",
        "  for i in range(0,Xtrain.shape[0],batch_size):\n",
        "    dt = Xtrain[0:i+batch_size]\n",
        "    lb = ytrain[0:i+batch_size]\n",
        "    x.append(i+batch_size)\n",
        "    if(Ein_Loss!=None):\n",
        "      y.append(Ein_Loss(lb,clf.predict(dt)))\n",
        "      yt.append(Ein_Loss(ytest,clf.predict(test)))\n",
        "    else:\n",
        "      y.append(clf.score(dt,lb))\n",
        "      yt.append(clf.score(test,ytest))\n",
        "  \n",
        "  return np.array(x,dtype=object),np.array(y,dtype=object),np.array(yt,dtype=object)"
      ],
      "metadata": {
        "id": "8rmDufln4FQa"
      },
      "execution_count": 88,
      "outputs": []
    },
    {
      "cell_type": "code",
      "source": [
        "k = 40\n",
        "xran, ein, eout = learning_curve_data(lass,k,tdata,ydata,tTest,ytest,Ein_Loss=Ein_loss)"
      ],
      "metadata": {
        "id": "IoWmwaLr5iuJ"
      },
      "execution_count": 96,
      "outputs": []
    },
    {
      "cell_type": "code",
      "source": [
        "def plot_lrcurve(x,y,yt):\n",
        "  plt.plot(x,y,c=\"blue\",label=\"E_in\")\n",
        "  plt.plot(x,yt,c=\"red\",label=\"E_out\")\n",
        "  plt.legend()\n",
        "  plt.xlabel(\"Tamaño del conjunto de entrenamiento\")\n",
        "  plt.ylabel(\"Error esperado\")\n"
      ],
      "metadata": {
        "id": "JmCZV-iyJ7mj"
      },
      "execution_count": 97,
      "outputs": []
    },
    {
      "cell_type": "code",
      "source": [
        "plot_lrcurve(xran,ein,eout)\n",
        "plt.xlim(0.1,50000)\n",
        "plt.axhline(92,linestyle='--')\n",
        "plt.legend(labels=[\"E_in\",\"E_out\",\"Desired performance\"])\n",
        "plt.show()"
      ],
      "metadata": {
        "id": "G1MM2y-KZ9AT",
        "colab": {
          "base_uri": "https://localhost:8080/",
          "height": 517
        },
        "outputId": "67f5e4ea-c4c6-477e-f544-75c127753e4d"
      },
      "execution_count": 101,
      "outputs": [
        {
          "output_type": "display_data",
          "data": {
            "text/plain": [
              "<Figure size 842.4x595.44 with 1 Axes>"
            ],
            "image/png": "[encoded data removed]"
          },
          "metadata": {}
        }
      ]
    },
    {
      "cell_type": "markdown",
      "source": [
        "Al menos vemos con las curvas de aprendizaje que el resultado obtenido es el que se aproxima realmente al esperado fuera de la muestra. Que para este conjunto de datos con estas transformaciones y estos hiperparámetros este es el rendimiento esperado para nuestro modelo de regressión lineal. \n",
        "\n",
        "El error cuadrático esperado es del alrededor del 90 al parecer. Podemos deducir que nuestro modelo ha aprendido correctamente sobre el conjunto de datos sin sobre-entreno y en lo mejor medida que permitía su complejidad de función dada las circunstancias de los datos. "
      ],
      "metadata": {
        "id": "NLaE4ttk503Q"
      }
    }
  ]
}