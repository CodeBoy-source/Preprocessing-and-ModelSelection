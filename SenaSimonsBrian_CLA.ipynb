{
  "nbformat": 4,
  "nbformat_minor": 0,
  "metadata": {
    "colab": {
      "name": "SenaSimonsBrian_CLA.ipynb",
      "provenance": [],
      "collapsed_sections": [
        "udo3MI0gVA9c",
        "XPxmSv95Yl_M",
        "V0iHJ_3GV-Z7",
        "7I5MgKqBNJzp",
        "-uCbO2bXEnJ6",
        "0lMfZtCpKaqt",
        "jjheDid5tqL-",
        "Isang-F7nGlS",
        "DrztrZrgnKIC",
        "CG2975sVnLxz",
        "_TgZQJY849cN"
      ]
    },
    "kernelspec": {
      "name": "python3",
      "display_name": "Python 3"
    },
    "language_info": {
      "name": "python"
    }
  },
  "cells": [
    {
      "cell_type": "markdown",
      "source": [
        "# Problema de Clasificación Bank+Marketing\n",
        "## **Autor**: Brian Sena Simons \n",
        "## **Grupo**: 3ºA - A2.\n"
      ],
      "metadata": {
        "id": "udo3MI0gVA9c"
      }
    },
    {
      "cell_type": "markdown",
      "source": [
        "# Introducción al Problema."
      ],
      "metadata": {
        "id": "XPxmSv95Yl_M"
      }
    },
    {
      "cell_type": "markdown",
      "source": [
        "Disponemos de un repositorio con la información de una institución bancaria de Portugal. El conjunto de datos está relacionado con las llamadas del equipo de marketing, y el objetivo de la predicción es saber si un cliente realizará un depósito. \\\\\n",
        "\n",
        "Es un problema con características multivariantes del area del comercio. Recoge un total de 45.211 instancias de datos ordenadas desde 2008 hasta 2010. Los atributos son de tipo real y hay un total de 17 de ellos. \\\\\n",
        "\n",
        "Como vemos con esta descripción estamos ante un problema de clasificación supervisado ya que disponemos de las etiquetas relacionadas a cada caso. La idea será emplear un modelo lineal en \"w\" para clasificar correctamente el conjunto, para ello utilizaremos distintos modelos y técnicas estudiadas como la regularización. Realizaremos una comprobación del comportamiento mediante la validación cruzada, \"K-Fold\", y nos quedaremos con el mejor. Todas estas técnicas se irán discutiendo a lo largo del documento a medida que sea necesario."
      ],
      "metadata": {
        "id": "IWhAGm9vVNUR"
      }
    },
    {
      "cell_type": "markdown",
      "source": [
        "## Conjunto de Datos."
      ],
      "metadata": {
        "id": "3UhC5Zm5ajba"
      }
    },
    {
      "cell_type": "markdown",
      "source": [
        "Según la [página oficial](https://archive.ics.uci.edu/ml/datasets/Bank+Marketing). La información que obtenemos de los atributos, o conjunto $\\mathcal{X}$, es que tendremos variables como la edad, el trabajo, la educación, día de la semana, número de empleados, la confianza del usuario y entre otros. Como vemos disponemos de un conjunto mezclado de variables de tipo reales y aquellos que son de tipo categórico. Por lo que tendremos que identificar algún tipo de codificación apropiada para estas últimas. La idea será utilizar la técnica de \"OneHotEnconding\" para las categóricas no-ciclicas, que divide las categorias en binarios de 0 y 1. Ejemplo: Rojo = 1 0 0; Verde = 0 1 0; Azul = 0 0 1 ..\n",
        "Y para las categorias cíclicas utilizaremos el esquema seno-conseno."
      ],
      "metadata": {
        "id": "oGDvtS71arBR"
      }
    },
    {
      "cell_type": "code",
      "source": [
        "from google.colab import drive \n",
        "drive.mount('/content/drive')"
      ],
      "metadata": {
        "id": "tF5wSsqU09ym",
        "colab": {
          "base_uri": "https://localhost:8080/"
        },
        "outputId": "7d30c858-fae4-4736-e507-30c8e842cbbd"
      },
      "execution_count": 244,
      "outputs": [
        {
          "output_type": "stream",
          "name": "stdout",
          "text": [
            "Drive already mounted at /content/drive; to attempt to forcibly remount, call drive.mount(\"/content/drive\", force_remount=True).\n"
          ]
        }
      ]
    },
    {
      "cell_type": "markdown",
      "source": [
        "Una vez montado el drive, a continuación utilizaremos la librería panda ya utilizada en prácticas anteriores para realizar la lectura de los archivos de tipos \"csv\" en forma de tabla vectorial.\n",
        "\n",
        "Una vez leídos, realizaremos una división entre conjunto de test y conjunto de entreno. Y procedemos a preprocesar los datos, verificando el comportamiento de cada atributo, datos faltantes, moda.. con la ayuda de distintas librerías."
      ],
      "metadata": {
        "id": "krKTbctuWNeM"
      }
    },
    {
      "cell_type": "code",
      "source": [
        "import pandas as pd\n",
        "from sklearn.model_selection import train_test_split\n",
        "\n",
        "otherData = pd.read_csv('/content/drive/MyDrive/datos/bank.csv',delimiter=';')\n",
        "allData = pd.read_csv('/content/drive/MyDrive/datos/bank-full.csv',delimiter=';')\n",
        "allData = allData.append(otherData) \n",
        "allYdata = allData[\"y\"]\n",
        "allData = allData.loc[:,allData.columns!=\"y\"]\n",
        "data, test, ydata, ytest =  train_test_split(allData,allYdata,test_size=0.2,random_state=42)\n",
        "display(data)\n",
        "ydata = ydata.map({'no':-1,'yes':1})"
      ],
      "metadata": {
        "id": "lApa44LhfHMu",
        "colab": {
          "base_uri": "https://localhost:8080/",
          "height": 488
        },
        "outputId": "5b719def-56f6-45f3-dedb-fa7b3629e15e"
      },
      "execution_count": 245,
      "outputs": [
        {
          "output_type": "display_data",
          "data": {
            "text/plain": [
              "       age          job   marital  education default  balance housing loan  \\\n",
              "3943    45     services    single  secondary      no     1757     yes   no   \n",
              "2791    32   technician   married  secondary      no      782     yes   no   \n",
              "30900   32     services   married  secondary      no      183     yes   no   \n",
              "44615   34       admin.    single   tertiary      no      625      no  yes   \n",
              "5757    32  blue-collar   married  secondary      no      358      no   no   \n",
              "...    ...          ...       ...        ...     ...      ...     ...  ...   \n",
              "11284   44    housemaid    single    primary      no     1059      no   no   \n",
              "44732   23      student    single   tertiary      no      508      no   no   \n",
              "38158   34   technician  divorced   tertiary      no     1317     yes   no   \n",
              "860     33      retired   married  secondary      no      165      no   no   \n",
              "15795   38  blue-collar   married    primary      no      -41     yes   no   \n",
              "\n",
              "        contact  day month  duration  campaign  pdays  previous poutcome  \n",
              "3943   cellular   20   apr      1010         3    326         1    other  \n",
              "2791    unknown   26   may       116         4     -1         0  unknown  \n",
              "30900  cellular    9   feb        17        10     -1         0  unknown  \n",
              "44615   unknown   31   aug        34         1     -1         0  unknown  \n",
              "5757    unknown   26   may       396         1     -1         0  unknown  \n",
              "...         ...  ...   ...       ...       ...    ...       ...      ...  \n",
              "11284   unknown   18   jun      2093         1     -1         0  unknown  \n",
              "44732  cellular    8   sep       210         1     92         1  failure  \n",
              "38158  cellular   15   may       239         1     -1         0  unknown  \n",
              "860     unknown    7   may       111         1     -1         0  unknown  \n",
              "15795  cellular   21   jul        68        10     -1         0  unknown  \n",
              "\n",
              "[39785 rows x 16 columns]"
            ],
            "text/html": [
              "\n",
              "  <div id=\"df-f0cbf60d-f828-4a86-9519-b940fb189e23\">\n",
              "    <div class=\"colab-df-container\">\n",
              "      <div>\n",
              "<style scoped>\n",
              "    .dataframe tbody tr th:only-of-type {\n",
              "        vertical-align: middle;\n",
              "    }\n",
              "\n",
              "    .dataframe tbody tr th {\n",
              "        vertical-align: top;\n",
              "    }\n",
              "\n",
              "    .dataframe thead th {\n",
              "        text-align: right;\n",
              "    }\n",
              "</style>\n",
              "<table border=\"1\" class=\"dataframe\">\n",
              "  <thead>\n",
              "    <tr style=\"text-align: right;\">\n",
              "      <th></th>\n",
              "      <th>age</th>\n",
              "      <th>job</th>\n",
              "      <th>marital</th>\n",
              "      <th>education</th>\n",
              "      <th>default</th>\n",
              "      <th>balance</th>\n",
              "      <th>housing</th>\n",
              "      <th>loan</th>\n",
              "      <th>contact</th>\n",
              "      <th>day</th>\n",
              "      <th>month</th>\n",
              "      <th>duration</th>\n",
              "      <th>campaign</th>\n",
              "      <th>pdays</th>\n",
              "      <th>previous</th>\n",
              "      <th>poutcome</th>\n",
              "    </tr>\n",
              "  </thead>\n",
              "  <tbody>\n",
              "    <tr>\n",
              "      <th>3943</th>\n",
              "      <td>45</td>\n",
              "      <td>services</td>\n",
              "      <td>single</td>\n",
              "      <td>secondary</td>\n",
              "      <td>no</td>\n",
              "      <td>1757</td>\n",
              "      <td>yes</td>\n",
              "      <td>no</td>\n",
              "      <td>cellular</td>\n",
              "      <td>20</td>\n",
              "      <td>apr</td>\n",
              "      <td>1010</td>\n",
              "      <td>3</td>\n",
              "      <td>326</td>\n",
              "      <td>1</td>\n",
              "      <td>other</td>\n",
              "    </tr>\n",
              "    <tr>\n",
              "      <th>2791</th>\n",
              "      <td>32</td>\n",
              "      <td>technician</td>\n",
              "      <td>married</td>\n",
              "      <td>secondary</td>\n",
              "      <td>no</td>\n",
              "      <td>782</td>\n",
              "      <td>yes</td>\n",
              "      <td>no</td>\n",
              "      <td>unknown</td>\n",
              "      <td>26</td>\n",
              "      <td>may</td>\n",
              "      <td>116</td>\n",
              "      <td>4</td>\n",
              "      <td>-1</td>\n",
              "      <td>0</td>\n",
              "      <td>unknown</td>\n",
              "    </tr>\n",
              "    <tr>\n",
              "      <th>30900</th>\n",
              "      <td>32</td>\n",
              "      <td>services</td>\n",
              "      <td>married</td>\n",
              "      <td>secondary</td>\n",
              "      <td>no</td>\n",
              "      <td>183</td>\n",
              "      <td>yes</td>\n",
              "      <td>no</td>\n",
              "      <td>cellular</td>\n",
              "      <td>9</td>\n",
              "      <td>feb</td>\n",
              "      <td>17</td>\n",
              "      <td>10</td>\n",
              "      <td>-1</td>\n",
              "      <td>0</td>\n",
              "      <td>unknown</td>\n",
              "    </tr>\n",
              "    <tr>\n",
              "      <th>44615</th>\n",
              "      <td>34</td>\n",
              "      <td>admin.</td>\n",
              "      <td>single</td>\n",
              "      <td>tertiary</td>\n",
              "      <td>no</td>\n",
              "      <td>625</td>\n",
              "      <td>no</td>\n",
              "      <td>yes</td>\n",
              "      <td>unknown</td>\n",
              "      <td>31</td>\n",
              "      <td>aug</td>\n",
              "      <td>34</td>\n",
              "      <td>1</td>\n",
              "      <td>-1</td>\n",
              "      <td>0</td>\n",
              "      <td>unknown</td>\n",
              "    </tr>\n",
              "    <tr>\n",
              "      <th>5757</th>\n",
              "      <td>32</td>\n",
              "      <td>blue-collar</td>\n",
              "      <td>married</td>\n",
              "      <td>secondary</td>\n",
              "      <td>no</td>\n",
              "      <td>358</td>\n",
              "      <td>no</td>\n",
              "      <td>no</td>\n",
              "      <td>unknown</td>\n",
              "      <td>26</td>\n",
              "      <td>may</td>\n",
              "      <td>396</td>\n",
              "      <td>1</td>\n",
              "      <td>-1</td>\n",
              "      <td>0</td>\n",
              "      <td>unknown</td>\n",
              "    </tr>\n",
              "    <tr>\n",
              "      <th>...</th>\n",
              "      <td>...</td>\n",
              "      <td>...</td>\n",
              "      <td>...</td>\n",
              "      <td>...</td>\n",
              "      <td>...</td>\n",
              "      <td>...</td>\n",
              "      <td>...</td>\n",
              "      <td>...</td>\n",
              "      <td>...</td>\n",
              "      <td>...</td>\n",
              "      <td>...</td>\n",
              "      <td>...</td>\n",
              "      <td>...</td>\n",
              "      <td>...</td>\n",
              "      <td>...</td>\n",
              "      <td>...</td>\n",
              "    </tr>\n",
              "    <tr>\n",
              "      <th>11284</th>\n",
              "      <td>44</td>\n",
              "      <td>housemaid</td>\n",
              "      <td>single</td>\n",
              "      <td>primary</td>\n",
              "      <td>no</td>\n",
              "      <td>1059</td>\n",
              "      <td>no</td>\n",
              "      <td>no</td>\n",
              "      <td>unknown</td>\n",
              "      <td>18</td>\n",
              "      <td>jun</td>\n",
              "      <td>2093</td>\n",
              "      <td>1</td>\n",
              "      <td>-1</td>\n",
              "      <td>0</td>\n",
              "      <td>unknown</td>\n",
              "    </tr>\n",
              "    <tr>\n",
              "      <th>44732</th>\n",
              "      <td>23</td>\n",
              "      <td>student</td>\n",
              "      <td>single</td>\n",
              "      <td>tertiary</td>\n",
              "      <td>no</td>\n",
              "      <td>508</td>\n",
              "      <td>no</td>\n",
              "      <td>no</td>\n",
              "      <td>cellular</td>\n",
              "      <td>8</td>\n",
              "      <td>sep</td>\n",
              "      <td>210</td>\n",
              "      <td>1</td>\n",
              "      <td>92</td>\n",
              "      <td>1</td>\n",
              "      <td>failure</td>\n",
              "    </tr>\n",
              "    <tr>\n",
              "      <th>38158</th>\n",
              "      <td>34</td>\n",
              "      <td>technician</td>\n",
              "      <td>divorced</td>\n",
              "      <td>tertiary</td>\n",
              "      <td>no</td>\n",
              "      <td>1317</td>\n",
              "      <td>yes</td>\n",
              "      <td>no</td>\n",
              "      <td>cellular</td>\n",
              "      <td>15</td>\n",
              "      <td>may</td>\n",
              "      <td>239</td>\n",
              "      <td>1</td>\n",
              "      <td>-1</td>\n",
              "      <td>0</td>\n",
              "      <td>unknown</td>\n",
              "    </tr>\n",
              "    <tr>\n",
              "      <th>860</th>\n",
              "      <td>33</td>\n",
              "      <td>retired</td>\n",
              "      <td>married</td>\n",
              "      <td>secondary</td>\n",
              "      <td>no</td>\n",
              "      <td>165</td>\n",
              "      <td>no</td>\n",
              "      <td>no</td>\n",
              "      <td>unknown</td>\n",
              "      <td>7</td>\n",
              "      <td>may</td>\n",
              "      <td>111</td>\n",
              "      <td>1</td>\n",
              "      <td>-1</td>\n",
              "      <td>0</td>\n",
              "      <td>unknown</td>\n",
              "    </tr>\n",
              "    <tr>\n",
              "      <th>15795</th>\n",
              "      <td>38</td>\n",
              "      <td>blue-collar</td>\n",
              "      <td>married</td>\n",
              "      <td>primary</td>\n",
              "      <td>no</td>\n",
              "      <td>-41</td>\n",
              "      <td>yes</td>\n",
              "      <td>no</td>\n",
              "      <td>cellular</td>\n",
              "      <td>21</td>\n",
              "      <td>jul</td>\n",
              "      <td>68</td>\n",
              "      <td>10</td>\n",
              "      <td>-1</td>\n",
              "      <td>0</td>\n",
              "      <td>unknown</td>\n",
              "    </tr>\n",
              "  </tbody>\n",
              "</table>\n",
              "<p>39785 rows × 16 columns</p>\n",
              "</div>\n",
              "      <button class=\"colab-df-convert\" onclick=\"convertToInteractive('df-f0cbf60d-f828-4a86-9519-b940fb189e23')\"\n",
              "              title=\"Convert this dataframe to an interactive table.\"\n",
              "              style=\"display:none;\">\n",
              "        \n",
              "  <svg xmlns=\"http://www.w3.org/2000/svg\" height=\"24px\"viewBox=\"0 0 24 24\"\n",
              "       width=\"24px\">\n",
              "    <path d=\"M0 0h24v24H0V0z\" fill=\"none\"/>\n",
              "    <path d=\"M18.56 5.44l.94 2.06.94-2.06 2.06-.94-2.06-.94-.94-2.06-.94 2.06-2.06.94zm-11 1L8.5 8.5l.94-2.06 2.06-.94-2.06-.94L8.5 2.5l-.94 2.06-2.06.94zm10 10l.94 2.06.94-2.06 2.06-.94-2.06-.94-.94-2.06-.94 2.06-2.06.94z\"/><path d=\"M17.41 7.96l-1.37-1.37c-.4-.4-.92-.59-1.43-.59-.52 0-1.04.2-1.43.59L10.3 9.45l-7.72 7.72c-.78.78-.78 2.05 0 2.83L4 21.41c.39.39.9.59 1.41.59.51 0 1.02-.2 1.41-.59l7.78-7.78 2.81-2.81c.8-.78.8-2.07 0-2.86zM5.41 20L4 18.59l7.72-7.72 1.47 1.35L5.41 20z\"/>\n",
              "  </svg>\n",
              "      </button>\n",
              "      \n",
              "  <style>\n",
              "    .colab-df-container {\n",
              "      display:flex;\n",
              "      flex-wrap:wrap;\n",
              "      gap: 12px;\n",
              "    }\n",
              "\n",
              "    .colab-df-convert {\n",
              "      background-color: #E8F0FE;\n",
              "      border: none;\n",
              "      border-radius: 50%;\n",
              "      cursor: pointer;\n",
              "      display: none;\n",
              "      fill: #1967D2;\n",
              "      height: 32px;\n",
              "      padding: 0 0 0 0;\n",
              "      width: 32px;\n",
              "    }\n",
              "\n",
              "    .colab-df-convert:hover {\n",
              "      background-color: #E2EBFA;\n",
              "      box-shadow: 0px 1px 2px rgba(60, 64, 67, 0.3), 0px 1px 3px 1px rgba(60, 64, 67, 0.15);\n",
              "      fill: #174EA6;\n",
              "    }\n",
              "\n",
              "    [theme=dark] .colab-df-convert {\n",
              "      background-color: #3B4455;\n",
              "      fill: #D2E3FC;\n",
              "    }\n",
              "\n",
              "    [theme=dark] .colab-df-convert:hover {\n",
              "      background-color: #434B5C;\n",
              "      box-shadow: 0px 1px 3px 1px rgba(0, 0, 0, 0.15);\n",
              "      filter: drop-shadow(0px 1px 2px rgba(0, 0, 0, 0.3));\n",
              "      fill: #FFFFFF;\n",
              "    }\n",
              "  </style>\n",
              "\n",
              "      <script>\n",
              "        const buttonEl =\n",
              "          document.querySelector('#df-f0cbf60d-f828-4a86-9519-b940fb189e23 button.colab-df-convert');\n",
              "        buttonEl.style.display =\n",
              "          google.colab.kernel.accessAllowed ? 'block' : 'none';\n",
              "\n",
              "        async function convertToInteractive(key) {\n",
              "          const element = document.querySelector('#df-f0cbf60d-f828-4a86-9519-b940fb189e23');\n",
              "          const dataTable =\n",
              "            await google.colab.kernel.invokeFunction('convertToInteractive',\n",
              "                                                     [key], {});\n",
              "          if (!dataTable) return;\n",
              "\n",
              "          const docLinkHtml = 'Like what you see? Visit the ' +\n",
              "            '<a target=\"_blank\" href=https://colab.research.google.com/notebooks/data_table.ipynb>data table notebook</a>'\n",
              "            + ' to learn more about interactive tables.';\n",
              "          element.innerHTML = '';\n",
              "          dataTable['output_type'] = 'display_data';\n",
              "          await google.colab.output.renderOutput(dataTable, element);\n",
              "          const docLink = document.createElement('div');\n",
              "          docLink.innerHTML = docLinkHtml;\n",
              "          element.appendChild(docLink);\n",
              "        }\n",
              "      </script>\n",
              "    </div>\n",
              "  </div>\n",
              "  "
            ]
          },
          "metadata": {}
        }
      ]
    },
    {
      "cell_type": "markdown",
      "source": [
        "El conjunto $\\mathcal{Y}$ es de tipo cadena de caracteres 'yes' ó 'no', lo cambiaremos a los valores -1 y 1. \n",
        "Lo primero que haré es transformar el nombre de los meses en números, ya que luego tendremos que transformar esa variable categórica en variable númerica para poder trabajar sobre ella. [Autor del código](https://stackoverflow.com/questions/42684530/convert-a-column-in-a-python-pandas-from-string-month-into-int)"
      ],
      "metadata": {
        "id": "epMPmxGe0vxj"
      }
    },
    {
      "cell_type": "code",
      "source": [
        "from calendar import month_abbr\n",
        "lower_ma = [m.lower() for m in month_abbr]\n",
        "\n",
        "data['month'] = data['month'].str.lower().map(lambda m: lower_ma.index(m)).astype('Int8')\n",
        "display(data)"
      ],
      "metadata": {
        "id": "nrx560t8i4cZ",
        "colab": {
          "base_uri": "https://localhost:8080/",
          "height": 488
        },
        "outputId": "88183b08-54d5-4da1-cefc-01a13ca814d2"
      },
      "execution_count": 246,
      "outputs": [
        {
          "output_type": "display_data",
          "data": {
            "text/plain": [
              "       age          job   marital  education default  balance housing loan  \\\n",
              "3943    45     services    single  secondary      no     1757     yes   no   \n",
              "2791    32   technician   married  secondary      no      782     yes   no   \n",
              "30900   32     services   married  secondary      no      183     yes   no   \n",
              "44615   34       admin.    single   tertiary      no      625      no  yes   \n",
              "5757    32  blue-collar   married  secondary      no      358      no   no   \n",
              "...    ...          ...       ...        ...     ...      ...     ...  ...   \n",
              "11284   44    housemaid    single    primary      no     1059      no   no   \n",
              "44732   23      student    single   tertiary      no      508      no   no   \n",
              "38158   34   technician  divorced   tertiary      no     1317     yes   no   \n",
              "860     33      retired   married  secondary      no      165      no   no   \n",
              "15795   38  blue-collar   married    primary      no      -41     yes   no   \n",
              "\n",
              "        contact  day  month  duration  campaign  pdays  previous poutcome  \n",
              "3943   cellular   20      4      1010         3    326         1    other  \n",
              "2791    unknown   26      5       116         4     -1         0  unknown  \n",
              "30900  cellular    9      2        17        10     -1         0  unknown  \n",
              "44615   unknown   31      8        34         1     -1         0  unknown  \n",
              "5757    unknown   26      5       396         1     -1         0  unknown  \n",
              "...         ...  ...    ...       ...       ...    ...       ...      ...  \n",
              "11284   unknown   18      6      2093         1     -1         0  unknown  \n",
              "44732  cellular    8      9       210         1     92         1  failure  \n",
              "38158  cellular   15      5       239         1     -1         0  unknown  \n",
              "860     unknown    7      5       111         1     -1         0  unknown  \n",
              "15795  cellular   21      7        68        10     -1         0  unknown  \n",
              "\n",
              "[39785 rows x 16 columns]"
            ],
            "text/html": [
              "\n",
              "  <div id=\"df-f091aeaa-078f-42d3-8c03-033ec9988706\">\n",
              "    <div class=\"colab-df-container\">\n",
              "      <div>\n",
              "<style scoped>\n",
              "    .dataframe tbody tr th:only-of-type {\n",
              "        vertical-align: middle;\n",
              "    }\n",
              "\n",
              "    .dataframe tbody tr th {\n",
              "        vertical-align: top;\n",
              "    }\n",
              "\n",
              "    .dataframe thead th {\n",
              "        text-align: right;\n",
              "    }\n",
              "</style>\n",
              "<table border=\"1\" class=\"dataframe\">\n",
              "  <thead>\n",
              "    <tr style=\"text-align: right;\">\n",
              "      <th></th>\n",
              "      <th>age</th>\n",
              "      <th>job</th>\n",
              "      <th>marital</th>\n",
              "      <th>education</th>\n",
              "      <th>default</th>\n",
              "      <th>balance</th>\n",
              "      <th>housing</th>\n",
              "      <th>loan</th>\n",
              "      <th>contact</th>\n",
              "      <th>day</th>\n",
              "      <th>month</th>\n",
              "      <th>duration</th>\n",
              "      <th>campaign</th>\n",
              "      <th>pdays</th>\n",
              "      <th>previous</th>\n",
              "      <th>poutcome</th>\n",
              "    </tr>\n",
              "  </thead>\n",
              "  <tbody>\n",
              "    <tr>\n",
              "      <th>3943</th>\n",
              "      <td>45</td>\n",
              "      <td>services</td>\n",
              "      <td>single</td>\n",
              "      <td>secondary</td>\n",
              "      <td>no</td>\n",
              "      <td>1757</td>\n",
              "      <td>yes</td>\n",
              "      <td>no</td>\n",
              "      <td>cellular</td>\n",
              "      <td>20</td>\n",
              "      <td>4</td>\n",
              "      <td>1010</td>\n",
              "      <td>3</td>\n",
              "      <td>326</td>\n",
              "      <td>1</td>\n",
              "      <td>other</td>\n",
              "    </tr>\n",
              "    <tr>\n",
              "      <th>2791</th>\n",
              "      <td>32</td>\n",
              "      <td>technician</td>\n",
              "      <td>married</td>\n",
              "      <td>secondary</td>\n",
              "      <td>no</td>\n",
              "      <td>782</td>\n",
              "      <td>yes</td>\n",
              "      <td>no</td>\n",
              "      <td>unknown</td>\n",
              "      <td>26</td>\n",
              "      <td>5</td>\n",
              "      <td>116</td>\n",
              "      <td>4</td>\n",
              "      <td>-1</td>\n",
              "      <td>0</td>\n",
              "      <td>unknown</td>\n",
              "    </tr>\n",
              "    <tr>\n",
              "      <th>30900</th>\n",
              "      <td>32</td>\n",
              "      <td>services</td>\n",
              "      <td>married</td>\n",
              "      <td>secondary</td>\n",
              "      <td>no</td>\n",
              "      <td>183</td>\n",
              "      <td>yes</td>\n",
              "      <td>no</td>\n",
              "      <td>cellular</td>\n",
              "      <td>9</td>\n",
              "      <td>2</td>\n",
              "      <td>17</td>\n",
              "      <td>10</td>\n",
              "      <td>-1</td>\n",
              "      <td>0</td>\n",
              "      <td>unknown</td>\n",
              "    </tr>\n",
              "    <tr>\n",
              "      <th>44615</th>\n",
              "      <td>34</td>\n",
              "      <td>admin.</td>\n",
              "      <td>single</td>\n",
              "      <td>tertiary</td>\n",
              "      <td>no</td>\n",
              "      <td>625</td>\n",
              "      <td>no</td>\n",
              "      <td>yes</td>\n",
              "      <td>unknown</td>\n",
              "      <td>31</td>\n",
              "      <td>8</td>\n",
              "      <td>34</td>\n",
              "      <td>1</td>\n",
              "      <td>-1</td>\n",
              "      <td>0</td>\n",
              "      <td>unknown</td>\n",
              "    </tr>\n",
              "    <tr>\n",
              "      <th>5757</th>\n",
              "      <td>32</td>\n",
              "      <td>blue-collar</td>\n",
              "      <td>married</td>\n",
              "      <td>secondary</td>\n",
              "      <td>no</td>\n",
              "      <td>358</td>\n",
              "      <td>no</td>\n",
              "      <td>no</td>\n",
              "      <td>unknown</td>\n",
              "      <td>26</td>\n",
              "      <td>5</td>\n",
              "      <td>396</td>\n",
              "      <td>1</td>\n",
              "      <td>-1</td>\n",
              "      <td>0</td>\n",
              "      <td>unknown</td>\n",
              "    </tr>\n",
              "    <tr>\n",
              "      <th>...</th>\n",
              "      <td>...</td>\n",
              "      <td>...</td>\n",
              "      <td>...</td>\n",
              "      <td>...</td>\n",
              "      <td>...</td>\n",
              "      <td>...</td>\n",
              "      <td>...</td>\n",
              "      <td>...</td>\n",
              "      <td>...</td>\n",
              "      <td>...</td>\n",
              "      <td>...</td>\n",
              "      <td>...</td>\n",
              "      <td>...</td>\n",
              "      <td>...</td>\n",
              "      <td>...</td>\n",
              "      <td>...</td>\n",
              "    </tr>\n",
              "    <tr>\n",
              "      <th>11284</th>\n",
              "      <td>44</td>\n",
              "      <td>housemaid</td>\n",
              "      <td>single</td>\n",
              "      <td>primary</td>\n",
              "      <td>no</td>\n",
              "      <td>1059</td>\n",
              "      <td>no</td>\n",
              "      <td>no</td>\n",
              "      <td>unknown</td>\n",
              "      <td>18</td>\n",
              "      <td>6</td>\n",
              "      <td>2093</td>\n",
              "      <td>1</td>\n",
              "      <td>-1</td>\n",
              "      <td>0</td>\n",
              "      <td>unknown</td>\n",
              "    </tr>\n",
              "    <tr>\n",
              "      <th>44732</th>\n",
              "      <td>23</td>\n",
              "      <td>student</td>\n",
              "      <td>single</td>\n",
              "      <td>tertiary</td>\n",
              "      <td>no</td>\n",
              "      <td>508</td>\n",
              "      <td>no</td>\n",
              "      <td>no</td>\n",
              "      <td>cellular</td>\n",
              "      <td>8</td>\n",
              "      <td>9</td>\n",
              "      <td>210</td>\n",
              "      <td>1</td>\n",
              "      <td>92</td>\n",
              "      <td>1</td>\n",
              "      <td>failure</td>\n",
              "    </tr>\n",
              "    <tr>\n",
              "      <th>38158</th>\n",
              "      <td>34</td>\n",
              "      <td>technician</td>\n",
              "      <td>divorced</td>\n",
              "      <td>tertiary</td>\n",
              "      <td>no</td>\n",
              "      <td>1317</td>\n",
              "      <td>yes</td>\n",
              "      <td>no</td>\n",
              "      <td>cellular</td>\n",
              "      <td>15</td>\n",
              "      <td>5</td>\n",
              "      <td>239</td>\n",
              "      <td>1</td>\n",
              "      <td>-1</td>\n",
              "      <td>0</td>\n",
              "      <td>unknown</td>\n",
              "    </tr>\n",
              "    <tr>\n",
              "      <th>860</th>\n",
              "      <td>33</td>\n",
              "      <td>retired</td>\n",
              "      <td>married</td>\n",
              "      <td>secondary</td>\n",
              "      <td>no</td>\n",
              "      <td>165</td>\n",
              "      <td>no</td>\n",
              "      <td>no</td>\n",
              "      <td>unknown</td>\n",
              "      <td>7</td>\n",
              "      <td>5</td>\n",
              "      <td>111</td>\n",
              "      <td>1</td>\n",
              "      <td>-1</td>\n",
              "      <td>0</td>\n",
              "      <td>unknown</td>\n",
              "    </tr>\n",
              "    <tr>\n",
              "      <th>15795</th>\n",
              "      <td>38</td>\n",
              "      <td>blue-collar</td>\n",
              "      <td>married</td>\n",
              "      <td>primary</td>\n",
              "      <td>no</td>\n",
              "      <td>-41</td>\n",
              "      <td>yes</td>\n",
              "      <td>no</td>\n",
              "      <td>cellular</td>\n",
              "      <td>21</td>\n",
              "      <td>7</td>\n",
              "      <td>68</td>\n",
              "      <td>10</td>\n",
              "      <td>-1</td>\n",
              "      <td>0</td>\n",
              "      <td>unknown</td>\n",
              "    </tr>\n",
              "  </tbody>\n",
              "</table>\n",
              "<p>39785 rows × 16 columns</p>\n",
              "</div>\n",
              "      <button class=\"colab-df-convert\" onclick=\"convertToInteractive('df-f091aeaa-078f-42d3-8c03-033ec9988706')\"\n",
              "              title=\"Convert this dataframe to an interactive table.\"\n",
              "              style=\"display:none;\">\n",
              "        \n",
              "  <svg xmlns=\"http://www.w3.org/2000/svg\" height=\"24px\"viewBox=\"0 0 24 24\"\n",
              "       width=\"24px\">\n",
              "    <path d=\"M0 0h24v24H0V0z\" fill=\"none\"/>\n",
              "    <path d=\"M18.56 5.44l.94 2.06.94-2.06 2.06-.94-2.06-.94-.94-2.06-.94 2.06-2.06.94zm-11 1L8.5 8.5l.94-2.06 2.06-.94-2.06-.94L8.5 2.5l-.94 2.06-2.06.94zm10 10l.94 2.06.94-2.06 2.06-.94-2.06-.94-.94-2.06-.94 2.06-2.06.94z\"/><path d=\"M17.41 7.96l-1.37-1.37c-.4-.4-.92-.59-1.43-.59-.52 0-1.04.2-1.43.59L10.3 9.45l-7.72 7.72c-.78.78-.78 2.05 0 2.83L4 21.41c.39.39.9.59 1.41.59.51 0 1.02-.2 1.41-.59l7.78-7.78 2.81-2.81c.8-.78.8-2.07 0-2.86zM5.41 20L4 18.59l7.72-7.72 1.47 1.35L5.41 20z\"/>\n",
              "  </svg>\n",
              "      </button>\n",
              "      \n",
              "  <style>\n",
              "    .colab-df-container {\n",
              "      display:flex;\n",
              "      flex-wrap:wrap;\n",
              "      gap: 12px;\n",
              "    }\n",
              "\n",
              "    .colab-df-convert {\n",
              "      background-color: #E8F0FE;\n",
              "      border: none;\n",
              "      border-radius: 50%;\n",
              "      cursor: pointer;\n",
              "      display: none;\n",
              "      fill: #1967D2;\n",
              "      height: 32px;\n",
              "      padding: 0 0 0 0;\n",
              "      width: 32px;\n",
              "    }\n",
              "\n",
              "    .colab-df-convert:hover {\n",
              "      background-color: #E2EBFA;\n",
              "      box-shadow: 0px 1px 2px rgba(60, 64, 67, 0.3), 0px 1px 3px 1px rgba(60, 64, 67, 0.15);\n",
              "      fill: #174EA6;\n",
              "    }\n",
              "\n",
              "    [theme=dark] .colab-df-convert {\n",
              "      background-color: #3B4455;\n",
              "      fill: #D2E3FC;\n",
              "    }\n",
              "\n",
              "    [theme=dark] .colab-df-convert:hover {\n",
              "      background-color: #434B5C;\n",
              "      box-shadow: 0px 1px 3px 1px rgba(0, 0, 0, 0.15);\n",
              "      filter: drop-shadow(0px 1px 2px rgba(0, 0, 0, 0.3));\n",
              "      fill: #FFFFFF;\n",
              "    }\n",
              "  </style>\n",
              "\n",
              "      <script>\n",
              "        const buttonEl =\n",
              "          document.querySelector('#df-f091aeaa-078f-42d3-8c03-033ec9988706 button.colab-df-convert');\n",
              "        buttonEl.style.display =\n",
              "          google.colab.kernel.accessAllowed ? 'block' : 'none';\n",
              "\n",
              "        async function convertToInteractive(key) {\n",
              "          const element = document.querySelector('#df-f091aeaa-078f-42d3-8c03-033ec9988706');\n",
              "          const dataTable =\n",
              "            await google.colab.kernel.invokeFunction('convertToInteractive',\n",
              "                                                     [key], {});\n",
              "          if (!dataTable) return;\n",
              "\n",
              "          const docLinkHtml = 'Like what you see? Visit the ' +\n",
              "            '<a target=\"_blank\" href=https://colab.research.google.com/notebooks/data_table.ipynb>data table notebook</a>'\n",
              "            + ' to learn more about interactive tables.';\n",
              "          element.innerHTML = '';\n",
              "          dataTable['output_type'] = 'display_data';\n",
              "          await google.colab.output.renderOutput(dataTable, element);\n",
              "          const docLink = document.createElement('div');\n",
              "          docLink.innerHTML = docLinkHtml;\n",
              "          element.appendChild(docLink);\n",
              "        }\n",
              "      </script>\n",
              "    </div>\n",
              "  </div>\n",
              "  "
            ]
          },
          "metadata": {}
        }
      ]
    },
    {
      "cell_type": "markdown",
      "source": [
        "# Preprocesado de datos."
      ],
      "metadata": {
        "id": "Nxp5qjEzNTFF"
      }
    },
    {
      "cell_type": "markdown",
      "source": [
        "Antes de realizar cambios en las variables deberíamos verificar la integridad de los atributos que disponemos, para el ello voy a verificar algunas restricciones importantes, dibujar el histograma y verificar datos como la media, mediana, la desviación y varianza."
      ],
      "metadata": {
        "id": "Jfnne2h8F-AO"
      }
    },
    {
      "cell_type": "markdown",
      "source": [
        "Como nuestro objetivo es predecir los casos positivos, lo primero que quiero hacer es verificar la distribución o equilibrio entre los casos."
      ],
      "metadata": {
        "id": "6pB9T8ijkGSe"
      }
    },
    {
      "cell_type": "code",
      "source": [
        "import matplotlib.pyplot as plt \n",
        "plt.hist(ydata,bins=2,range=[-2,2])\n",
        "plt.figure(dpi=80,figsize=(10,8))\n",
        "plt.show()"
      ],
      "metadata": {
        "colab": {
          "base_uri": "https://localhost:8080/",
          "height": 517
        },
        "outputId": "5229db0b-9711-4a54-ca85-ef601e682aa7",
        "id": "NtCBzxvOkE8e"
      },
      "execution_count": 247,
      "outputs": [
        {
          "output_type": "display_data",
          "data": {
            "text/plain": [
              "<Figure size 842.4x595.44 with 1 Axes>"
            ],
            "image/png": "[encoded data removed]"
          },
          "metadata": {}
        },
        {
          "output_type": "display_data",
          "data": {
            "text/plain": [
              "<Figure size 800x640 with 0 Axes>"
            ]
          },
          "metadata": {}
        }
      ]
    },
    {
      "cell_type": "markdown",
      "source": [
        "Vemos que tenemos claramente un problema, el desequilibrio de clases es brutal. No sería erróneo esperar que nuestro modelo no fuera capaz de generalizar para los casos positivos y/o que tuviera problemas para clasificarlos. No habría otra manera de arreglar-lo a no ser buscar recoger más información y data sobre el tema. Veremos como se comportan los modelos...\n",
        "\n",
        "Incluso podríamos utilizar como métrica la de \"balanced_accuracy\" que nos provee sklearn para mejor elegir los modelos, pero es equivalente a realizar un análisis mediante las curvas ROC y de aprendizaje, además de visualizando la matriz confusa así que seguiré utilizando la \"accuracy\" común"
      ],
      "metadata": {
        "id": "qe_5YC0QkE8i"
      }
    },
    {
      "cell_type": "markdown",
      "source": [
        "### Histograma bonito"
      ],
      "metadata": {
        "id": "V0iHJ_3GV-Z7"
      }
    },
    {
      "cell_type": "code",
      "source": [
        "import matplotlib.pyplot as plt \n",
        "\n",
        "def histogram(x,bins,xlabel=\"\"):\n",
        "  plt.style.use('ggplot')\n",
        "  fig, ax = plt.subplots(figsize = (10,8))\n",
        "  if(type(x.values[0])!=str):\n",
        "    # Plot histogram\n",
        "    x.plot(kind = \"hist\", density = True, alpha = 0.65, bins = bins) # change density to true, because KDE uses density\n",
        "    # Plot KDE\n",
        "    x.plot(kind = \"kde\")\n",
        "\n",
        "        # Quantile lines\n",
        "    quant_5, quant_25, quant_50, quant_75, quant_95 = x.quantile(0.05), x.quantile(0.25), x.quantile(0.5), x.quantile(0.75), x.quantile(0.95)\n",
        "    quants = [[quant_5, 0.6, 0.16], [quant_25, 0.8, 0.26], [quant_50, 1, 0.36],  [quant_75, 0.8, 0.46], [quant_95, 0.6, 0.56]]\n",
        "    for i in quants:\n",
        "        ax.axvline(i[0], alpha = i[1], ymax = i[2], linestyle = \":\",color=\"blue\")\n",
        "        \n",
        "    ax.set_xlim(0,100)\n",
        "    ax.set_xlabel(xlabel) \n",
        "    ax.set_ylabel(\"\")\n",
        "    \n",
        "    # Annotations\n",
        "    ax.text(quant_5-.5, 0.012, \"5th\", size = 10, alpha = 0.8)\n",
        "    ax.text(quant_25-.25, 0.020, \"25th\", size = 11, alpha = 0.85)\n",
        "    ax.text(quant_50-.25, 0.025, \"50th\", size = 12, alpha = 1)\n",
        "    ax.text(quant_75-.25, 0.030, \"75th\", size = 11, alpha = 0.85)\n",
        "    ax.text(quant_95-.45, 0.036, \"95th Percentile\", size = 10, alpha =.8)\n",
        "  else:\n",
        "    x.value_counts().plot(kind = \"bar\", alpha = 0.65)\n",
        "  \n",
        "  \n",
        "  # Overall\n",
        "  ax.grid(False)\n",
        "  \n",
        "      # Remove ticks and spines\n",
        "  ax.tick_params(left = False, bottom = False)\n",
        "  for ax, spine in ax.spines.items():\n",
        "      spine.set_visible(False)\n",
        "      \n",
        "  plt.show()\n"
      ],
      "metadata": {
        "id": "IdnF8gIIL4Kq"
      },
      "execution_count": 248,
      "outputs": []
    },
    {
      "cell_type": "markdown",
      "source": [
        "## Estudio estadístico de los datos."
      ],
      "metadata": {
        "id": "A4K9WEa3WBSP"
      }
    },
    {
      "cell_type": "code",
      "source": [
        "histogram(data[\"age\"],100,xlabel=\"edad\")"
      ],
      "metadata": {
        "id": "mcsYlyThgbNb",
        "colab": {
          "base_uri": "https://localhost:8080/",
          "height": 502
        },
        "outputId": "c9775321-d2ee-4ab3-c12e-2a1f2b79c936"
      },
      "execution_count": 249,
      "outputs": [
        {
          "output_type": "display_data",
          "data": {
            "text/plain": [
              "<Figure size 720x576 with 1 Axes>"
            ],
            "image/png": "[encoded data removed]"
          },
          "metadata": {}
        }
      ]
    },
    {
      "cell_type": "markdown",
      "source": [
        "Vemos que tenemos muy pocos valores para las edades por encima de los 60, podríamos plantearnos la importancia de mantener esos datos. Sin embargo, este histograma es más bien para verificar el correto funcionamiento de la función y  la integridad de los datos, como vemos, tenemos apenas valores positivos para la edad. "
      ],
      "metadata": {
        "id": "Vq9K6LADR8BZ"
      }
    },
    {
      "cell_type": "code",
      "source": [
        "histogram(data[\"job\"],15,xlabel=\"trabajadores\")"
      ],
      "metadata": {
        "id": "pNYjLHRuPc3R",
        "colab": {
          "base_uri": "https://localhost:8080/",
          "height": 553
        },
        "outputId": "a96351ae-ed30-44c5-f5a2-657641f8e2ca"
      },
      "execution_count": 250,
      "outputs": [
        {
          "output_type": "display_data",
          "data": {
            "text/plain": [
              "<Figure size 720x576 with 1 Axes>"
            ],
            "image/png": "[encoded data removed]"
          },
          "metadata": {}
        }
      ]
    },
    {
      "cell_type": "markdown",
      "source": [
        "Con este histograma categorico vemos que disponemos de valores \"desconocidos\", \"unknown\", que seguramente sean \"placeholders\" que no aporten ningúna información. Vemos además con la primera tabla que otros atributos categóricos disponen del mismo valor. Sería oportuno realizar un estudio y conteo de la proporción para tomar medidas."
      ],
      "metadata": {
        "id": "7Y36e7xJXLXg"
      }
    },
    {
      "cell_type": "code",
      "source": [
        "import numpy as np \n",
        "# Verificamos que las edades son mayor que 0 \n",
        "def pdStrMiss(data): \n",
        "  print(\"### Verificación de integridad de los datos categóricos #### \")\n",
        "  lista_faltantes = []\n",
        "  index_values = []\n",
        "  for (columnName, columnData) in data.iteritems():\n",
        "    if(type(columnData[1])==str):\n",
        "      index_values = np.array(np.where(columnData==\"unknown\"))\n",
        "      if(index_values.shape[1]>1):\n",
        "        lista_faltantes.append([columnName,index_values[0]])\n",
        "        print(\"Número de datos faltantes para \" + columnName + \" : \", index_values.shape[1])\n",
        "  lista_faltantes = np.array(lista_faltantes,dtype=object)\n",
        "  return lista_faltantes \n",
        "  print(\"##################################################\")\n",
        "lista = pdStrMiss(data)"
      ],
      "metadata": {
        "id": "8-jvjpdFGHGZ",
        "colab": {
          "base_uri": "https://localhost:8080/"
        },
        "outputId": "cfc3e3ba-a2b6-401b-d63e-0a14cd1082fd"
      },
      "execution_count": 251,
      "outputs": [
        {
          "output_type": "stream",
          "name": "stdout",
          "text": [
            "### Verificación de integridad de los datos categóricos #### \n",
            "Número de datos faltantes para job :  253\n",
            "Número de datos faltantes para education :  1651\n",
            "Número de datos faltantes para contact :  11488\n",
            "Número de datos faltantes para poutcome :  32515\n"
          ]
        }
      ]
    },
    {
      "cell_type": "markdown",
      "source": [
        "placeholde que más de la mitad de los valores para \"poutcome\" son placeholders, por lo que podríamos inferir que no tiene sentido utilizar ese atributo para nuestro modelo de aprendizaje ya que no disponemos de suficiente información al respecto. Sin embargo si miramos los valores de etiquetas cuando el valor es desconocido para esa columna y las demás vemos que: "
      ],
      "metadata": {
        "id": "dmUsKh9kLPcq"
      }
    },
    {
      "cell_type": "code",
      "source": [
        "count = []\n",
        "for i in range(0,len(lista)):\n",
        "  yUnk = ydata.index[lista[i][1]]\n",
        "  count.append(np.array(np.where(ydata[yUnk]==1)[0]).shape[0])\n",
        "  print(\"Número de etiquetas positivas en:\", lista[i][0] , count[i])"
      ],
      "metadata": {
        "colab": {
          "base_uri": "https://localhost:8080/"
        },
        "id": "sNvgYZY4b5BQ",
        "outputId": "c49365ca-75b5-4b87-8bdb-8e76725222d0"
      },
      "execution_count": 252,
      "outputs": [
        {
          "output_type": "stream",
          "name": "stdout",
          "text": [
            "Número de etiquetas positivas en: job 35\n",
            "Número de etiquetas positivas en: education 237\n",
            "Número de etiquetas positivas en: contact 827\n",
            "Número de etiquetas positivas en: poutcome 3370\n"
          ]
        }
      ]
    },
    {
      "cell_type": "code",
      "source": [
        "for i in range(0,len(lista)):\n",
        "  print(\"Porcentaje de casos positivos:\", count[i]/np.array(np.where(ydata>0)[0]).shape[0])"
      ],
      "metadata": {
        "colab": {
          "base_uri": "https://localhost:8080/"
        },
        "id": "MtLmlbwAeDQ5",
        "outputId": "93473462-f48b-4fa0-d01c-6f4f9d8e26b3"
      },
      "execution_count": 253,
      "outputs": [
        {
          "output_type": "stream",
          "name": "stdout",
          "text": [
            "Porcentaje de casos positivos: 0.007512341704228375\n",
            "Porcentaje de casos positivos: 0.050869285254346426\n",
            "Porcentaje de casos positivos: 0.17750590255419618\n",
            "Porcentaje de casos positivos: 0.7233311869499892\n"
          ]
        }
      ]
    },
    {
      "cell_type": "markdown",
      "source": [
        "Vemos que el porcentaje de casos positivos cuando el valor de poutcome es nulo es altísimo para mucho de los casos, por lo que haré caso a la base de datos cuando esa indica que no tiene valores nulos para los dos últimos casos y analizaré los otros dos. "
      ],
      "metadata": {
        "id": "7hW3FcJGekAO"
      }
    },
    {
      "cell_type": "markdown",
      "source": [
        "Respecto a los demás valores, tanto para \"job\" como para \"educación\" lo que realizaré será imputar los datos. En otras palabras, cambiaré los valores \"desconocidos\" por la moda de todos los valores. Hago esto debido a que la cantidad de datos faltantes es pequeña en relación a todo el conjunto de entreno. "
      ],
      "metadata": {
        "id": "YNltQIyHXyaX"
      }
    },
    {
      "cell_type": "code",
      "source": [
        "import numpy as np\n",
        "from sklearn.impute import SimpleImputer\n",
        "job_imputer = SimpleImputer(missing_values=\"unknown\",strategy='most_frequent')\n",
        "data.job = job_imputer.fit_transform(data[\"job\"].values.reshape(-1,1))\n",
        "edu_imputer = SimpleImputer(missing_values=\"unknown\",strategy='most_frequent')\n",
        "data.education = edu_imputer.fit_transform(data[\"education\"].values.reshape(-1,1))"
      ],
      "metadata": {
        "id": "ORDnYjd0X800"
      },
      "execution_count": 254,
      "outputs": []
    },
    {
      "cell_type": "markdown",
      "source": [
        "Verificamos que ha realizado cambios sobre nuestros datos: "
      ],
      "metadata": {
        "id": "jLYdddG3bGJ9"
      }
    },
    {
      "cell_type": "code",
      "source": [
        "nlista = pdStrMiss(data)"
      ],
      "metadata": {
        "id": "Th1uau6-bF_T",
        "colab": {
          "base_uri": "https://localhost:8080/"
        },
        "outputId": "e3a20162-d2b4-4bec-bf5f-46e74f06d9dd"
      },
      "execution_count": 255,
      "outputs": [
        {
          "output_type": "stream",
          "name": "stdout",
          "text": [
            "### Verificación de integridad de los datos categóricos #### \n",
            "Número de datos faltantes para contact :  11488\n",
            "Número de datos faltantes para poutcome :  32515\n"
          ]
        }
      ]
    },
    {
      "cell_type": "markdown",
      "source": [
        "Repecto a la columna \"contact\", al tener el caso de que 10.385 son datos \"desconocidos\" que es casi 1 tercio del conjunto de datos, voy a mantener ese valor de manera que tengamos otro tipo de \"contact\" como dato. \n",
        "\n",
        "Para verificar la integridad y consistencia de los demás valores númericos que me queda por analizar haré uso de la librería [statistics](https://realpython.com/python-statistics/) ya que además de ayudarnos a calcular la media, desviación, varianza y otros, en caso de que encuentre un valor faltante, nos devolverá NaN. Por lo que mataremos a dos pájaros con una piedra. "
      ],
      "metadata": {
        "id": "adGPlzH1f_gO"
      }
    },
    {
      "cell_type": "code",
      "source": [
        "import statistics as st\n",
        "from scipy.stats import skew \n",
        "def pdIntMiss(data): \n",
        "  print(\"### Verificación de integridad de los datos numéricos #### \")\n",
        "  lista_datos = []\n",
        "  index_values = []\n",
        "  for (columnName, columnData) in data.iteritems():\n",
        "    if(type(columnData[1])!=str and columnName!=\"day\" and columnName!=\"month\"):\n",
        "      mean = st.mean(columnData)\n",
        "      var = st.variance(columnData,mean)\n",
        "      stdev = st.stdev(columnData,mean)\n",
        "      balance = skew(columnData,bias=False)\n",
        "      lista_datos.append([columnName,mean,\n",
        "                          var,\n",
        "                          stdev,\n",
        "                          balance])\n",
        "      print(columnName, \"-> Mean: {:.3f}; Var: {:.3f}; Stdev: {:.3f}; Skew: {:.3f}\".format(mean,var,stdev,balance))\n",
        "  lista_datos = np.array(lista_datos,dtype=object)\n",
        "  print(\"##################################################\")"
      ],
      "metadata": {
        "id": "WJxR3HHNh8qA"
      },
      "execution_count": 256,
      "outputs": []
    },
    {
      "cell_type": "code",
      "source": [
        "pdIntMiss(data)"
      ],
      "metadata": {
        "id": "Hgf41sL4kOdD",
        "colab": {
          "base_uri": "https://localhost:8080/"
        },
        "outputId": "1c199b94-693b-4367-f123-43a4f37c06fb"
      },
      "execution_count": 257,
      "outputs": [
        {
          "output_type": "stream",
          "name": "stdout",
          "text": [
            "### Verificación de integridad de los datos numéricos #### \n",
            "age -> Mean: 40.966; Var: 112.506; Stdev: 10.607; Skew: 0.697\n",
            "balance -> Mean: 1358.846; Var: 9277664.304; Stdev: 3045.926; Skew: 8.660\n",
            "duration -> Mean: 258.907; Var: 66210.445; Stdev: 257.314; Skew: 3.117\n",
            "campaign -> Mean: 2.774; Var: 9.816; Stdev: 3.133; Skew: 4.976\n",
            "pdays -> Mean: 40.090; Var: 9951.994; Stdev: 99.760; Skew: 2.605\n",
            "previous -> Mean: 0.576; Var: 5.357; Stdev: 2.314; Skew: 45.835\n",
            "##################################################\n"
          ]
        }
      ]
    },
    {
      "cell_type": "markdown",
      "source": [
        "Cabe destacar un par de cosas. La varianza de \"balance\" es tremendamente alta, a igual que \"duration\" y \"pdays\". Y \"previous\" es bastante asimétrico con predominancia a la derecha del conjunto de datos, lo que indica cierto desequilibrio. Verifiquemos estos conjuntos de datos más a fondo "
      ],
      "metadata": {
        "id": "TJamBi1-noQ6"
      }
    },
    {
      "cell_type": "code",
      "source": [
        "print(\"Investigando los valores de la columna \\\"previous\\\"\")\n",
        "print(\"Tipo de valores:\", data[\"previous\"].values)\n",
        "print(\"### Verificamos el número de valores distintos de cero ###\")\n",
        "count = np.count_nonzero(data[\"previous\"]>0)\n",
        "print(\"Total diferente de cero:\", count , \"Porcentage: \", count/len(data[\"previous\"]))"
      ],
      "metadata": {
        "id": "nT7MuSSXpNlD",
        "colab": {
          "base_uri": "https://localhost:8080/"
        },
        "outputId": "dbd5e585-da2e-4ad9-dbfc-5d3e0bc7093d"
      },
      "execution_count": 258,
      "outputs": [
        {
          "output_type": "stream",
          "name": "stdout",
          "text": [
            "Investigando los valores de la columna \"previous\"\n",
            "Tipo de valores: [1 0 0 ... 0 0 0]\n",
            "### Verificamos el número de valores distintos de cero ###\n",
            "Total diferente de cero: 7273 Porcentage:  0.18280759080055298\n"
          ]
        }
      ]
    },
    {
      "cell_type": "markdown",
      "source": [
        "Sería interesante aquí plantearse quitar la columna \"previous\" ya que la mayoría de las veces no aporta ningúna información o eso aparenta, si lo hicieramos también tendríamos que hacerlo sobre \"pdays\" ya que están relacionadas. Respecto a la \"duration\" según la página oficial del conjunto de datos, es una columna muy importante ya que afecta directamente la etiqueta, si el número es 0 es directamente 'no' la salida. Y por último, verifiquemos los demás: "
      ],
      "metadata": {
        "id": "ovGz-E-KtwcB"
      }
    },
    {
      "cell_type": "code",
      "source": [
        "import seaborn as sns \n",
        "max_bal = data[\"balance\"].max()\n",
        "min_bal = data[\"balance\"].min()\n",
        "median_bal = data[\"balance\"].median()\n",
        "print(\"### Estudiando atributo balance ### \" )\n",
        "print(\"Valor mínimo:\",min_bal,\"Mediana:\",median_bal,\"Valor máximo:\",max_bal) \n",
        "print(\"#######################################\")\n",
        "sns.set(rc={'figure.figsize':(11.7,8.27)})\n",
        "sns.boxplot(x=data[\"balance\"])\n",
        "plt.show()"
      ],
      "metadata": {
        "id": "t24tQVa9vXoO",
        "colab": {
          "base_uri": "https://localhost:8080/",
          "height": 569
        },
        "outputId": "3fa2b23f-0632-4fe6-cd7e-b14cc88b8cf8"
      },
      "execution_count": 259,
      "outputs": [
        {
          "output_type": "stream",
          "name": "stdout",
          "text": [
            "### Estudiando atributo balance ### \n",
            "Valor mínimo: -6847 Mediana: 445.0 Valor máximo: 102127\n",
            "#######################################\n"
          ]
        },
        {
          "output_type": "display_data",
          "data": {
            "text/plain": [
              "<Figure size 842.4x595.44 with 1 Axes>"
            ],
            "image/png": "[encoded data removed]"
          },
          "metadata": {}
        }
      ]
    },
    {
      "cell_type": "markdown",
      "source": [
        "Vemos que tenemos unos cuántos \"outliers\" o valores que están muy distantes de los valores definidos por los cuartiles. Como yo creo que es oportuno para nuestro sistema saber sobre la cuantidad de dinero que dispone un cliente para poder inferir, voy a seguir indagando sobre esos valores. [Finding outliers](https://towardsdatascience.com/ways-to-detect-and-remove-the-outliers-404d16608dba)."
      ],
      "metadata": {
        "id": "uv_XzsqNv99x"
      }
    },
    {
      "cell_type": "code",
      "source": [
        "from scipy import stats\n",
        "Threshold = 3\n",
        "z_bal = np.abs(stats.zscore(data[\"balance\"]))\n",
        "bal_out = np.array(np.where(z_bal>Threshold)[0])\n",
        "print(\"Número de outliers:\" ,bal_out.shape[0])"
      ],
      "metadata": {
        "id": "ioW2o8uyw0-a",
        "colab": {
          "base_uri": "https://localhost:8080/"
        },
        "outputId": "b8d15b14-89c1-4353-e881-314dbe6006bd"
      },
      "execution_count": 260,
      "outputs": [
        {
          "output_type": "stream",
          "name": "stdout",
          "text": [
            "Número de outliers: 663\n"
          ]
        }
      ]
    },
    {
      "cell_type": "code",
      "source": [
        "z_prev = np.abs(stats.zscore(data[\"previous\"]))\n",
        "prev_out = np.array(np.where(z_prev>Threshold)[0])\n",
        "print(\"Número de outliers:\", prev_out.shape[0])"
      ],
      "metadata": {
        "id": "J9W6oOhp1Ga8",
        "colab": {
          "base_uri": "https://localhost:8080/"
        },
        "outputId": "b26bd0f2-0fea-4cbe-c18b-d01aaaf5ddc2"
      },
      "execution_count": 261,
      "outputs": [
        {
          "output_type": "stream",
          "name": "stdout",
          "text": [
            "Número de outliers: 503\n"
          ]
        }
      ]
    },
    {
      "cell_type": "code",
      "source": [
        "z_age = np.abs(stats.zscore(data[\"age\"]))\n",
        "age_out = np.array(np.where(z_age>Threshold)[0])\n",
        "print(\"Número de outliers:\", age_out.shape[0])"
      ],
      "metadata": {
        "id": "dDw4wHqt1k4Z",
        "colab": {
          "base_uri": "https://localhost:8080/"
        },
        "outputId": "35b24531-f6fe-4598-d815-bc2eca609645"
      },
      "execution_count": 262,
      "outputs": [
        {
          "output_type": "stream",
          "name": "stdout",
          "text": [
            "Número de outliers: 351\n"
          ]
        }
      ]
    },
    {
      "cell_type": "code",
      "source": [
        "z_dur = np.abs(stats.zscore(data[\"duration\"]))\n",
        "dur_out = np.array(np.where(z_dur>Threshold)[0])\n",
        "print(\"Número de outliers:\", dur_out.shape[0])"
      ],
      "metadata": {
        "id": "Df8yYFuP2P9D",
        "colab": {
          "base_uri": "https://localhost:8080/"
        },
        "outputId": "c8606453-2844-46fd-b747-fea98aae944c"
      },
      "execution_count": 263,
      "outputs": [
        {
          "output_type": "stream",
          "name": "stdout",
          "text": [
            "Número de outliers: 846\n"
          ]
        }
      ]
    },
    {
      "cell_type": "code",
      "source": [
        "z_cam = np.abs(stats.zscore(data[\"campaign\"]))\n",
        "cam_out = np.array(np.where(z_cam>Threshold)[0])\n",
        "print(\"Número de outliers:\", cam_out.shape[0])"
      ],
      "metadata": {
        "id": "AdHGIXoI3NyD",
        "colab": {
          "base_uri": "https://localhost:8080/"
        },
        "outputId": "649ecc33-be4c-471d-c1d8-d0f4cb9b5e21"
      },
      "execution_count": 264,
      "outputs": [
        {
          "output_type": "stream",
          "name": "stdout",
          "text": [
            "Número de outliers: 756\n"
          ]
        }
      ]
    },
    {
      "cell_type": "markdown",
      "source": [
        "Vemos que en el peor de los casos tendríamos que eliminar más de 2.000 datos de nuestro conjunto de entreno. Pero antes de hacerlo podemos mirar si las filas coinciden entre ellas. Podemos incluso analizar como se vería el boxplot sin los outliers: (La razón por la que he utilizado un Threshold=3 aúnque como veamos no quita muchos puntos fuera de los cuartiles, es debido a que como indica una [página estadistica](https://statisticsbyjim.com/basics/remove-outliers/), no podemos quitar toda la variación de nuestro conjunto de datos, sobre todo si es parte del problema y algo con lo que podría depararse nuestro modelo fuera de la muestra)."
      ],
      "metadata": {
        "id": "k9rhLdQn3aVR"
      }
    },
    {
      "cell_type": "markdown",
      "source": [
        "Pero como hemos discutido en prácticas, no solamente debemos mirar los outliers de manera isolada, si no que también debemos estudiarlos multidimensionalmente:\n",
        "[Multivariate outlier detection](https://towardsdatascience.com/multi-variate-outlier-detection-in-python-e900a338da10)"
      ],
      "metadata": {
        "id": "wfFEZsFCiQiF"
      }
    },
    {
      "cell_type": "code",
      "source": [
        "from sklearn.ensemble import IsolationForest\n",
        "colNames = [\"balance\",\"previous\",\"age\",\"duration\",\"campaign\"]\n",
        "isf = IsolationForest(n_estimators=100,random_state=42,contamination=0.02)\n",
        "preds = isf.fit_predict(data[colNames])\n",
        "ndata  = pd.DataFrame(data=preds,columns=[\"iso_forest_outliers\"]) \n",
        "ndata[\"iso_forest_outliers\"] = ndata[\"iso_forest_outliers\"].astype(str)\n",
        "ndata[\"iso_forest_scores\"] = isf.decision_function(data[colNames])\n",
        "print(ndata[\"iso_forest_outliers\"].value_counts())"
      ],
      "metadata": {
        "colab": {
          "base_uri": "https://localhost:8080/"
        },
        "id": "_x3Znoa8fTZ_",
        "outputId": "1ce1dc61-9f60-4f19-ab6b-41ae4d19834f"
      },
      "execution_count": 265,
      "outputs": [
        {
          "output_type": "stream",
          "name": "stdout",
          "text": [
            "1     38989\n",
            "-1      796\n",
            "Name: iso_forest_outliers, dtype: int64\n"
          ]
        }
      ]
    },
    {
      "cell_type": "code",
      "source": [
        "from sklearn.neighbors import LocalOutlierFactor\n",
        "lof = LocalOutlierFactor(n_neighbors=20)\n",
        "pred = lof.fit_predict(data[colNames])\n",
        "ndata[\"lof_outliers\"] = pred.astype(str)\n",
        "ndata[\"lof_scores\"] = lof.negative_outlier_factor_ \n",
        "print(ndata[\"lof_outliers\"].value_counts())"
      ],
      "metadata": {
        "colab": {
          "base_uri": "https://localhost:8080/"
        },
        "id": "JC9oHulBgcNV",
        "outputId": "c3d8a018-6385-4e66-ae7e-da600ab2d579"
      },
      "execution_count": 266,
      "outputs": [
        {
          "output_type": "stream",
          "name": "stdout",
          "text": [
            "1     39236\n",
            "-1      549\n",
            "Name: lof_outliers, dtype: int64\n"
          ]
        }
      ]
    },
    {
      "cell_type": "markdown",
      "source": [
        "Vemos que acorde con estos dos métodos, solamente en realidad existe alrededor de 500 verdaderos outliers, que es un valor mucho mejor al primer 2.000. Pero seguiremos visualizando el comportamiento de cada atributo. Por ejemplo, verifiquemos el comportamiento del box-plot de balance sin los outliers."
      ],
      "metadata": {
        "id": "I7tMjXbRkRgv"
      }
    },
    {
      "cell_type": "code",
      "source": [
        "sns.boxplot(x=data[\"balance\"].values[z_bal<Threshold])\n",
        "plt.show()"
      ],
      "metadata": {
        "id": "xfxnH-4G6oTO",
        "colab": {
          "base_uri": "https://localhost:8080/",
          "height": 500
        },
        "outputId": "425d31f1-ca56-43dd-a130-7532e7af0b11"
      },
      "execution_count": 267,
      "outputs": [
        {
          "output_type": "display_data",
          "data": {
            "text/plain": [
              "<Figure size 842.4x595.44 with 1 Axes>"
            ],
            "image/png": "[encoded data removed]"
          },
          "metadata": {}
        }
      ]
    },
    {
      "cell_type": "code",
      "source": [
        "plt.hist(data.balance.values,bins=100,range=[-5000,10000])\n",
        "plt.figure(dpi=80,figsize=(10,8))\n",
        "plt.show()"
      ],
      "metadata": {
        "id": "YgYV5jhDH4xb",
        "colab": {
          "base_uri": "https://localhost:8080/",
          "height": 517
        },
        "outputId": "7c07d3f3-03fd-4577-bc74-2f2ec787b568"
      },
      "execution_count": 268,
      "outputs": [
        {
          "output_type": "display_data",
          "data": {
            "text/plain": [
              "<Figure size 842.4x595.44 with 1 Axes>"
            ],
            "image/png": "[encoded data removed]"
          },
          "metadata": {}
        },
        {
          "output_type": "display_data",
          "data": {
            "text/plain": [
              "<Figure size 800x640 with 0 Axes>"
            ]
          },
          "metadata": {}
        }
      ]
    },
    {
      "cell_type": "markdown",
      "source": [
        "Vemos que si quitaramos los outliers de balance, nos acercaríamos más a como se comporta una campana gaussiana. Y utilizamos el threshold igual a 3 ya que convendría permitir cierta varianza en nuestros datos debido a que el atributo \"balance\" también varia a menudo fuera de la muestra, es algo característico del problema. "
      ],
      "metadata": {
        "id": "COzZhYdBI1-T"
      }
    },
    {
      "cell_type": "markdown",
      "source": [
        "A la columna \"duration\" la voy a borrar, ya que aunque es muy importante según la documentación, nos indica que para tener un modelo predictivo realística deberíamos quitarla ya que no sabemos la duración antes de realizar la llamada. Ahora me gustaría analizar el efecto que tiene \"previous\" sobre las  etiquetas cuándo vale 0 versus un número positivo."
      ],
      "metadata": {
        "id": "2CnGnDnJ8ovm"
      }
    },
    {
      "cell_type": "code",
      "source": [
        "data.drop(\"duration\",axis=1,inplace=True)"
      ],
      "metadata": {
        "id": "E-Ujalt9vgcG"
      },
      "execution_count": 269,
      "outputs": []
    },
    {
      "cell_type": "code",
      "source": [
        "yPos_prev = ydata.values[data[\"previous\"]>0]\n",
        "yNeg_prev = ydata.values[data[\"previous\"]==0]\n",
        "yPos_mean = yPos_prev.mean()\n",
        "yPos_var = yPos_prev.var()\n",
        "yPos_std = yPos_prev.std()\n",
        "yNeg_mean = yNeg_prev.mean()\n",
        "yNeg_var = yNeg_prev.var()\n",
        "yNeg_std = yNeg_prev.std()\n",
        "print(\"### Estudio de relación ###\")\n",
        "print(\"Para valores iguales a cero la media es {:.4f}, la var {:.4f} y std {:.4f}\".\n",
        "      format(yNeg_mean,yNeg_var,yNeg_std))\n",
        "print(\"Para valores mayores a cero la media es {:.4f}, la var {:.4f} y std {:.4f}\".\n",
        "      format(yPos_mean,yPos_var,yPos_std))\n",
        "print(\"###########################\")"
      ],
      "metadata": {
        "id": "C08pfjIAB0OW",
        "colab": {
          "base_uri": "https://localhost:8080/"
        },
        "outputId": "e55e991a-59ad-47a7-d23a-138e7d32a235"
      },
      "execution_count": 270,
      "outputs": [
        {
          "output_type": "stream",
          "name": "stdout",
          "text": [
            "### Estudio de relación ###\n",
            "Para valores iguales a cero la media es -0.8177, la var 0.3313 y std 0.5756\n",
            "Para valores mayores a cero la media es -0.5336, la var 0.7153 y std 0.8457\n",
            "###########################\n"
          ]
        }
      ]
    },
    {
      "cell_type": "code",
      "source": [
        "yPos_prev = ydata.values[data[\"pdays\"]>=0]\n",
        "yNeg_prev = ydata.values[data[\"pdays\"]<0]\n",
        "yPos_mean = yPos_prev.mean()\n",
        "yPos_var = yPos_prev.var()\n",
        "yPos_std = yPos_prev.std()\n",
        "yNeg_mean = yNeg_prev.mean()\n",
        "yNeg_var = yNeg_prev.var()\n",
        "yNeg_std = yNeg_prev.std()\n",
        "print(\"### Estudio de relación ###\")\n",
        "print(\"Para valores menores a cero la media es {:.4f}, la var {:.4f} y std {:.4f}\".\n",
        "      format(yNeg_mean,yNeg_var,yNeg_std))\n",
        "print(\"Para valores mayor/igual a cero la media es {:.4f}, la var {:.4f} y std {:.4f}\".\n",
        "      format(yPos_mean,yPos_var,yPos_std))\n",
        "print(\"###########################\")"
      ],
      "metadata": {
        "colab": {
          "base_uri": "https://localhost:8080/"
        },
        "id": "cVtKownJxqK4",
        "outputId": "cc9f5c03-1a96-4c2c-bc68-21e5a139e143"
      },
      "execution_count": 271,
      "outputs": [
        {
          "output_type": "stream",
          "name": "stdout",
          "text": [
            "### Estudio de relación ###\n",
            "Para valores menores a cero la media es -0.8177, la var 0.3313 y std 0.5756\n",
            "Para valores mayor/igual a cero la media es -0.5336, la var 0.7153 y std 0.8457\n",
            "###########################\n"
          ]
        }
      ]
    },
    {
      "cell_type": "code",
      "source": [
        "import matplotlib.pyplot as plt\n",
        "df_close = data._get_numeric_data()\n",
        "f = plt.figure(figsize=(10, 8))\n",
        "plt.matshow(df_close.corr(), fignum=f.number)\n",
        "plt.xticks(range(df_close.shape[1]), df_close.columns, fontsize=14,rotation=45)\n",
        "plt.yticks(range(df_close.shape[1]), df_close.columns, fontsize=14)\n",
        "cb = plt.colorbar()\n",
        "cb.ax.tick_params(labelsize=14)\n",
        "plt.title('Correlation Matrix', fontsize=16);"
      ],
      "metadata": {
        "colab": {
          "base_uri": "https://localhost:8080/",
          "height": 552
        },
        "id": "5JQTdo7zv4xW",
        "outputId": "6d54f6b7-7b8c-4974-eeb0-99dc12bf18d6"
      },
      "execution_count": 272,
      "outputs": [
        {
          "output_type": "display_data",
          "data": {
            "text/plain": [
              "<Figure size 720x576 with 2 Axes>"
            ],
            "image/png": "[encoded data removed]"
          },
          "metadata": {}
        }
      ]
    },
    {
      "cell_type": "markdown",
      "source": [
        "Vemos que aparenta ser que cuando tenmos valores positivos de la columna \"previous\", también en \"pdays\" ya que ambas están muy correlacionadas, obtenemos mayor cantidad de etiquetas positivas (notar cambio en la media y eso que solo disponemos de 6000 datos positivos). \n",
        "Por lo que a estas dos columnas no las tocaré tampoco. "
      ],
      "metadata": {
        "id": "5ATLEou5JPUq"
      }
    },
    {
      "cell_type": "markdown",
      "source": [
        "Respecto a la columna \"age\" Recurriré al mismo argumento que la columna \"balance\", es una variabilidad existente en el problema, tanto dentro como fuera de la muestra. Por lo que no veo oportuno quitar los outliers ya que no son tan extremistas como en \"balance\".\n",
        "\n",
        "Por último, lo que nos quedaría por verificar es la columna \"campaign\"."
      ],
      "metadata": {
        "id": "CM_i6CYRJkum"
      }
    },
    {
      "cell_type": "code",
      "source": [
        "plt.hist(data.campaign.values,bins=25,range=[-1,30])\n",
        "plt.figure(dpi=80,figsize=(10,8))\n",
        "plt.show()"
      ],
      "metadata": {
        "id": "9u07Px4_KSfU",
        "colab": {
          "base_uri": "https://localhost:8080/",
          "height": 517
        },
        "outputId": "8759f1bd-eb0a-4698-fbf3-5257918d2ce2"
      },
      "execution_count": 273,
      "outputs": [
        {
          "output_type": "display_data",
          "data": {
            "text/plain": [
              "<Figure size 842.4x595.44 with 1 Axes>"
            ],
            "image/png": "[encoded data removed]"
          },
          "metadata": {}
        },
        {
          "output_type": "display_data",
          "data": {
            "text/plain": [
              "<Figure size 800x640 with 0 Axes>"
            ]
          },
          "metadata": {}
        }
      ]
    },
    {
      "cell_type": "markdown",
      "source": [
        "Antes de tomar una decision me gustaría ver la cantidad de etiquetas positivas que perdería si elimináramos todos los supuestos outliers: "
      ],
      "metadata": {
        "id": "_nJhFoVUm48U"
      }
    },
    {
      "cell_type": "code",
      "source": [
        "outliers_index = np.array(np.where(ndata[\"lof_outliers\"].astype(int)<1)[0])\n",
        "print(\"Number of positive values in multivariate analisis:\", np.array(np.where(ydata.values[outliers_index]>=1)[0]).shape[0])\n",
        "print(\"Number of positive values in campaign outliers positions:\" ,np.array(np.where(ydata.values[cam_out]>=1)[0]).shape[0])\n",
        "print(\"Number of positive values in balance outliers positions:\" ,np.array(np.where(ydata.values[bal_out]>=1)[0]).shape[0])"
      ],
      "metadata": {
        "colab": {
          "base_uri": "https://localhost:8080/"
        },
        "id": "2_EEqA9KmPJR",
        "outputId": "7268df20-a749-49e0-fd3d-c24b79271cee"
      },
      "execution_count": 274,
      "outputs": [
        {
          "output_type": "stream",
          "name": "stdout",
          "text": [
            "Number of positive values in multivariate analisis: 101\n",
            "Number of positive values in campaign outliers positions: 24\n",
            "Number of positive values in balance outliers positions: 104\n"
          ]
        }
      ]
    },
    {
      "cell_type": "markdown",
      "source": [
        "Como aparenta ser que no vamos a perder una gran proporción de ellos y encima nuestro modelo teóricamente aprenderá mejor del conjunto de datos gracias a la disminución de ruido, creo que sería oportuno quitar esos datos: "
      ],
      "metadata": {
        "id": "Jsl9UpfBnB5H"
      }
    },
    {
      "cell_type": "code",
      "source": [
        "print(\"Before removing multivariate outliers: \",len(data),outliers_index.shape[0])\n",
        "data = data.drop(data.index[outliers_index])\n",
        "ydata = ydata.drop(ydata.index[outliers_index])\n",
        "print(\"After removing multivariate outliers: \", len(data),len(ydata))"
      ],
      "metadata": {
        "colab": {
          "base_uri": "https://localhost:8080/"
        },
        "id": "fl03d8sUnM_T",
        "outputId": "4381c228-7c06-4a5d-d7e9-5260095d3527"
      },
      "execution_count": 275,
      "outputs": [
        {
          "output_type": "stream",
          "name": "stdout",
          "text": [
            "Before removing multivariate outliers:  39785 549\n",
            "After removing multivariate outliers:  39162 39162\n"
          ]
        }
      ]
    },
    {
      "cell_type": "code",
      "source": [
        "z_cam = np.abs(stats.zscore(data[\"campaign\"]))\n",
        "cam_out = np.array(np.where(z_cam>Threshold)[0])\n",
        "print(\"Before removing campaign outliers: \",len(data),cam_out.shape[0])\n",
        "data = data.drop(data.index[cam_out])\n",
        "ydata = ydata.drop(ydata.index[cam_out])\n",
        "print(\"After removing campaign outliers: \", len(data),len(ydata))"
      ],
      "metadata": {
        "id": "_XWw-RcKLjIY",
        "colab": {
          "base_uri": "https://localhost:8080/"
        },
        "outputId": "0d83a1cd-fcc9-42a1-f4ac-e289424d2f6e"
      },
      "execution_count": 276,
      "outputs": [
        {
          "output_type": "stream",
          "name": "stdout",
          "text": [
            "Before removing campaign outliers:  39162 795\n",
            "After removing campaign outliers:  38278 38278\n"
          ]
        }
      ]
    },
    {
      "cell_type": "code",
      "source": [
        "z_bal = np.abs(stats.zscore(data[\"balance\"]))\n",
        "bal_out = np.array(np.where(z_bal>Threshold)[0])"
      ],
      "metadata": {
        "id": "umFf1RCaMv8u"
      },
      "execution_count": 277,
      "outputs": []
    },
    {
      "cell_type": "code",
      "source": [
        "print(\"Before removing balance outliers: \",len(data),bal_out.shape[0])\n",
        "data = data.drop(data.index[bal_out])\n",
        "ydata = ydata.drop(ydata.index[bal_out])\n",
        "print(\"After removing balance outliers: \", len(data),len(ydata))"
      ],
      "metadata": {
        "id": "eU4KM7zuMiBe",
        "colab": {
          "base_uri": "https://localhost:8080/"
        },
        "outputId": "1212d972-54c4-44f5-cae4-6a962f398352"
      },
      "execution_count": 278,
      "outputs": [
        {
          "output_type": "stream",
          "name": "stdout",
          "text": [
            "Before removing balance outliers:  38278 715\n",
            "After removing balance outliers:  37488 37488\n"
          ]
        }
      ]
    },
    {
      "cell_type": "markdown",
      "source": [
        "## Transformaciones de datos."
      ],
      "metadata": {
        "id": "7I5MgKqBNJzp"
      }
    },
    {
      "cell_type": "markdown",
      "source": [
        "Empezaremos a realizar cambios sobre las variables categóricas y veremos como cresce nuestro número de atributos. Lo primero que tenemos que hacer antes es transformar aquellos datos de tipo temporal en valores númericos para luego ir trabajando sobre ellos. He leido la documentación de [sklearn ColumnTransformer](https://scikit-learn.org/stable/modules/generated/sklearn.compose.ColumnTransformer.html) y he aprendido sobre los [OneHotEncode](https://scikit-learn.org/stable/modules/generated/sklearn.preprocessing.OneHotEncoder.html?highlight=onehot#sklearn.preprocessing.OneHotEncoder) y [StandardScaler](https://scikit-learn.org/stable/auto_examples/compose/plot_column_transformer_mixed_types.html). El OneHotEncoder realiza el cambio a valores binarios como mencionado anteriormente. El StandardScaler normaliza el conjunto de datos utilizando la media y la varianza del atributo tal que tenemos $\\frac{x-u}{v}$ siendo u la media."
      ],
      "metadata": {
        "id": "uMzmFMGugmxQ"
      }
    },
    {
      "cell_type": "code",
      "source": [
        "from sklearn import preprocessing\n",
        "from sklearn.compose import ColumnTransformer\n",
        "\n",
        "numeric_features = ['age','balance','campaign','previous','pdays']\n",
        "scaler = ColumnTransformer(\n",
        "    transformers=[\n",
        "      (\"norm\",preprocessing.StandardScaler(),numeric_features)\n",
        "    ],\n",
        "    remainder='passthrough'\n",
        ")\n",
        "Scltransformed = scaler.fit_transform(data)\n",
        "cols = scaler.get_feature_names_out()\n",
        "for i,col in enumerate(cols): \n",
        "  cols[i] = col[col.find(\"_\")+2:]\n",
        "tdata = pd.DataFrame(data=Scltransformed,columns=cols)\n",
        "display(tdata) "
      ],
      "metadata": {
        "id": "a66fZ_VpOa8k",
        "colab": {
          "base_uri": "https://localhost:8080/",
          "height": 488
        },
        "outputId": "a6efb7cb-0eab-4b52-bf46-6467149b240c"
      },
      "execution_count": 279,
      "outputs": [
        {
          "output_type": "display_data",
          "data": {
            "text/plain": [
              "            age   balance  campaign  previous     pdays          job  \\\n",
              "0      0.398792  0.417243  0.313262  0.250009  2.828465     services   \n",
              "1     -0.846699  -0.17218  0.853122 -0.322173 -0.417253   technician   \n",
              "2     -0.846699 -0.534297   4.09228 -0.322173 -0.417253     services   \n",
              "3     -0.655085 -0.267092 -0.766457 -0.322173 -0.417253       admin.   \n",
              "4     -0.846699 -0.428503 -0.766457 -0.322173 -0.417253  blue-collar   \n",
              "...         ...       ...       ...       ...       ...          ...   \n",
              "37483  0.302985 -0.004723 -0.766457 -0.322173 -0.417253    housemaid   \n",
              "37484 -1.708963 -0.337823 -0.766457  0.250009  0.505841      student   \n",
              "37485 -0.655085  0.151247 -0.766457 -0.322173 -0.417253   technician   \n",
              "37486 -0.750892 -0.545179 -0.766457 -0.322173 -0.417253      retired   \n",
              "37487 -0.271857 -0.669713   4.09228 -0.322173 -0.417253  blue-collar   \n",
              "\n",
              "        marital  education default housing loan   contact day month poutcome  \n",
              "0        single  secondary      no     yes   no  cellular  20     4    other  \n",
              "1       married  secondary      no     yes   no   unknown  26     5  unknown  \n",
              "2       married  secondary      no     yes   no  cellular   9     2  unknown  \n",
              "3        single   tertiary      no      no  yes   unknown  31     8  unknown  \n",
              "4       married  secondary      no      no   no   unknown  26     5  unknown  \n",
              "...         ...        ...     ...     ...  ...       ...  ..   ...      ...  \n",
              "37483    single    primary      no      no   no   unknown  18     6  unknown  \n",
              "37484    single   tertiary      no      no   no  cellular   8     9  failure  \n",
              "37485  divorced   tertiary      no     yes   no  cellular  15     5  unknown  \n",
              "37486   married  secondary      no      no   no   unknown   7     5  unknown  \n",
              "37487   married    primary      no     yes   no  cellular  21     7  unknown  \n",
              "\n",
              "[37488 rows x 15 columns]"
            ],
            "text/html": [
              "\n",
              "  <div id=\"df-4163ea5c-b22a-4494-b3ab-66279c08f324\">\n",
              "    <div class=\"colab-df-container\">\n",
              "      <div>\n",
              "<style scoped>\n",
              "    .dataframe tbody tr th:only-of-type {\n",
              "        vertical-align: middle;\n",
              "    }\n",
              "\n",
              "    .dataframe tbody tr th {\n",
              "        vertical-align: top;\n",
              "    }\n",
              "\n",
              "    .dataframe thead th {\n",
              "        text-align: right;\n",
              "    }\n",
              "</style>\n",
              "<table border=\"1\" class=\"dataframe\">\n",
              "  <thead>\n",
              "    <tr style=\"text-align: right;\">\n",
              "      <th></th>\n",
              "      <th>age</th>\n",
              "      <th>balance</th>\n",
              "      <th>campaign</th>\n",
              "      <th>previous</th>\n",
              "      <th>pdays</th>\n",
              "      <th>job</th>\n",
              "      <th>marital</th>\n",
              "      <th>education</th>\n",
              "      <th>default</th>\n",
              "      <th>housing</th>\n",
              "      <th>loan</th>\n",
              "      <th>contact</th>\n",
              "      <th>day</th>\n",
              "      <th>month</th>\n",
              "      <th>poutcome</th>\n",
              "    </tr>\n",
              "  </thead>\n",
              "  <tbody>\n",
              "    <tr>\n",
              "      <th>0</th>\n",
              "      <td>0.398792</td>\n",
              "      <td>0.417243</td>\n",
              "      <td>0.313262</td>\n",
              "      <td>0.250009</td>\n",
              "      <td>2.828465</td>\n",
              "      <td>services</td>\n",
              "      <td>single</td>\n",
              "      <td>secondary</td>\n",
              "      <td>no</td>\n",
              "      <td>yes</td>\n",
              "      <td>no</td>\n",
              "      <td>cellular</td>\n",
              "      <td>20</td>\n",
              "      <td>4</td>\n",
              "      <td>other</td>\n",
              "    </tr>\n",
              "    <tr>\n",
              "      <th>1</th>\n",
              "      <td>-0.846699</td>\n",
              "      <td>-0.17218</td>\n",
              "      <td>0.853122</td>\n",
              "      <td>-0.322173</td>\n",
              "      <td>-0.417253</td>\n",
              "      <td>technician</td>\n",
              "      <td>married</td>\n",
              "      <td>secondary</td>\n",
              "      <td>no</td>\n",
              "      <td>yes</td>\n",
              "      <td>no</td>\n",
              "      <td>unknown</td>\n",
              "      <td>26</td>\n",
              "      <td>5</td>\n",
              "      <td>unknown</td>\n",
              "    </tr>\n",
              "    <tr>\n",
              "      <th>2</th>\n",
              "      <td>-0.846699</td>\n",
              "      <td>-0.534297</td>\n",
              "      <td>4.09228</td>\n",
              "      <td>-0.322173</td>\n",
              "      <td>-0.417253</td>\n",
              "      <td>services</td>\n",
              "      <td>married</td>\n",
              "      <td>secondary</td>\n",
              "      <td>no</td>\n",
              "      <td>yes</td>\n",
              "      <td>no</td>\n",
              "      <td>cellular</td>\n",
              "      <td>9</td>\n",
              "      <td>2</td>\n",
              "      <td>unknown</td>\n",
              "    </tr>\n",
              "    <tr>\n",
              "      <th>3</th>\n",
              "      <td>-0.655085</td>\n",
              "      <td>-0.267092</td>\n",
              "      <td>-0.766457</td>\n",
              "      <td>-0.322173</td>\n",
              "      <td>-0.417253</td>\n",
              "      <td>admin.</td>\n",
              "      <td>single</td>\n",
              "      <td>tertiary</td>\n",
              "      <td>no</td>\n",
              "      <td>no</td>\n",
              "      <td>yes</td>\n",
              "      <td>unknown</td>\n",
              "      <td>31</td>\n",
              "      <td>8</td>\n",
              "      <td>unknown</td>\n",
              "    </tr>\n",
              "    <tr>\n",
              "      <th>4</th>\n",
              "      <td>-0.846699</td>\n",
              "      <td>-0.428503</td>\n",
              "      <td>-0.766457</td>\n",
              "      <td>-0.322173</td>\n",
              "      <td>-0.417253</td>\n",
              "      <td>blue-collar</td>\n",
              "      <td>married</td>\n",
              "      <td>secondary</td>\n",
              "      <td>no</td>\n",
              "      <td>no</td>\n",
              "      <td>no</td>\n",
              "      <td>unknown</td>\n",
              "      <td>26</td>\n",
              "      <td>5</td>\n",
              "      <td>unknown</td>\n",
              "    </tr>\n",
              "    <tr>\n",
              "      <th>...</th>\n",
              "      <td>...</td>\n",
              "      <td>...</td>\n",
              "      <td>...</td>\n",
              "      <td>...</td>\n",
              "      <td>...</td>\n",
              "      <td>...</td>\n",
              "      <td>...</td>\n",
              "      <td>...</td>\n",
              "      <td>...</td>\n",
              "      <td>...</td>\n",
              "      <td>...</td>\n",
              "      <td>...</td>\n",
              "      <td>...</td>\n",
              "      <td>...</td>\n",
              "      <td>...</td>\n",
              "    </tr>\n",
              "    <tr>\n",
              "      <th>37483</th>\n",
              "      <td>0.302985</td>\n",
              "      <td>-0.004723</td>\n",
              "      <td>-0.766457</td>\n",
              "      <td>-0.322173</td>\n",
              "      <td>-0.417253</td>\n",
              "      <td>housemaid</td>\n",
              "      <td>single</td>\n",
              "      <td>primary</td>\n",
              "      <td>no</td>\n",
              "      <td>no</td>\n",
              "      <td>no</td>\n",
              "      <td>unknown</td>\n",
              "      <td>18</td>\n",
              "      <td>6</td>\n",
              "      <td>unknown</td>\n",
              "    </tr>\n",
              "    <tr>\n",
              "      <th>37484</th>\n",
              "      <td>-1.708963</td>\n",
              "      <td>-0.337823</td>\n",
              "      <td>-0.766457</td>\n",
              "      <td>0.250009</td>\n",
              "      <td>0.505841</td>\n",
              "      <td>student</td>\n",
              "      <td>single</td>\n",
              "      <td>tertiary</td>\n",
              "      <td>no</td>\n",
              "      <td>no</td>\n",
              "      <td>no</td>\n",
              "      <td>cellular</td>\n",
              "      <td>8</td>\n",
              "      <td>9</td>\n",
              "      <td>failure</td>\n",
              "    </tr>\n",
              "    <tr>\n",
              "      <th>37485</th>\n",
              "      <td>-0.655085</td>\n",
              "      <td>0.151247</td>\n",
              "      <td>-0.766457</td>\n",
              "      <td>-0.322173</td>\n",
              "      <td>-0.417253</td>\n",
              "      <td>technician</td>\n",
              "      <td>divorced</td>\n",
              "      <td>tertiary</td>\n",
              "      <td>no</td>\n",
              "      <td>yes</td>\n",
              "      <td>no</td>\n",
              "      <td>cellular</td>\n",
              "      <td>15</td>\n",
              "      <td>5</td>\n",
              "      <td>unknown</td>\n",
              "    </tr>\n",
              "    <tr>\n",
              "      <th>37486</th>\n",
              "      <td>-0.750892</td>\n",
              "      <td>-0.545179</td>\n",
              "      <td>-0.766457</td>\n",
              "      <td>-0.322173</td>\n",
              "      <td>-0.417253</td>\n",
              "      <td>retired</td>\n",
              "      <td>married</td>\n",
              "      <td>secondary</td>\n",
              "      <td>no</td>\n",
              "      <td>no</td>\n",
              "      <td>no</td>\n",
              "      <td>unknown</td>\n",
              "      <td>7</td>\n",
              "      <td>5</td>\n",
              "      <td>unknown</td>\n",
              "    </tr>\n",
              "    <tr>\n",
              "      <th>37487</th>\n",
              "      <td>-0.271857</td>\n",
              "      <td>-0.669713</td>\n",
              "      <td>4.09228</td>\n",
              "      <td>-0.322173</td>\n",
              "      <td>-0.417253</td>\n",
              "      <td>blue-collar</td>\n",
              "      <td>married</td>\n",
              "      <td>primary</td>\n",
              "      <td>no</td>\n",
              "      <td>yes</td>\n",
              "      <td>no</td>\n",
              "      <td>cellular</td>\n",
              "      <td>21</td>\n",
              "      <td>7</td>\n",
              "      <td>unknown</td>\n",
              "    </tr>\n",
              "  </tbody>\n",
              "</table>\n",
              "<p>37488 rows × 15 columns</p>\n",
              "</div>\n",
              "      <button class=\"colab-df-convert\" onclick=\"convertToInteractive('df-4163ea5c-b22a-4494-b3ab-66279c08f324')\"\n",
              "              title=\"Convert this dataframe to an interactive table.\"\n",
              "              style=\"display:none;\">\n",
              "        \n",
              "  <svg xmlns=\"http://www.w3.org/2000/svg\" height=\"24px\"viewBox=\"0 0 24 24\"\n",
              "       width=\"24px\">\n",
              "    <path d=\"M0 0h24v24H0V0z\" fill=\"none\"/>\n",
              "    <path d=\"M18.56 5.44l.94 2.06.94-2.06 2.06-.94-2.06-.94-.94-2.06-.94 2.06-2.06.94zm-11 1L8.5 8.5l.94-2.06 2.06-.94-2.06-.94L8.5 2.5l-.94 2.06-2.06.94zm10 10l.94 2.06.94-2.06 2.06-.94-2.06-.94-.94-2.06-.94 2.06-2.06.94z\"/><path d=\"M17.41 7.96l-1.37-1.37c-.4-.4-.92-.59-1.43-.59-.52 0-1.04.2-1.43.59L10.3 9.45l-7.72 7.72c-.78.78-.78 2.05 0 2.83L4 21.41c.39.39.9.59 1.41.59.51 0 1.02-.2 1.41-.59l7.78-7.78 2.81-2.81c.8-.78.8-2.07 0-2.86zM5.41 20L4 18.59l7.72-7.72 1.47 1.35L5.41 20z\"/>\n",
              "  </svg>\n",
              "      </button>\n",
              "      \n",
              "  <style>\n",
              "    .colab-df-container {\n",
              "      display:flex;\n",
              "      flex-wrap:wrap;\n",
              "      gap: 12px;\n",
              "    }\n",
              "\n",
              "    .colab-df-convert {\n",
              "      background-color: #E8F0FE;\n",
              "      border: none;\n",
              "      border-radius: 50%;\n",
              "      cursor: pointer;\n",
              "      display: none;\n",
              "      fill: #1967D2;\n",
              "      height: 32px;\n",
              "      padding: 0 0 0 0;\n",
              "      width: 32px;\n",
              "    }\n",
              "\n",
              "    .colab-df-convert:hover {\n",
              "      background-color: #E2EBFA;\n",
              "      box-shadow: 0px 1px 2px rgba(60, 64, 67, 0.3), 0px 1px 3px 1px rgba(60, 64, 67, 0.15);\n",
              "      fill: #174EA6;\n",
              "    }\n",
              "\n",
              "    [theme=dark] .colab-df-convert {\n",
              "      background-color: #3B4455;\n",
              "      fill: #D2E3FC;\n",
              "    }\n",
              "\n",
              "    [theme=dark] .colab-df-convert:hover {\n",
              "      background-color: #434B5C;\n",
              "      box-shadow: 0px 1px 3px 1px rgba(0, 0, 0, 0.15);\n",
              "      filter: drop-shadow(0px 1px 2px rgba(0, 0, 0, 0.3));\n",
              "      fill: #FFFFFF;\n",
              "    }\n",
              "  </style>\n",
              "\n",
              "      <script>\n",
              "        const buttonEl =\n",
              "          document.querySelector('#df-4163ea5c-b22a-4494-b3ab-66279c08f324 button.colab-df-convert');\n",
              "        buttonEl.style.display =\n",
              "          google.colab.kernel.accessAllowed ? 'block' : 'none';\n",
              "\n",
              "        async function convertToInteractive(key) {\n",
              "          const element = document.querySelector('#df-4163ea5c-b22a-4494-b3ab-66279c08f324');\n",
              "          const dataTable =\n",
              "            await google.colab.kernel.invokeFunction('convertToInteractive',\n",
              "                                                     [key], {});\n",
              "          if (!dataTable) return;\n",
              "\n",
              "          const docLinkHtml = 'Like what you see? Visit the ' +\n",
              "            '<a target=\"_blank\" href=https://colab.research.google.com/notebooks/data_table.ipynb>data table notebook</a>'\n",
              "            + ' to learn more about interactive tables.';\n",
              "          element.innerHTML = '';\n",
              "          dataTable['output_type'] = 'display_data';\n",
              "          await google.colab.output.renderOutput(dataTable, element);\n",
              "          const docLink = document.createElement('div');\n",
              "          docLink.innerHTML = docLinkHtml;\n",
              "          element.appendChild(docLink);\n",
              "        }\n",
              "      </script>\n",
              "    </div>\n",
              "  </div>\n",
              "  "
            ]
          },
          "metadata": {}
        }
      ]
    },
    {
      "cell_type": "markdown",
      "source": [
        "Vemos que se nos ha cambiado de orden las columnas, pero eso es irrelevante para nuestro modelo. Procederemos entonces a transformar las variables categoricas no-cíclicas: "
      ],
      "metadata": {
        "id": "b_IwO4trTere"
      }
    },
    {
      "cell_type": "code",
      "source": [
        "# categorical_oneHot = ['job','marital','education','default','housing','loan','contact']\n",
        "categorical_oneHot = ['job','marital','education','default','housing','loan','contact','poutcome']\n",
        "OneHotEncodingColumns = ColumnTransformer(\n",
        "    transformers=[\n",
        "      (\"cat\", preprocessing.OneHotEncoder(),categorical_oneHot)\n",
        "    ],\n",
        "    remainder='passthrough')\n",
        "\n",
        "Ohetransformed = OneHotEncodingColumns.fit_transform(tdata)\n",
        "cols = OneHotEncodingColumns.get_feature_names_out()\n",
        "for i,col in enumerate(cols): \n",
        "  cols[i] = col[col.find(\"_\")+2:]\n",
        "tdata = pd.DataFrame(data=Ohetransformed,columns=cols)\n",
        "display(tdata) "
      ],
      "metadata": {
        "id": "fYdp85-ZrSek",
        "colab": {
          "base_uri": "https://localhost:8080/",
          "height": 505
        },
        "outputId": "49985f33-6b27-41f7-9ae1-d307df3ccd7e"
      },
      "execution_count": 280,
      "outputs": [
        {
          "output_type": "display_data",
          "data": {
            "text/plain": [
              "      job_admin. job_blue-collar job_entrepreneur job_housemaid  \\\n",
              "0            0.0             0.0              0.0           0.0   \n",
              "1            0.0             0.0              0.0           0.0   \n",
              "2            0.0             0.0              0.0           0.0   \n",
              "3            1.0             0.0              0.0           0.0   \n",
              "4            0.0             1.0              0.0           0.0   \n",
              "...          ...             ...              ...           ...   \n",
              "37483        0.0             0.0              0.0           1.0   \n",
              "37484        0.0             0.0              0.0           0.0   \n",
              "37485        0.0             0.0              0.0           0.0   \n",
              "37486        0.0             0.0              0.0           0.0   \n",
              "37487        0.0             1.0              0.0           0.0   \n",
              "\n",
              "      job_management job_retired job_self-employed job_services job_student  \\\n",
              "0                0.0         0.0               0.0          1.0         0.0   \n",
              "1                0.0         0.0               0.0          0.0         0.0   \n",
              "2                0.0         0.0               0.0          1.0         0.0   \n",
              "3                0.0         0.0               0.0          0.0         0.0   \n",
              "4                0.0         0.0               0.0          0.0         0.0   \n",
              "...              ...         ...               ...          ...         ...   \n",
              "37483            0.0         0.0               0.0          0.0         0.0   \n",
              "37484            0.0         0.0               0.0          0.0         1.0   \n",
              "37485            0.0         0.0               0.0          0.0         0.0   \n",
              "37486            0.0         1.0               0.0          0.0         0.0   \n",
              "37487            0.0         0.0               0.0          0.0         0.0   \n",
              "\n",
              "      job_technician  ... poutcome_other poutcome_success poutcome_unknown  \\\n",
              "0                0.0  ...            1.0              0.0              0.0   \n",
              "1                1.0  ...            0.0              0.0              1.0   \n",
              "2                0.0  ...            0.0              0.0              1.0   \n",
              "3                0.0  ...            0.0              0.0              1.0   \n",
              "4                0.0  ...            0.0              0.0              1.0   \n",
              "...              ...  ...            ...              ...              ...   \n",
              "37483            0.0  ...            0.0              0.0              1.0   \n",
              "37484            0.0  ...            0.0              0.0              0.0   \n",
              "37485            1.0  ...            0.0              0.0              1.0   \n",
              "37486            0.0  ...            0.0              0.0              1.0   \n",
              "37487            0.0  ...            0.0              0.0              1.0   \n",
              "\n",
              "            age   balance  campaign  previous     pdays day month  \n",
              "0      0.398792  0.417243  0.313262  0.250009  2.828465  20     4  \n",
              "1     -0.846699  -0.17218  0.853122 -0.322173 -0.417253  26     5  \n",
              "2     -0.846699 -0.534297   4.09228 -0.322173 -0.417253   9     2  \n",
              "3     -0.655085 -0.267092 -0.766457 -0.322173 -0.417253  31     8  \n",
              "4     -0.846699 -0.428503 -0.766457 -0.322173 -0.417253  26     5  \n",
              "...         ...       ...       ...       ...       ...  ..   ...  \n",
              "37483  0.302985 -0.004723 -0.766457 -0.322173 -0.417253  18     6  \n",
              "37484 -1.708963 -0.337823 -0.766457  0.250009  0.505841   8     9  \n",
              "37485 -0.655085  0.151247 -0.766457 -0.322173 -0.417253  15     5  \n",
              "37486 -0.750892 -0.545179 -0.766457 -0.322173 -0.417253   7     5  \n",
              "37487 -0.271857 -0.669713   4.09228 -0.322173 -0.417253  21     7  \n",
              "\n",
              "[37488 rows x 37 columns]"
            ],
            "text/html": [
              "\n",
              "  <div id=\"df-6bda56c1-3c9c-41f9-aa35-2786acb35933\">\n",
              "    <div class=\"colab-df-container\">\n",
              "      <div>\n",
              "<style scoped>\n",
              "    .dataframe tbody tr th:only-of-type {\n",
              "        vertical-align: middle;\n",
              "    }\n",
              "\n",
              "    .dataframe tbody tr th {\n",
              "        vertical-align: top;\n",
              "    }\n",
              "\n",
              "    .dataframe thead th {\n",
              "        text-align: right;\n",
              "    }\n",
              "</style>\n",
              "<table border=\"1\" class=\"dataframe\">\n",
              "  <thead>\n",
              "    <tr style=\"text-align: right;\">\n",
              "      <th></th>\n",
              "      <th>job_admin.</th>\n",
              "      <th>job_blue-collar</th>\n",
              "      <th>job_entrepreneur</th>\n",
              "      <th>job_housemaid</th>\n",
              "      <th>job_management</th>\n",
              "      <th>job_retired</th>\n",
              "      <th>job_self-employed</th>\n",
              "      <th>job_services</th>\n",
              "      <th>job_student</th>\n",
              "      <th>job_technician</th>\n",
              "      <th>...</th>\n",
              "      <th>poutcome_other</th>\n",
              "      <th>poutcome_success</th>\n",
              "      <th>poutcome_unknown</th>\n",
              "      <th>age</th>\n",
              "      <th>balance</th>\n",
              "      <th>campaign</th>\n",
              "      <th>previous</th>\n",
              "      <th>pdays</th>\n",
              "      <th>day</th>\n",
              "      <th>month</th>\n",
              "    </tr>\n",
              "  </thead>\n",
              "  <tbody>\n",
              "    <tr>\n",
              "      <th>0</th>\n",
              "      <td>0.0</td>\n",
              "      <td>0.0</td>\n",
              "      <td>0.0</td>\n",
              "      <td>0.0</td>\n",
              "      <td>0.0</td>\n",
              "      <td>0.0</td>\n",
              "      <td>0.0</td>\n",
              "      <td>1.0</td>\n",
              "      <td>0.0</td>\n",
              "      <td>0.0</td>\n",
              "      <td>...</td>\n",
              "      <td>1.0</td>\n",
              "      <td>0.0</td>\n",
              "      <td>0.0</td>\n",
              "      <td>0.398792</td>\n",
              "      <td>0.417243</td>\n",
              "      <td>0.313262</td>\n",
              "      <td>0.250009</td>\n",
              "      <td>2.828465</td>\n",
              "      <td>20</td>\n",
              "      <td>4</td>\n",
              "    </tr>\n",
              "    <tr>\n",
              "      <th>1</th>\n",
              "      <td>0.0</td>\n",
              "      <td>0.0</td>\n",
              "      <td>0.0</td>\n",
              "      <td>0.0</td>\n",
              "      <td>0.0</td>\n",
              "      <td>0.0</td>\n",
              "      <td>0.0</td>\n",
              "      <td>0.0</td>\n",
              "      <td>0.0</td>\n",
              "      <td>1.0</td>\n",
              "      <td>...</td>\n",
              "      <td>0.0</td>\n",
              "      <td>0.0</td>\n",
              "      <td>1.0</td>\n",
              "      <td>-0.846699</td>\n",
              "      <td>-0.17218</td>\n",
              "      <td>0.853122</td>\n",
              "      <td>-0.322173</td>\n",
              "      <td>-0.417253</td>\n",
              "      <td>26</td>\n",
              "      <td>5</td>\n",
              "    </tr>\n",
              "    <tr>\n",
              "      <th>2</th>\n",
              "      <td>0.0</td>\n",
              "      <td>0.0</td>\n",
              "      <td>0.0</td>\n",
              "      <td>0.0</td>\n",
              "      <td>0.0</td>\n",
              "      <td>0.0</td>\n",
              "      <td>0.0</td>\n",
              "      <td>1.0</td>\n",
              "      <td>0.0</td>\n",
              "      <td>0.0</td>\n",
              "      <td>...</td>\n",
              "      <td>0.0</td>\n",
              "      <td>0.0</td>\n",
              "      <td>1.0</td>\n",
              "      <td>-0.846699</td>\n",
              "      <td>-0.534297</td>\n",
              "      <td>4.09228</td>\n",
              "      <td>-0.322173</td>\n",
              "      <td>-0.417253</td>\n",
              "      <td>9</td>\n",
              "      <td>2</td>\n",
              "    </tr>\n",
              "    <tr>\n",
              "      <th>3</th>\n",
              "      <td>1.0</td>\n",
              "      <td>0.0</td>\n",
              "      <td>0.0</td>\n",
              "      <td>0.0</td>\n",
              "      <td>0.0</td>\n",
              "      <td>0.0</td>\n",
              "      <td>0.0</td>\n",
              "      <td>0.0</td>\n",
              "      <td>0.0</td>\n",
              "      <td>0.0</td>\n",
              "      <td>...</td>\n",
              "      <td>0.0</td>\n",
              "      <td>0.0</td>\n",
              "      <td>1.0</td>\n",
              "      <td>-0.655085</td>\n",
              "      <td>-0.267092</td>\n",
              "      <td>-0.766457</td>\n",
              "      <td>-0.322173</td>\n",
              "      <td>-0.417253</td>\n",
              "      <td>31</td>\n",
              "      <td>8</td>\n",
              "    </tr>\n",
              "    <tr>\n",
              "      <th>4</th>\n",
              "      <td>0.0</td>\n",
              "      <td>1.0</td>\n",
              "      <td>0.0</td>\n",
              "      <td>0.0</td>\n",
              "      <td>0.0</td>\n",
              "      <td>0.0</td>\n",
              "      <td>0.0</td>\n",
              "      <td>0.0</td>\n",
              "      <td>0.0</td>\n",
              "      <td>0.0</td>\n",
              "      <td>...</td>\n",
              "      <td>0.0</td>\n",
              "      <td>0.0</td>\n",
              "      <td>1.0</td>\n",
              "      <td>-0.846699</td>\n",
              "      <td>-0.428503</td>\n",
              "      <td>-0.766457</td>\n",
              "      <td>-0.322173</td>\n",
              "      <td>-0.417253</td>\n",
              "      <td>26</td>\n",
              "      <td>5</td>\n",
              "    </tr>\n",
              "    <tr>\n",
              "      <th>...</th>\n",
              "      <td>...</td>\n",
              "      <td>...</td>\n",
              "      <td>...</td>\n",
              "      <td>...</td>\n",
              "      <td>...</td>\n",
              "      <td>...</td>\n",
              "      <td>...</td>\n",
              "      <td>...</td>\n",
              "      <td>...</td>\n",
              "      <td>...</td>\n",
              "      <td>...</td>\n",
              "      <td>...</td>\n",
              "      <td>...</td>\n",
              "      <td>...</td>\n",
              "      <td>...</td>\n",
              "      <td>...</td>\n",
              "      <td>...</td>\n",
              "      <td>...</td>\n",
              "      <td>...</td>\n",
              "      <td>...</td>\n",
              "      <td>...</td>\n",
              "    </tr>\n",
              "    <tr>\n",
              "      <th>37483</th>\n",
              "      <td>0.0</td>\n",
              "      <td>0.0</td>\n",
              "      <td>0.0</td>\n",
              "      <td>1.0</td>\n",
              "      <td>0.0</td>\n",
              "      <td>0.0</td>\n",
              "      <td>0.0</td>\n",
              "      <td>0.0</td>\n",
              "      <td>0.0</td>\n",
              "      <td>0.0</td>\n",
              "      <td>...</td>\n",
              "      <td>0.0</td>\n",
              "      <td>0.0</td>\n",
              "      <td>1.0</td>\n",
              "      <td>0.302985</td>\n",
              "      <td>-0.004723</td>\n",
              "      <td>-0.766457</td>\n",
              "      <td>-0.322173</td>\n",
              "      <td>-0.417253</td>\n",
              "      <td>18</td>\n",
              "      <td>6</td>\n",
              "    </tr>\n",
              "    <tr>\n",
              "      <th>37484</th>\n",
              "      <td>0.0</td>\n",
              "      <td>0.0</td>\n",
              "      <td>0.0</td>\n",
              "      <td>0.0</td>\n",
              "      <td>0.0</td>\n",
              "      <td>0.0</td>\n",
              "      <td>0.0</td>\n",
              "      <td>0.0</td>\n",
              "      <td>1.0</td>\n",
              "      <td>0.0</td>\n",
              "      <td>...</td>\n",
              "      <td>0.0</td>\n",
              "      <td>0.0</td>\n",
              "      <td>0.0</td>\n",
              "      <td>-1.708963</td>\n",
              "      <td>-0.337823</td>\n",
              "      <td>-0.766457</td>\n",
              "      <td>0.250009</td>\n",
              "      <td>0.505841</td>\n",
              "      <td>8</td>\n",
              "      <td>9</td>\n",
              "    </tr>\n",
              "    <tr>\n",
              "      <th>37485</th>\n",
              "      <td>0.0</td>\n",
              "      <td>0.0</td>\n",
              "      <td>0.0</td>\n",
              "      <td>0.0</td>\n",
              "      <td>0.0</td>\n",
              "      <td>0.0</td>\n",
              "      <td>0.0</td>\n",
              "      <td>0.0</td>\n",
              "      <td>0.0</td>\n",
              "      <td>1.0</td>\n",
              "      <td>...</td>\n",
              "      <td>0.0</td>\n",
              "      <td>0.0</td>\n",
              "      <td>1.0</td>\n",
              "      <td>-0.655085</td>\n",
              "      <td>0.151247</td>\n",
              "      <td>-0.766457</td>\n",
              "      <td>-0.322173</td>\n",
              "      <td>-0.417253</td>\n",
              "      <td>15</td>\n",
              "      <td>5</td>\n",
              "    </tr>\n",
              "    <tr>\n",
              "      <th>37486</th>\n",
              "      <td>0.0</td>\n",
              "      <td>0.0</td>\n",
              "      <td>0.0</td>\n",
              "      <td>0.0</td>\n",
              "      <td>0.0</td>\n",
              "      <td>1.0</td>\n",
              "      <td>0.0</td>\n",
              "      <td>0.0</td>\n",
              "      <td>0.0</td>\n",
              "      <td>0.0</td>\n",
              "      <td>...</td>\n",
              "      <td>0.0</td>\n",
              "      <td>0.0</td>\n",
              "      <td>1.0</td>\n",
              "      <td>-0.750892</td>\n",
              "      <td>-0.545179</td>\n",
              "      <td>-0.766457</td>\n",
              "      <td>-0.322173</td>\n",
              "      <td>-0.417253</td>\n",
              "      <td>7</td>\n",
              "      <td>5</td>\n",
              "    </tr>\n",
              "    <tr>\n",
              "      <th>37487</th>\n",
              "      <td>0.0</td>\n",
              "      <td>1.0</td>\n",
              "      <td>0.0</td>\n",
              "      <td>0.0</td>\n",
              "      <td>0.0</td>\n",
              "      <td>0.0</td>\n",
              "      <td>0.0</td>\n",
              "      <td>0.0</td>\n",
              "      <td>0.0</td>\n",
              "      <td>0.0</td>\n",
              "      <td>...</td>\n",
              "      <td>0.0</td>\n",
              "      <td>0.0</td>\n",
              "      <td>1.0</td>\n",
              "      <td>-0.271857</td>\n",
              "      <td>-0.669713</td>\n",
              "      <td>4.09228</td>\n",
              "      <td>-0.322173</td>\n",
              "      <td>-0.417253</td>\n",
              "      <td>21</td>\n",
              "      <td>7</td>\n",
              "    </tr>\n",
              "  </tbody>\n",
              "</table>\n",
              "<p>37488 rows × 37 columns</p>\n",
              "</div>\n",
              "      <button class=\"colab-df-convert\" onclick=\"convertToInteractive('df-6bda56c1-3c9c-41f9-aa35-2786acb35933')\"\n",
              "              title=\"Convert this dataframe to an interactive table.\"\n",
              "              style=\"display:none;\">\n",
              "        \n",
              "  <svg xmlns=\"http://www.w3.org/2000/svg\" height=\"24px\"viewBox=\"0 0 24 24\"\n",
              "       width=\"24px\">\n",
              "    <path d=\"M0 0h24v24H0V0z\" fill=\"none\"/>\n",
              "    <path d=\"M18.56 5.44l.94 2.06.94-2.06 2.06-.94-2.06-.94-.94-2.06-.94 2.06-2.06.94zm-11 1L8.5 8.5l.94-2.06 2.06-.94-2.06-.94L8.5 2.5l-.94 2.06-2.06.94zm10 10l.94 2.06.94-2.06 2.06-.94-2.06-.94-.94-2.06-.94 2.06-2.06.94z\"/><path d=\"M17.41 7.96l-1.37-1.37c-.4-.4-.92-.59-1.43-.59-.52 0-1.04.2-1.43.59L10.3 9.45l-7.72 7.72c-.78.78-.78 2.05 0 2.83L4 21.41c.39.39.9.59 1.41.59.51 0 1.02-.2 1.41-.59l7.78-7.78 2.81-2.81c.8-.78.8-2.07 0-2.86zM5.41 20L4 18.59l7.72-7.72 1.47 1.35L5.41 20z\"/>\n",
              "  </svg>\n",
              "      </button>\n",
              "      \n",
              "  <style>\n",
              "    .colab-df-container {\n",
              "      display:flex;\n",
              "      flex-wrap:wrap;\n",
              "      gap: 12px;\n",
              "    }\n",
              "\n",
              "    .colab-df-convert {\n",
              "      background-color: #E8F0FE;\n",
              "      border: none;\n",
              "      border-radius: 50%;\n",
              "      cursor: pointer;\n",
              "      display: none;\n",
              "      fill: #1967D2;\n",
              "      height: 32px;\n",
              "      padding: 0 0 0 0;\n",
              "      width: 32px;\n",
              "    }\n",
              "\n",
              "    .colab-df-convert:hover {\n",
              "      background-color: #E2EBFA;\n",
              "      box-shadow: 0px 1px 2px rgba(60, 64, 67, 0.3), 0px 1px 3px 1px rgba(60, 64, 67, 0.15);\n",
              "      fill: #174EA6;\n",
              "    }\n",
              "\n",
              "    [theme=dark] .colab-df-convert {\n",
              "      background-color: #3B4455;\n",
              "      fill: #D2E3FC;\n",
              "    }\n",
              "\n",
              "    [theme=dark] .colab-df-convert:hover {\n",
              "      background-color: #434B5C;\n",
              "      box-shadow: 0px 1px 3px 1px rgba(0, 0, 0, 0.15);\n",
              "      filter: drop-shadow(0px 1px 2px rgba(0, 0, 0, 0.3));\n",
              "      fill: #FFFFFF;\n",
              "    }\n",
              "  </style>\n",
              "\n",
              "      <script>\n",
              "        const buttonEl =\n",
              "          document.querySelector('#df-6bda56c1-3c9c-41f9-aa35-2786acb35933 button.colab-df-convert');\n",
              "        buttonEl.style.display =\n",
              "          google.colab.kernel.accessAllowed ? 'block' : 'none';\n",
              "\n",
              "        async function convertToInteractive(key) {\n",
              "          const element = document.querySelector('#df-6bda56c1-3c9c-41f9-aa35-2786acb35933');\n",
              "          const dataTable =\n",
              "            await google.colab.kernel.invokeFunction('convertToInteractive',\n",
              "                                                     [key], {});\n",
              "          if (!dataTable) return;\n",
              "\n",
              "          const docLinkHtml = 'Like what you see? Visit the ' +\n",
              "            '<a target=\"_blank\" href=https://colab.research.google.com/notebooks/data_table.ipynb>data table notebook</a>'\n",
              "            + ' to learn more about interactive tables.';\n",
              "          element.innerHTML = '';\n",
              "          dataTable['output_type'] = 'display_data';\n",
              "          await google.colab.output.renderOutput(dataTable, element);\n",
              "          const docLink = document.createElement('div');\n",
              "          docLink.innerHTML = docLinkHtml;\n",
              "          element.appendChild(docLink);\n",
              "        }\n",
              "      </script>\n",
              "    </div>\n",
              "  </div>\n",
              "  "
            ]
          },
          "metadata": {}
        }
      ]
    },
    {
      "cell_type": "markdown",
      "source": [
        "Por último, nos quedaría por analizar las variables cíclicas. Tras la lectura de la [documentación sklearn](https://scikit-learn.org/stable/auto_examples/applications/plot_cyclical_feature_engineering.html#trigonometric-features) para la transformación de datos de tipo temporal, he optado por utilizar el siguiente pipeline de transformaciones: "
      ],
      "metadata": {
        "id": "UgTnQt-uyXM9"
      }
    },
    {
      "cell_type": "code",
      "source": [
        "from sklearn.preprocessing import FunctionTransformer\n",
        "import numpy as np\n",
        "\n",
        "def sin_transformer(period):\n",
        "  return FunctionTransformer(lambda x: np.sin(x / period * 2 * np.pi))\n",
        "\n",
        "def cos_transformer(period):\n",
        "  return FunctionTransformer(lambda x: np.cos(x / period * 2 * np.pi))\n",
        "\n",
        "cyclic_cossin_transformer = ColumnTransformer(\n",
        "  transformers=[\n",
        "    (\"day-sin\", sin_transformer(31),[\"day\"]),\n",
        "    (\"day-cos\", cos_transformer(31),[\"day\"]),\n",
        "    (\"month-sin\", sin_transformer(12),[\"month\"]),\n",
        "    (\"month-cos\", cos_transformer(12),[\"month\"])\n",
        "  ], \n",
        "  remainder='passthrough'\n",
        ")\n",
        "\n",
        "tdata.day = tdata.day.values.astype(float)\n",
        "tdata.month = tdata.month.values.astype(float)\n",
        "Cctransformed = cyclic_cossin_transformer.fit_transform(tdata)\n",
        "cols = np.delete(cols,-1) \n",
        "cols = np.delete(cols,-1) \n",
        "cols = np.insert(cols,0,[\"day-sin\",\"day-cos\",\"month-sin\",\"month-cos\"])\n",
        "tdata = pd.DataFrame(data=Cctransformed,columns=cols)\n",
        "display(tdata) "
      ],
      "metadata": {
        "id": "NGqLcgOzwStk",
        "colab": {
          "base_uri": "https://localhost:8080/",
          "height": 505
        },
        "outputId": "86c9a7ad-abe8-4a07-a8fd-eb4119b528b7"
      },
      "execution_count": 281,
      "outputs": [
        {
          "output_type": "display_data",
          "data": {
            "text/plain": [
              "        day-sin   day-cos month-sin month-cos job_admin. job_blue-collar  \\\n",
              "0     -0.790776 -0.612106  0.866025      -0.5        0.0             0.0   \n",
              "1     -0.848644  0.528964       0.5 -0.866025        0.0             0.0   \n",
              "2      0.968077 -0.250653  0.866025       0.5        0.0             0.0   \n",
              "3          -0.0       1.0 -0.866025      -0.5        1.0             0.0   \n",
              "4     -0.848644  0.528964       0.5 -0.866025        0.0             1.0   \n",
              "...         ...       ...       ...       ...        ...             ...   \n",
              "37483 -0.485302 -0.874347       0.0      -1.0        0.0             0.0   \n",
              "37484  0.998717 -0.050649      -1.0      -0.0        0.0             0.0   \n",
              "37485  0.101168 -0.994869       0.5 -0.866025        0.0             0.0   \n",
              "37486  0.988468  0.151428       0.5 -0.866025        0.0             0.0   \n",
              "37487 -0.897805 -0.440394      -0.5 -0.866025        0.0             1.0   \n",
              "\n",
              "      job_entrepreneur job_housemaid job_management job_retired  ...  \\\n",
              "0                  0.0           0.0            0.0         0.0  ...   \n",
              "1                  0.0           0.0            0.0         0.0  ...   \n",
              "2                  0.0           0.0            0.0         0.0  ...   \n",
              "3                  0.0           0.0            0.0         0.0  ...   \n",
              "4                  0.0           0.0            0.0         0.0  ...   \n",
              "...                ...           ...            ...         ...  ...   \n",
              "37483              0.0           1.0            0.0         0.0  ...   \n",
              "37484              0.0           0.0            0.0         0.0  ...   \n",
              "37485              0.0           0.0            0.0         0.0  ...   \n",
              "37486              0.0           0.0            0.0         1.0  ...   \n",
              "37487              0.0           0.0            0.0         0.0  ...   \n",
              "\n",
              "      contact_unknown poutcome_failure poutcome_other poutcome_success  \\\n",
              "0                 0.0              0.0            1.0              0.0   \n",
              "1                 1.0              0.0            0.0              0.0   \n",
              "2                 0.0              0.0            0.0              0.0   \n",
              "3                 1.0              0.0            0.0              0.0   \n",
              "4                 1.0              0.0            0.0              0.0   \n",
              "...               ...              ...            ...              ...   \n",
              "37483             1.0              0.0            0.0              0.0   \n",
              "37484             0.0              1.0            0.0              0.0   \n",
              "37485             0.0              0.0            0.0              0.0   \n",
              "37486             1.0              0.0            0.0              0.0   \n",
              "37487             0.0              0.0            0.0              0.0   \n",
              "\n",
              "      poutcome_unknown       age   balance  campaign  previous     pdays  \n",
              "0                  0.0  0.398792  0.417243  0.313262  0.250009  2.828465  \n",
              "1                  1.0 -0.846699  -0.17218  0.853122 -0.322173 -0.417253  \n",
              "2                  1.0 -0.846699 -0.534297   4.09228 -0.322173 -0.417253  \n",
              "3                  1.0 -0.655085 -0.267092 -0.766457 -0.322173 -0.417253  \n",
              "4                  1.0 -0.846699 -0.428503 -0.766457 -0.322173 -0.417253  \n",
              "...                ...       ...       ...       ...       ...       ...  \n",
              "37483              1.0  0.302985 -0.004723 -0.766457 -0.322173 -0.417253  \n",
              "37484              0.0 -1.708963 -0.337823 -0.766457  0.250009  0.505841  \n",
              "37485              1.0 -0.655085  0.151247 -0.766457 -0.322173 -0.417253  \n",
              "37486              1.0 -0.750892 -0.545179 -0.766457 -0.322173 -0.417253  \n",
              "37487              1.0 -0.271857 -0.669713   4.09228 -0.322173 -0.417253  \n",
              "\n",
              "[37488 rows x 39 columns]"
            ],
            "text/html": [
              "\n",
              "  <div id=\"df-874e88d5-b2b2-4684-b635-677ae0a360d1\">\n",
              "    <div class=\"colab-df-container\">\n",
              "      <div>\n",
              "<style scoped>\n",
              "    .dataframe tbody tr th:only-of-type {\n",
              "        vertical-align: middle;\n",
              "    }\n",
              "\n",
              "    .dataframe tbody tr th {\n",
              "        vertical-align: top;\n",
              "    }\n",
              "\n",
              "    .dataframe thead th {\n",
              "        text-align: right;\n",
              "    }\n",
              "</style>\n",
              "<table border=\"1\" class=\"dataframe\">\n",
              "  <thead>\n",
              "    <tr style=\"text-align: right;\">\n",
              "      <th></th>\n",
              "      <th>day-sin</th>\n",
              "      <th>day-cos</th>\n",
              "      <th>month-sin</th>\n",
              "      <th>month-cos</th>\n",
              "      <th>job_admin.</th>\n",
              "      <th>job_blue-collar</th>\n",
              "      <th>job_entrepreneur</th>\n",
              "      <th>job_housemaid</th>\n",
              "      <th>job_management</th>\n",
              "      <th>job_retired</th>\n",
              "      <th>...</th>\n",
              "      <th>contact_unknown</th>\n",
              "      <th>poutcome_failure</th>\n",
              "      <th>poutcome_other</th>\n",
              "      <th>poutcome_success</th>\n",
              "      <th>poutcome_unknown</th>\n",
              "      <th>age</th>\n",
              "      <th>balance</th>\n",
              "      <th>campaign</th>\n",
              "      <th>previous</th>\n",
              "      <th>pdays</th>\n",
              "    </tr>\n",
              "  </thead>\n",
              "  <tbody>\n",
              "    <tr>\n",
              "      <th>0</th>\n",
              "      <td>-0.790776</td>\n",
              "      <td>-0.612106</td>\n",
              "      <td>0.866025</td>\n",
              "      <td>-0.5</td>\n",
              "      <td>0.0</td>\n",
              "      <td>0.0</td>\n",
              "      <td>0.0</td>\n",
              "      <td>0.0</td>\n",
              "      <td>0.0</td>\n",
              "      <td>0.0</td>\n",
              "      <td>...</td>\n",
              "      <td>0.0</td>\n",
              "      <td>0.0</td>\n",
              "      <td>1.0</td>\n",
              "      <td>0.0</td>\n",
              "      <td>0.0</td>\n",
              "      <td>0.398792</td>\n",
              "      <td>0.417243</td>\n",
              "      <td>0.313262</td>\n",
              "      <td>0.250009</td>\n",
              "      <td>2.828465</td>\n",
              "    </tr>\n",
              "    <tr>\n",
              "      <th>1</th>\n",
              "      <td>-0.848644</td>\n",
              "      <td>0.528964</td>\n",
              "      <td>0.5</td>\n",
              "      <td>-0.866025</td>\n",
              "      <td>0.0</td>\n",
              "      <td>0.0</td>\n",
              "      <td>0.0</td>\n",
              "      <td>0.0</td>\n",
              "      <td>0.0</td>\n",
              "      <td>0.0</td>\n",
              "      <td>...</td>\n",
              "      <td>1.0</td>\n",
              "      <td>0.0</td>\n",
              "      <td>0.0</td>\n",
              "      <td>0.0</td>\n",
              "      <td>1.0</td>\n",
              "      <td>-0.846699</td>\n",
              "      <td>-0.17218</td>\n",
              "      <td>0.853122</td>\n",
              "      <td>-0.322173</td>\n",
              "      <td>-0.417253</td>\n",
              "    </tr>\n",
              "    <tr>\n",
              "      <th>2</th>\n",
              "      <td>0.968077</td>\n",
              "      <td>-0.250653</td>\n",
              "      <td>0.866025</td>\n",
              "      <td>0.5</td>\n",
              "      <td>0.0</td>\n",
              "      <td>0.0</td>\n",
              "      <td>0.0</td>\n",
              "      <td>0.0</td>\n",
              "      <td>0.0</td>\n",
              "      <td>0.0</td>\n",
              "      <td>...</td>\n",
              "      <td>0.0</td>\n",
              "      <td>0.0</td>\n",
              "      <td>0.0</td>\n",
              "      <td>0.0</td>\n",
              "      <td>1.0</td>\n",
              "      <td>-0.846699</td>\n",
              "      <td>-0.534297</td>\n",
              "      <td>4.09228</td>\n",
              "      <td>-0.322173</td>\n",
              "      <td>-0.417253</td>\n",
              "    </tr>\n",
              "    <tr>\n",
              "      <th>3</th>\n",
              "      <td>-0.0</td>\n",
              "      <td>1.0</td>\n",
              "      <td>-0.866025</td>\n",
              "      <td>-0.5</td>\n",
              "      <td>1.0</td>\n",
              "      <td>0.0</td>\n",
              "      <td>0.0</td>\n",
              "      <td>0.0</td>\n",
              "      <td>0.0</td>\n",
              "      <td>0.0</td>\n",
              "      <td>...</td>\n",
              "      <td>1.0</td>\n",
              "      <td>0.0</td>\n",
              "      <td>0.0</td>\n",
              "      <td>0.0</td>\n",
              "      <td>1.0</td>\n",
              "      <td>-0.655085</td>\n",
              "      <td>-0.267092</td>\n",
              "      <td>-0.766457</td>\n",
              "      <td>-0.322173</td>\n",
              "      <td>-0.417253</td>\n",
              "    </tr>\n",
              "    <tr>\n",
              "      <th>4</th>\n",
              "      <td>-0.848644</td>\n",
              "      <td>0.528964</td>\n",
              "      <td>0.5</td>\n",
              "      <td>-0.866025</td>\n",
              "      <td>0.0</td>\n",
              "      <td>1.0</td>\n",
              "      <td>0.0</td>\n",
              "      <td>0.0</td>\n",
              "      <td>0.0</td>\n",
              "      <td>0.0</td>\n",
              "      <td>...</td>\n",
              "      <td>1.0</td>\n",
              "      <td>0.0</td>\n",
              "      <td>0.0</td>\n",
              "      <td>0.0</td>\n",
              "      <td>1.0</td>\n",
              "      <td>-0.846699</td>\n",
              "      <td>-0.428503</td>\n",
              "      <td>-0.766457</td>\n",
              "      <td>-0.322173</td>\n",
              "      <td>-0.417253</td>\n",
              "    </tr>\n",
              "    <tr>\n",
              "      <th>...</th>\n",
              "      <td>...</td>\n",
              "      <td>...</td>\n",
              "      <td>...</td>\n",
              "      <td>...</td>\n",
              "      <td>...</td>\n",
              "      <td>...</td>\n",
              "      <td>...</td>\n",
              "      <td>...</td>\n",
              "      <td>...</td>\n",
              "      <td>...</td>\n",
              "      <td>...</td>\n",
              "      <td>...</td>\n",
              "      <td>...</td>\n",
              "      <td>...</td>\n",
              "      <td>...</td>\n",
              "      <td>...</td>\n",
              "      <td>...</td>\n",
              "      <td>...</td>\n",
              "      <td>...</td>\n",
              "      <td>...</td>\n",
              "      <td>...</td>\n",
              "    </tr>\n",
              "    <tr>\n",
              "      <th>37483</th>\n",
              "      <td>-0.485302</td>\n",
              "      <td>-0.874347</td>\n",
              "      <td>0.0</td>\n",
              "      <td>-1.0</td>\n",
              "      <td>0.0</td>\n",
              "      <td>0.0</td>\n",
              "      <td>0.0</td>\n",
              "      <td>1.0</td>\n",
              "      <td>0.0</td>\n",
              "      <td>0.0</td>\n",
              "      <td>...</td>\n",
              "      <td>1.0</td>\n",
              "      <td>0.0</td>\n",
              "      <td>0.0</td>\n",
              "      <td>0.0</td>\n",
              "      <td>1.0</td>\n",
              "      <td>0.302985</td>\n",
              "      <td>-0.004723</td>\n",
              "      <td>-0.766457</td>\n",
              "      <td>-0.322173</td>\n",
              "      <td>-0.417253</td>\n",
              "    </tr>\n",
              "    <tr>\n",
              "      <th>37484</th>\n",
              "      <td>0.998717</td>\n",
              "      <td>-0.050649</td>\n",
              "      <td>-1.0</td>\n",
              "      <td>-0.0</td>\n",
              "      <td>0.0</td>\n",
              "      <td>0.0</td>\n",
              "      <td>0.0</td>\n",
              "      <td>0.0</td>\n",
              "      <td>0.0</td>\n",
              "      <td>0.0</td>\n",
              "      <td>...</td>\n",
              "      <td>0.0</td>\n",
              "      <td>1.0</td>\n",
              "      <td>0.0</td>\n",
              "      <td>0.0</td>\n",
              "      <td>0.0</td>\n",
              "      <td>-1.708963</td>\n",
              "      <td>-0.337823</td>\n",
              "      <td>-0.766457</td>\n",
              "      <td>0.250009</td>\n",
              "      <td>0.505841</td>\n",
              "    </tr>\n",
              "    <tr>\n",
              "      <th>37485</th>\n",
              "      <td>0.101168</td>\n",
              "      <td>-0.994869</td>\n",
              "      <td>0.5</td>\n",
              "      <td>-0.866025</td>\n",
              "      <td>0.0</td>\n",
              "      <td>0.0</td>\n",
              "      <td>0.0</td>\n",
              "      <td>0.0</td>\n",
              "      <td>0.0</td>\n",
              "      <td>0.0</td>\n",
              "      <td>...</td>\n",
              "      <td>0.0</td>\n",
              "      <td>0.0</td>\n",
              "      <td>0.0</td>\n",
              "      <td>0.0</td>\n",
              "      <td>1.0</td>\n",
              "      <td>-0.655085</td>\n",
              "      <td>0.151247</td>\n",
              "      <td>-0.766457</td>\n",
              "      <td>-0.322173</td>\n",
              "      <td>-0.417253</td>\n",
              "    </tr>\n",
              "    <tr>\n",
              "      <th>37486</th>\n",
              "      <td>0.988468</td>\n",
              "      <td>0.151428</td>\n",
              "      <td>0.5</td>\n",
              "      <td>-0.866025</td>\n",
              "      <td>0.0</td>\n",
              "      <td>0.0</td>\n",
              "      <td>0.0</td>\n",
              "      <td>0.0</td>\n",
              "      <td>0.0</td>\n",
              "      <td>1.0</td>\n",
              "      <td>...</td>\n",
              "      <td>1.0</td>\n",
              "      <td>0.0</td>\n",
              "      <td>0.0</td>\n",
              "      <td>0.0</td>\n",
              "      <td>1.0</td>\n",
              "      <td>-0.750892</td>\n",
              "      <td>-0.545179</td>\n",
              "      <td>-0.766457</td>\n",
              "      <td>-0.322173</td>\n",
              "      <td>-0.417253</td>\n",
              "    </tr>\n",
              "    <tr>\n",
              "      <th>37487</th>\n",
              "      <td>-0.897805</td>\n",
              "      <td>-0.440394</td>\n",
              "      <td>-0.5</td>\n",
              "      <td>-0.866025</td>\n",
              "      <td>0.0</td>\n",
              "      <td>1.0</td>\n",
              "      <td>0.0</td>\n",
              "      <td>0.0</td>\n",
              "      <td>0.0</td>\n",
              "      <td>0.0</td>\n",
              "      <td>...</td>\n",
              "      <td>0.0</td>\n",
              "      <td>0.0</td>\n",
              "      <td>0.0</td>\n",
              "      <td>0.0</td>\n",
              "      <td>1.0</td>\n",
              "      <td>-0.271857</td>\n",
              "      <td>-0.669713</td>\n",
              "      <td>4.09228</td>\n",
              "      <td>-0.322173</td>\n",
              "      <td>-0.417253</td>\n",
              "    </tr>\n",
              "  </tbody>\n",
              "</table>\n",
              "<p>37488 rows × 39 columns</p>\n",
              "</div>\n",
              "      <button class=\"colab-df-convert\" onclick=\"convertToInteractive('df-874e88d5-b2b2-4684-b635-677ae0a360d1')\"\n",
              "              title=\"Convert this dataframe to an interactive table.\"\n",
              "              style=\"display:none;\">\n",
              "        \n",
              "  <svg xmlns=\"http://www.w3.org/2000/svg\" height=\"24px\"viewBox=\"0 0 24 24\"\n",
              "       width=\"24px\">\n",
              "    <path d=\"M0 0h24v24H0V0z\" fill=\"none\"/>\n",
              "    <path d=\"M18.56 5.44l.94 2.06.94-2.06 2.06-.94-2.06-.94-.94-2.06-.94 2.06-2.06.94zm-11 1L8.5 8.5l.94-2.06 2.06-.94-2.06-.94L8.5 2.5l-.94 2.06-2.06.94zm10 10l.94 2.06.94-2.06 2.06-.94-2.06-.94-.94-2.06-.94 2.06-2.06.94z\"/><path d=\"M17.41 7.96l-1.37-1.37c-.4-.4-.92-.59-1.43-.59-.52 0-1.04.2-1.43.59L10.3 9.45l-7.72 7.72c-.78.78-.78 2.05 0 2.83L4 21.41c.39.39.9.59 1.41.59.51 0 1.02-.2 1.41-.59l7.78-7.78 2.81-2.81c.8-.78.8-2.07 0-2.86zM5.41 20L4 18.59l7.72-7.72 1.47 1.35L5.41 20z\"/>\n",
              "  </svg>\n",
              "      </button>\n",
              "      \n",
              "  <style>\n",
              "    .colab-df-container {\n",
              "      display:flex;\n",
              "      flex-wrap:wrap;\n",
              "      gap: 12px;\n",
              "    }\n",
              "\n",
              "    .colab-df-convert {\n",
              "      background-color: #E8F0FE;\n",
              "      border: none;\n",
              "      border-radius: 50%;\n",
              "      cursor: pointer;\n",
              "      display: none;\n",
              "      fill: #1967D2;\n",
              "      height: 32px;\n",
              "      padding: 0 0 0 0;\n",
              "      width: 32px;\n",
              "    }\n",
              "\n",
              "    .colab-df-convert:hover {\n",
              "      background-color: #E2EBFA;\n",
              "      box-shadow: 0px 1px 2px rgba(60, 64, 67, 0.3), 0px 1px 3px 1px rgba(60, 64, 67, 0.15);\n",
              "      fill: #174EA6;\n",
              "    }\n",
              "\n",
              "    [theme=dark] .colab-df-convert {\n",
              "      background-color: #3B4455;\n",
              "      fill: #D2E3FC;\n",
              "    }\n",
              "\n",
              "    [theme=dark] .colab-df-convert:hover {\n",
              "      background-color: #434B5C;\n",
              "      box-shadow: 0px 1px 3px 1px rgba(0, 0, 0, 0.15);\n",
              "      filter: drop-shadow(0px 1px 2px rgba(0, 0, 0, 0.3));\n",
              "      fill: #FFFFFF;\n",
              "    }\n",
              "  </style>\n",
              "\n",
              "      <script>\n",
              "        const buttonEl =\n",
              "          document.querySelector('#df-874e88d5-b2b2-4684-b635-677ae0a360d1 button.colab-df-convert');\n",
              "        buttonEl.style.display =\n",
              "          google.colab.kernel.accessAllowed ? 'block' : 'none';\n",
              "\n",
              "        async function convertToInteractive(key) {\n",
              "          const element = document.querySelector('#df-874e88d5-b2b2-4684-b635-677ae0a360d1');\n",
              "          const dataTable =\n",
              "            await google.colab.kernel.invokeFunction('convertToInteractive',\n",
              "                                                     [key], {});\n",
              "          if (!dataTable) return;\n",
              "\n",
              "          const docLinkHtml = 'Like what you see? Visit the ' +\n",
              "            '<a target=\"_blank\" href=https://colab.research.google.com/notebooks/data_table.ipynb>data table notebook</a>'\n",
              "            + ' to learn more about interactive tables.';\n",
              "          element.innerHTML = '';\n",
              "          dataTable['output_type'] = 'display_data';\n",
              "          await google.colab.output.renderOutput(dataTable, element);\n",
              "          const docLink = document.createElement('div');\n",
              "          docLink.innerHTML = docLinkHtml;\n",
              "          element.appendChild(docLink);\n",
              "        }\n",
              "      </script>\n",
              "    </div>\n",
              "  </div>\n",
              "  "
            ]
          },
          "metadata": {}
        }
      ]
    },
    {
      "cell_type": "markdown",
      "source": [
        "Teóricamente no hacia falta ir visualizando los cambios, de hecho, podríamos haber simplesmente definido un Pipeline con todas las transformaciones y luego pasarlas al modelo que vamos a entrenar, pero este ejercicio me ha servido para entender mejor como funciona la librería sklearn y sus funciones de preprocesado de datos.\n",
        "\n",
        "El nuevo conjunto de datos que hemos obtenido consiste de un total de 37.488 instancias y 39 columnas en contra de los 39785×16 al empezar. Ahora que hemos terminado de analizar los datos, podemos hablar de los modelos que vayamos a utilizar:  "
      ],
      "metadata": {
        "id": "a5oSS5IXzmJz"
      }
    },
    {
      "cell_type": "markdown",
      "source": [
        "## Transformación de los datos del conjunto de test"
      ],
      "metadata": {
        "id": "-uCbO2bXEnJ6"
      }
    },
    {
      "cell_type": "markdown",
      "source": [
        "Es importante recordar que tenemos que utilizar las mismas transformaciones que hemos realizado sobre el conjunto de entreno sobre el conjunto de test. Para ello lo que tenemos que hacer es volver a utilizar los mismos transformadores que hemos utilizado anteriormente."
      ],
      "metadata": {
        "id": "j_uum3nRFhef"
      }
    },
    {
      "cell_type": "code",
      "source": [
        "display(test)"
      ],
      "metadata": {
        "colab": {
          "base_uri": "https://localhost:8080/",
          "height": 488
        },
        "id": "tUdMgl18GE_P",
        "outputId": "66ad6d39-cd50-460c-8501-bbe8a3e83826"
      },
      "execution_count": 282,
      "outputs": [
        {
          "output_type": "display_data",
          "data": {
            "text/plain": [
              "       age          job   marital  education default  balance housing loan  \\\n",
              "40178   39   management   married   tertiary      no     1241     yes   no   \n",
              "18551   31  blue-collar   married  secondary      no     1030     yes   no   \n",
              "12486   41   technician   married  secondary      no     -147      no  yes   \n",
              "31102   62   management  divorced   tertiary      no     5943      no   no   \n",
              "3309    28   technician    single  secondary      no      618     yes   no   \n",
              "...    ...          ...       ...        ...     ...      ...     ...  ...   \n",
              "24114   38       admin.    single  secondary      no     2470      no   no   \n",
              "30367   60      retired   married   tertiary      no     6684     yes  yes   \n",
              "2909    39       admin.   married  secondary      no      406      no   no   \n",
              "17523   26  blue-collar    single    primary     yes      344      no  yes   \n",
              "4645    40  blue-collar   married    unknown      no      486     yes   no   \n",
              "\n",
              "         contact  day month  duration  campaign  pdays  previous poutcome  \n",
              "40178   cellular    5   jun       138         2     -1         0  unknown  \n",
              "18551   cellular   31   jul       180         5     -1         0  unknown  \n",
              "12486    unknown    1   jul       130         1     -1         0  unknown  \n",
              "31102  telephone   17   feb       196         4     -1         0  unknown  \n",
              "3309    cellular    7   may       281         1     -1         0  unknown  \n",
              "...          ...  ...   ...       ...       ...    ...       ...      ...  \n",
              "24114  telephone   31   oct       227         1     -1         0  unknown  \n",
              "30367   cellular    5   feb       173         1     -1         0  unknown  \n",
              "2909    cellular   30   jul       253         5     -1         0  unknown  \n",
              "17523   cellular   29   jul        62         4     -1         0  unknown  \n",
              "4645     unknown   20   may        97         8     -1         0  unknown  \n",
              "\n",
              "[9947 rows x 16 columns]"
            ],
            "text/html": [
              "\n",
              "  <div id=\"df-7f3071cc-8fd4-4f54-9299-b1dce8f97b3b\">\n",
              "    <div class=\"colab-df-container\">\n",
              "      <div>\n",
              "<style scoped>\n",
              "    .dataframe tbody tr th:only-of-type {\n",
              "        vertical-align: middle;\n",
              "    }\n",
              "\n",
              "    .dataframe tbody tr th {\n",
              "        vertical-align: top;\n",
              "    }\n",
              "\n",
              "    .dataframe thead th {\n",
              "        text-align: right;\n",
              "    }\n",
              "</style>\n",
              "<table border=\"1\" class=\"dataframe\">\n",
              "  <thead>\n",
              "    <tr style=\"text-align: right;\">\n",
              "      <th></th>\n",
              "      <th>age</th>\n",
              "      <th>job</th>\n",
              "      <th>marital</th>\n",
              "      <th>education</th>\n",
              "      <th>default</th>\n",
              "      <th>balance</th>\n",
              "      <th>housing</th>\n",
              "      <th>loan</th>\n",
              "      <th>contact</th>\n",
              "      <th>day</th>\n",
              "      <th>month</th>\n",
              "      <th>duration</th>\n",
              "      <th>campaign</th>\n",
              "      <th>pdays</th>\n",
              "      <th>previous</th>\n",
              "      <th>poutcome</th>\n",
              "    </tr>\n",
              "  </thead>\n",
              "  <tbody>\n",
              "    <tr>\n",
              "      <th>40178</th>\n",
              "      <td>39</td>\n",
              "      <td>management</td>\n",
              "      <td>married</td>\n",
              "      <td>tertiary</td>\n",
              "      <td>no</td>\n",
              "      <td>1241</td>\n",
              "      <td>yes</td>\n",
              "      <td>no</td>\n",
              "      <td>cellular</td>\n",
              "      <td>5</td>\n",
              "      <td>jun</td>\n",
              "      <td>138</td>\n",
              "      <td>2</td>\n",
              "      <td>-1</td>\n",
              "      <td>0</td>\n",
              "      <td>unknown</td>\n",
              "    </tr>\n",
              "    <tr>\n",
              "      <th>18551</th>\n",
              "      <td>31</td>\n",
              "      <td>blue-collar</td>\n",
              "      <td>married</td>\n",
              "      <td>secondary</td>\n",
              "      <td>no</td>\n",
              "      <td>1030</td>\n",
              "      <td>yes</td>\n",
              "      <td>no</td>\n",
              "      <td>cellular</td>\n",
              "      <td>31</td>\n",
              "      <td>jul</td>\n",
              "      <td>180</td>\n",
              "      <td>5</td>\n",
              "      <td>-1</td>\n",
              "      <td>0</td>\n",
              "      <td>unknown</td>\n",
              "    </tr>\n",
              "    <tr>\n",
              "      <th>12486</th>\n",
              "      <td>41</td>\n",
              "      <td>technician</td>\n",
              "      <td>married</td>\n",
              "      <td>secondary</td>\n",
              "      <td>no</td>\n",
              "      <td>-147</td>\n",
              "      <td>no</td>\n",
              "      <td>yes</td>\n",
              "      <td>unknown</td>\n",
              "      <td>1</td>\n",
              "      <td>jul</td>\n",
              "      <td>130</td>\n",
              "      <td>1</td>\n",
              "      <td>-1</td>\n",
              "      <td>0</td>\n",
              "      <td>unknown</td>\n",
              "    </tr>\n",
              "    <tr>\n",
              "      <th>31102</th>\n",
              "      <td>62</td>\n",
              "      <td>management</td>\n",
              "      <td>divorced</td>\n",
              "      <td>tertiary</td>\n",
              "      <td>no</td>\n",
              "      <td>5943</td>\n",
              "      <td>no</td>\n",
              "      <td>no</td>\n",
              "      <td>telephone</td>\n",
              "      <td>17</td>\n",
              "      <td>feb</td>\n",
              "      <td>196</td>\n",
              "      <td>4</td>\n",
              "      <td>-1</td>\n",
              "      <td>0</td>\n",
              "      <td>unknown</td>\n",
              "    </tr>\n",
              "    <tr>\n",
              "      <th>3309</th>\n",
              "      <td>28</td>\n",
              "      <td>technician</td>\n",
              "      <td>single</td>\n",
              "      <td>secondary</td>\n",
              "      <td>no</td>\n",
              "      <td>618</td>\n",
              "      <td>yes</td>\n",
              "      <td>no</td>\n",
              "      <td>cellular</td>\n",
              "      <td>7</td>\n",
              "      <td>may</td>\n",
              "      <td>281</td>\n",
              "      <td>1</td>\n",
              "      <td>-1</td>\n",
              "      <td>0</td>\n",
              "      <td>unknown</td>\n",
              "    </tr>\n",
              "    <tr>\n",
              "      <th>...</th>\n",
              "      <td>...</td>\n",
              "      <td>...</td>\n",
              "      <td>...</td>\n",
              "      <td>...</td>\n",
              "      <td>...</td>\n",
              "      <td>...</td>\n",
              "      <td>...</td>\n",
              "      <td>...</td>\n",
              "      <td>...</td>\n",
              "      <td>...</td>\n",
              "      <td>...</td>\n",
              "      <td>...</td>\n",
              "      <td>...</td>\n",
              "      <td>...</td>\n",
              "      <td>...</td>\n",
              "      <td>...</td>\n",
              "    </tr>\n",
              "    <tr>\n",
              "      <th>24114</th>\n",
              "      <td>38</td>\n",
              "      <td>admin.</td>\n",
              "      <td>single</td>\n",
              "      <td>secondary</td>\n",
              "      <td>no</td>\n",
              "      <td>2470</td>\n",
              "      <td>no</td>\n",
              "      <td>no</td>\n",
              "      <td>telephone</td>\n",
              "      <td>31</td>\n",
              "      <td>oct</td>\n",
              "      <td>227</td>\n",
              "      <td>1</td>\n",
              "      <td>-1</td>\n",
              "      <td>0</td>\n",
              "      <td>unknown</td>\n",
              "    </tr>\n",
              "    <tr>\n",
              "      <th>30367</th>\n",
              "      <td>60</td>\n",
              "      <td>retired</td>\n",
              "      <td>married</td>\n",
              "      <td>tertiary</td>\n",
              "      <td>no</td>\n",
              "      <td>6684</td>\n",
              "      <td>yes</td>\n",
              "      <td>yes</td>\n",
              "      <td>cellular</td>\n",
              "      <td>5</td>\n",
              "      <td>feb</td>\n",
              "      <td>173</td>\n",
              "      <td>1</td>\n",
              "      <td>-1</td>\n",
              "      <td>0</td>\n",
              "      <td>unknown</td>\n",
              "    </tr>\n",
              "    <tr>\n",
              "      <th>2909</th>\n",
              "      <td>39</td>\n",
              "      <td>admin.</td>\n",
              "      <td>married</td>\n",
              "      <td>secondary</td>\n",
              "      <td>no</td>\n",
              "      <td>406</td>\n",
              "      <td>no</td>\n",
              "      <td>no</td>\n",
              "      <td>cellular</td>\n",
              "      <td>30</td>\n",
              "      <td>jul</td>\n",
              "      <td>253</td>\n",
              "      <td>5</td>\n",
              "      <td>-1</td>\n",
              "      <td>0</td>\n",
              "      <td>unknown</td>\n",
              "    </tr>\n",
              "    <tr>\n",
              "      <th>17523</th>\n",
              "      <td>26</td>\n",
              "      <td>blue-collar</td>\n",
              "      <td>single</td>\n",
              "      <td>primary</td>\n",
              "      <td>yes</td>\n",
              "      <td>344</td>\n",
              "      <td>no</td>\n",
              "      <td>yes</td>\n",
              "      <td>cellular</td>\n",
              "      <td>29</td>\n",
              "      <td>jul</td>\n",
              "      <td>62</td>\n",
              "      <td>4</td>\n",
              "      <td>-1</td>\n",
              "      <td>0</td>\n",
              "      <td>unknown</td>\n",
              "    </tr>\n",
              "    <tr>\n",
              "      <th>4645</th>\n",
              "      <td>40</td>\n",
              "      <td>blue-collar</td>\n",
              "      <td>married</td>\n",
              "      <td>unknown</td>\n",
              "      <td>no</td>\n",
              "      <td>486</td>\n",
              "      <td>yes</td>\n",
              "      <td>no</td>\n",
              "      <td>unknown</td>\n",
              "      <td>20</td>\n",
              "      <td>may</td>\n",
              "      <td>97</td>\n",
              "      <td>8</td>\n",
              "      <td>-1</td>\n",
              "      <td>0</td>\n",
              "      <td>unknown</td>\n",
              "    </tr>\n",
              "  </tbody>\n",
              "</table>\n",
              "<p>9947 rows × 16 columns</p>\n",
              "</div>\n",
              "      <button class=\"colab-df-convert\" onclick=\"convertToInteractive('df-7f3071cc-8fd4-4f54-9299-b1dce8f97b3b')\"\n",
              "              title=\"Convert this dataframe to an interactive table.\"\n",
              "              style=\"display:none;\">\n",
              "        \n",
              "  <svg xmlns=\"http://www.w3.org/2000/svg\" height=\"24px\"viewBox=\"0 0 24 24\"\n",
              "       width=\"24px\">\n",
              "    <path d=\"M0 0h24v24H0V0z\" fill=\"none\"/>\n",
              "    <path d=\"M18.56 5.44l.94 2.06.94-2.06 2.06-.94-2.06-.94-.94-2.06-.94 2.06-2.06.94zm-11 1L8.5 8.5l.94-2.06 2.06-.94-2.06-.94L8.5 2.5l-.94 2.06-2.06.94zm10 10l.94 2.06.94-2.06 2.06-.94-2.06-.94-.94-2.06-.94 2.06-2.06.94z\"/><path d=\"M17.41 7.96l-1.37-1.37c-.4-.4-.92-.59-1.43-.59-.52 0-1.04.2-1.43.59L10.3 9.45l-7.72 7.72c-.78.78-.78 2.05 0 2.83L4 21.41c.39.39.9.59 1.41.59.51 0 1.02-.2 1.41-.59l7.78-7.78 2.81-2.81c.8-.78.8-2.07 0-2.86zM5.41 20L4 18.59l7.72-7.72 1.47 1.35L5.41 20z\"/>\n",
              "  </svg>\n",
              "      </button>\n",
              "      \n",
              "  <style>\n",
              "    .colab-df-container {\n",
              "      display:flex;\n",
              "      flex-wrap:wrap;\n",
              "      gap: 12px;\n",
              "    }\n",
              "\n",
              "    .colab-df-convert {\n",
              "      background-color: #E8F0FE;\n",
              "      border: none;\n",
              "      border-radius: 50%;\n",
              "      cursor: pointer;\n",
              "      display: none;\n",
              "      fill: #1967D2;\n",
              "      height: 32px;\n",
              "      padding: 0 0 0 0;\n",
              "      width: 32px;\n",
              "    }\n",
              "\n",
              "    .colab-df-convert:hover {\n",
              "      background-color: #E2EBFA;\n",
              "      box-shadow: 0px 1px 2px rgba(60, 64, 67, 0.3), 0px 1px 3px 1px rgba(60, 64, 67, 0.15);\n",
              "      fill: #174EA6;\n",
              "    }\n",
              "\n",
              "    [theme=dark] .colab-df-convert {\n",
              "      background-color: #3B4455;\n",
              "      fill: #D2E3FC;\n",
              "    }\n",
              "\n",
              "    [theme=dark] .colab-df-convert:hover {\n",
              "      background-color: #434B5C;\n",
              "      box-shadow: 0px 1px 3px 1px rgba(0, 0, 0, 0.15);\n",
              "      filter: drop-shadow(0px 1px 2px rgba(0, 0, 0, 0.3));\n",
              "      fill: #FFFFFF;\n",
              "    }\n",
              "  </style>\n",
              "\n",
              "      <script>\n",
              "        const buttonEl =\n",
              "          document.querySelector('#df-7f3071cc-8fd4-4f54-9299-b1dce8f97b3b button.colab-df-convert');\n",
              "        buttonEl.style.display =\n",
              "          google.colab.kernel.accessAllowed ? 'block' : 'none';\n",
              "\n",
              "        async function convertToInteractive(key) {\n",
              "          const element = document.querySelector('#df-7f3071cc-8fd4-4f54-9299-b1dce8f97b3b');\n",
              "          const dataTable =\n",
              "            await google.colab.kernel.invokeFunction('convertToInteractive',\n",
              "                                                     [key], {});\n",
              "          if (!dataTable) return;\n",
              "\n",
              "          const docLinkHtml = 'Like what you see? Visit the ' +\n",
              "            '<a target=\"_blank\" href=https://colab.research.google.com/notebooks/data_table.ipynb>data table notebook</a>'\n",
              "            + ' to learn more about interactive tables.';\n",
              "          element.innerHTML = '';\n",
              "          dataTable['output_type'] = 'display_data';\n",
              "          await google.colab.output.renderOutput(dataTable, element);\n",
              "          const docLink = document.createElement('div');\n",
              "          docLink.innerHTML = docLinkHtml;\n",
              "          element.appendChild(docLink);\n",
              "        }\n",
              "      </script>\n",
              "    </div>\n",
              "  </div>\n",
              "  "
            ]
          },
          "metadata": {}
        }
      ]
    },
    {
      "cell_type": "markdown",
      "source": [
        "Quitamos la columna \"poutcome\" y convertimos los meses a valores enteros.\n",
        "Además pasamos las etiquetas a valor -1 y 1."
      ],
      "metadata": {
        "id": "im84n56tJBMc"
      }
    },
    {
      "cell_type": "code",
      "source": [
        "# test.drop(\"poutcome\",axis=1,inplace=True)\n",
        "test['month'] = test['month'].str.lower().map(lambda m: lower_ma.index(m)).astype('Int8')\n",
        "ytest = ytest.map({'no':-1,'yes':1})"
      ],
      "metadata": {
        "id": "sjlqO4jKGPYC"
      },
      "execution_count": 283,
      "outputs": []
    },
    {
      "cell_type": "markdown",
      "source": [
        "Imputamos los datos faltantes. OJO, aquí la diferencia recae en que utilizamos la función \".transform\" y no \".fit_transform\". Básicamente lo que eso indica es que utilize la moda aprendida del conjunto de entreno y la utilize aquí también."
      ],
      "metadata": {
        "id": "ldHIddWQJIWA"
      }
    },
    {
      "cell_type": "code",
      "source": [
        "test.job = job_imputer.transform(test[\"job\"].values.reshape(-1,1))\n",
        "test.education = edu_imputer.transform(test[\"education\"].values.reshape(-1,1))"
      ],
      "metadata": {
        "id": "3PPDpFx9Im4s"
      },
      "execution_count": 284,
      "outputs": []
    },
    {
      "cell_type": "markdown",
      "source": [
        "Aquí lo mismo, utilizamos \".transform\" para indicar que las transformaciones deben realizarse seguiendo la media y varianza del conjunto de entreno. Así evitamos contaminar los datos y afectar lo aprendido, ya que si aprendimos sobre ciertas condiciones y distribuciones, deberíamos normalizar los nuevos datos a la misma para obtener el funcionamiento real. "
      ],
      "metadata": {
        "id": "Txt44TJTJTeK"
      }
    },
    {
      "cell_type": "code",
      "source": [
        "tScltransformed = scaler.transform(test)\n",
        "cols = scaler.get_feature_names_out()\n",
        "for i,col in enumerate(cols): \n",
        "  cols[i] = col[col.find(\"_\")+2:]\n",
        "tTest = pd.DataFrame(data=tScltransformed,columns=cols)"
      ],
      "metadata": {
        "id": "KaLE4IAtGABK"
      },
      "execution_count": 285,
      "outputs": []
    },
    {
      "cell_type": "code",
      "source": [
        "tOhetransformed = OneHotEncodingColumns.transform(tTest)\n",
        "cols = OneHotEncodingColumns.get_feature_names_out()\n",
        "for i,col in enumerate(cols): \n",
        "  cols[i] = col[col.find(\"_\")+2:]\n",
        "tTest = pd.DataFrame(data=tOhetransformed,columns=cols)"
      ],
      "metadata": {
        "id": "gJ8XpxvRFcEH"
      },
      "execution_count": 286,
      "outputs": []
    },
    {
      "cell_type": "code",
      "source": [
        "tTest.day = tTest.day.values.astype(float)\n",
        "tTest.month = tTest.month.values.astype(float)\n",
        "tCctransformed = cyclic_cossin_transformer.transform(tTest)\n",
        "cols = np.delete(cols,-1) \n",
        "cols = np.delete(cols,-1) \n",
        "cols = np.insert(cols,0,[\"day-sin\",\"day-cos\",\"month-sin\",\"month-cos\"])\n",
        "tTest = pd.DataFrame(data=tCctransformed,columns=cols)"
      ],
      "metadata": {
        "id": "P-UXRuGLF3ec"
      },
      "execution_count": 287,
      "outputs": []
    },
    {
      "cell_type": "markdown",
      "source": [
        "Ahora que tenemos el conjunto de test que necesitamos para verificar el comportamiento de todos los modelos, podemos por ejemplo analizar el funcionamiento de regresión logística sobre ese conjunto de datos. "
      ],
      "metadata": {
        "id": "tC5eHc5tJnNj"
      }
    },
    {
      "cell_type": "markdown",
      "source": [
        "# Discusión de Modelos "
      ],
      "metadata": {
        "id": "6s8E1STra4Vl"
      }
    },
    {
      "cell_type": "markdown",
      "source": [
        "Como hemos introducido al principio de este documento, estudiaremos modelos lineales sobre este conjunto de datos. Para evitar tener que implementar-los yo y tener una múltitud de fallos, nos ayudaremos de la librería sklearn como hemos estado haciendo. \n",
        "\n",
        "Según la página de [modelos lineales](https://scikit-learn.org/stable/modules/linear_model.html) tenemos una multitud de métodos con los que experimentar, para este ejercicio utilizaré los métodos visto en clase como la regresión logística, también emplearé el perceptron, luego utilizaré el RidgeClassifier y el SGDClassifier. (todos modelos lineales).  "
      ],
      "metadata": {
        "id": "5_wGhobsbBX5"
      }
    },
    {
      "cell_type": "markdown",
      "source": [
        "## Regresión logística"
      ],
      "metadata": {
        "id": "vkh9G_Mg349A"
      }
    },
    {
      "cell_type": "markdown",
      "source": [
        "### Introducción teórica y sobre hiperparámetros."
      ],
      "metadata": {
        "id": "XhOdCntPNZlJ"
      }
    },
    {
      "cell_type": "markdown",
      "source": [
        "[Aquí](https://scikit-learn.org/stable/modules/generated/sklearn.linear_model.LogisticRegression.html) Podemos verificar los parámetros del modelo y como utilizar-lo. Lo principal que necesitamos saber es que utiliza regularización L2 por defecto, que es la que utilizaré entre todos los modelos ya que creo que nuestro conjunto de datos tampoco es que tenga tantos parámetros.\n",
        "\n",
        "La diferencia entre L1 y L2 es que L2 utiliza como restricción de regularización que la suma del cuadrado de los pesos sea menor que un valor. Y L1 utiliza la suma del valor absoluto de los pesos. La segunda termina forzando a que algunos pesos se vayan a cero reduciendo la complejidad del problema, pero como tampoco tenemos muchos atributos, no necesitamos una solución más pequeña, si no que preferimos obtener mejores resultados, utilizaré L2.\n",
        "\n",
        "Además tenemos que especificar la \"fuerza\" de la regularización, para ello tiene un parámetro \"C\" que por defecto está a 1. Nosotros probaremos una escala desde 0.1 a 1 de longitud 5. Las demás características la dejaremos por defecto, como lo es el \"solver\" que utiliza, el criterio de parada \"tol\" y entre otros.  \n",
        "\n",
        "La métrica del error que vamos a utilizar son varias, pero la idea es maximizar la curva ROC ya que el objetivo es obtener el mejor número de aciertos respecto a los clientes que realmente van a realizar un depósito. \n",
        "\n",
        "De teoría sabemos que la función de pérdida que utiliza la regresión logística es que tendremos una función $ \\sigma (f(x)) = \\frac{1}{1+e^{-f(x)}}$ \n",
        "y además  \n",
        "$\\sigma (f(x_i)) = \\begin{cases} \\ge 0.5 & y_i = +1 \\\\ < 0.5 & y_i = -1 \\end{cases} $ \n",
        "\n",
        "La salida está acotada entre 0 y 1, se interpreta en términos probabilísticos.\n",
        "La transformación del gradiente sale de tomar $\\frac{-1}{N}ln(\\cdot)$ de $L_s(h)$, la máxima verosimilitud de la función. Este sería:\n",
        "$ \\nabla E_{in} = \\frac{-1}{N}\\sum_{n=1}^{N}\\frac{y_nx_n}{1+e^{y_nw^t(t)x_n}}$\n"
      ],
      "metadata": {
        "id": "wWUYSi3M5et1"
      }
    },
    {
      "cell_type": "markdown",
      "source": [
        "#### Función de sklearn para printear resultados"
      ],
      "metadata": {
        "id": "FCVSdgb2Aus6"
      }
    },
    {
      "cell_type": "code",
      "source": [
        "def report(results, key,top, n_top=3):\n",
        "    for i in range(1, n_top + 1):\n",
        "      candidates = np.flatnonzero(results[\"rank_test_\"+top] == i )\n",
        "      for candidate in candidates: \n",
        "        print(\"Model with rank: {0}\".format(results[\"rank_test_\"+key][candidate]))\n",
        "        print(\n",
        "            \"Mean \" + key + \" score: {0:.3f} (std: {1:.3f})\".format(\n",
        "                results[\"mean_test_\"+key][candidate],\n",
        "                results[\"std_test_\"+key][candidate],\n",
        "            )\n",
        "        )\n",
        "        print(\"Parameters: {0}\".format(results[\"params\"][candidate]))\n",
        "        print(\"\")"
      ],
      "metadata": {
        "id": "0KbkF2p38Jui"
      },
      "execution_count": 288,
      "outputs": []
    },
    {
      "cell_type": "markdown",
      "source": [
        "### Implementación del modelo LR"
      ],
      "metadata": {
        "id": "zR1mcAZ6AzZP"
      }
    },
    {
      "cell_type": "markdown",
      "source": [
        "Como hemos dicho, vamos a utilizar la validación cruzada para medir el rendimiento de nuestros modelos y elegir hiperparámetros. La validación cruzada consiste en sobre el conjunto de entrenamiento dividir el conjunto en dos subconjuntos, uno utilizado para entrenar y el otro para validar.\n",
        "\n",
        "Además, ese conjunto no es estático. Es decir, vamos ir cambiando el conjunto de validación - entreno K veces. Imaginese como si cogemos los últimos 20%, y luego vamos desplazando ese 20% hacía el 0% tal que primeramente tengamos (0,80%) de entreno, luego (0-60%,80-100%), luego (0-40%,60-100%) y así....\n",
        "\n",
        "La razón por la cual utilizamos la validación cruzada es por la necesidad de ir estimando el comportamiento de nuestro modelo sobre distintas distribuciones de datos \"fuera de la muestra\", dónde además entrenamos sobre distintas distribuciones a la vez. Según estudiado en teoría, la validación cruzada es un buen estimador del comportamiento del modelo fuera de la muestra. \n",
        "\n",
        "Para obtener los resultados, cogeremos la media de los valores obtenidos en validación."
      ],
      "metadata": {
        "id": "BVDCc1a1Eijz"
      }
    },
    {
      "cell_type": "code",
      "source": [
        "from sklearn.linear_model import LogisticRegression\n",
        "from sklearn.model_selection import cross_val_score\n",
        "from sklearn.model_selection import GridSearchCV\n",
        "\n",
        "lrm = LogisticRegression(random_state=0)\n",
        "Cs = np.linspace(0.1,2,10)\n",
        "scoring = {\"AUC\":\"roc_auc\",\"Accuracy\":\"accuracy\",\"Precision\":\"precision\",\"F1\":\"f1\"}\n",
        "Lr_parameters = {'C':Cs}\n",
        "cv = 5\n",
        "# cv = número de folds, scoring -> métrica. parameters -> parámetros a probar.\n",
        "lr_clf = GridSearchCV(\n",
        "    lrm,\n",
        "    Lr_parameters,\n",
        "    cv=cv,\n",
        "    scoring=scoring,\n",
        "    refit=\"AUC\",\n",
        "    # return_train_score=True,\n",
        "    n_jobs=2,\n",
        ") \n",
        "#scores = cross_val_score(lrm,tdata,ydata,scoring='accuracy',cv=5)\n",
        "lr_clf.fit(tdata,ydata)\n",
        "lr_results = lr_clf.cv_results_"
      ],
      "metadata": {
        "id": "vHp7F0rP34Mr"
      },
      "execution_count": 289,
      "outputs": []
    },
    {
      "cell_type": "code",
      "source": [
        "def printMetrics(results,top):\n",
        "  for key in results.keys():\n",
        "    index = key.find('test')\n",
        "    if index>0 and key.find('split0')>=0 and key.find('mean')<0 and key.find('std')<0 and key.find('rank')<0:\n",
        "      report(results,key[index+5:],top,n_top=1)\n",
        "printMetrics(lr_results,\"AUC\")"
      ],
      "metadata": {
        "colab": {
          "base_uri": "https://localhost:8080/"
        },
        "id": "bRcpKwJmrTNy",
        "outputId": "5d0f5be8-acdc-46e4-9972-7a62aea2f1c3"
      },
      "execution_count": 290,
      "outputs": [
        {
          "output_type": "stream",
          "name": "stdout",
          "text": [
            "Model with rank: 1\n",
            "Mean AUC score: 0.749 (std: 0.010)\n",
            "Parameters: {'C': 0.1}\n",
            "\n",
            "Model with rank: 9\n",
            "Mean Accuracy score: 0.892 (std: 0.002)\n",
            "Parameters: {'C': 0.1}\n",
            "\n",
            "Model with rank: 1\n",
            "Mean Precision score: 0.675 (std: 0.030)\n",
            "Parameters: {'C': 0.1}\n",
            "\n",
            "Model with rank: 10\n",
            "Mean F1 score: 0.266 (std: 0.019)\n",
            "Parameters: {'C': 0.1}\n",
            "\n"
          ]
        }
      ]
    },
    {
      "cell_type": "markdown",
      "source": [
        "Al haber priorizado ROC vemos que también obtuvimos el modelo con mejor precisión para el mismo hiperparámetro, por lo que las cosas aparentan ir bien incluso cuando nuestro modelo pierde en las otras dos métricas.\n",
        "\n",
        "Ya que estamos utilizando métricas que, tanto ROC como la precisión, lidian con el desequilibrio de clases cuando queremos acertar aquello que menos presente esta.\n",
        "\n",
        "También habría que verificar si el rango realmente cambia, ya que igual nos indica que se obtuvo una mejor media con otro hiperparámetro cuando el resultado puede ser el mismo: "
      ],
      "metadata": {
        "id": "QQCXCVY3uw_5"
      }
    },
    {
      "cell_type": "code",
      "source": [
        "report(lr_results,\"F1\",\"F1\",n_top=3)"
      ],
      "metadata": {
        "colab": {
          "base_uri": "https://localhost:8080/"
        },
        "id": "HZ7X8vfmvggi",
        "outputId": "61b93f9b-0689-43dc-d283-7ff13060fb12"
      },
      "execution_count": 291,
      "outputs": [
        {
          "output_type": "stream",
          "name": "stdout",
          "text": [
            "Model with rank: 1\n",
            "Mean F1 score: 0.270 (std: 0.018)\n",
            "Parameters: {'C': 1.788888888888889}\n",
            "\n",
            "Model with rank: 1\n",
            "Mean F1 score: 0.270 (std: 0.018)\n",
            "Parameters: {'C': 2.0}\n",
            "\n",
            "Model with rank: 3\n",
            "Mean F1 score: 0.269 (std: 0.018)\n",
            "Parameters: {'C': 1.1555555555555557}\n",
            "\n",
            "Model with rank: 3\n",
            "Mean F1 score: 0.269 (std: 0.018)\n",
            "Parameters: {'C': 1.3666666666666667}\n",
            "\n"
          ]
        }
      ]
    },
    {
      "cell_type": "markdown",
      "source": [
        "Vemos que la diferencia entre rangos es mínima al parecer, de esta manera asumo que el mejor valor para el hiperparámetro C es 0.1. Y ese será nuestro modelo final para regresión logística. "
      ],
      "metadata": {
        "id": "fkNOZZVdv1zd"
      }
    },
    {
      "cell_type": "markdown",
      "source": [
        "### Estimador aleatorio y su comportamiento "
      ],
      "metadata": {
        "id": "0lMfZtCpKaqt"
      }
    },
    {
      "cell_type": "markdown",
      "source": [
        "Para ello, como utilizo muchas funcionalidades de la librería sklearn, he sacado una sonrisa cuando leyendo la documentación me deparé con el hecho de posee ya implementado una función para ello, que predice de forma [aleatoria](https://scikit-learn.org/stable/modules/generated/sklearn.dummy.DummyClassifier.html):"
      ],
      "metadata": {
        "id": "iIKu6pFzKi3M"
      }
    },
    {
      "cell_type": "code",
      "source": [
        "from sklearn.dummy import DummyClassifier\n",
        "from sklearn.model_selection import cross_validate\n",
        "import warnings\n",
        "warnings.filterwarnings('ignore')\n",
        "dummy_clf = DummyClassifier(strategy=\"most_frequent\")\n",
        "cv_results = cross_validate(dummy_clf,tdata,ydata,cv=cv,scoring=scoring)"
      ],
      "metadata": {
        "id": "sF2GTWCAKdeQ"
      },
      "execution_count": 292,
      "outputs": []
    },
    {
      "cell_type": "code",
      "source": [
        "display(cv_results)"
      ],
      "metadata": {
        "colab": {
          "base_uri": "https://localhost:8080/",
          "height": 121
        },
        "id": "EVua4MzgyCd7",
        "outputId": "8fa8f03b-91de-4b94-8aa7-0d544959c87e"
      },
      "execution_count": 293,
      "outputs": [
        {
          "output_type": "display_data",
          "data": {
            "text/plain": [
              "{'fit_time': array([0.05776525, 0.03750491, 0.0380969 , 0.0377996 , 0.03772616]),\n",
              " 'score_time': array([0.01034117, 0.0103662 , 0.01870823, 0.00982332, 0.00988936]),\n",
              " 'test_AUC': array([0.5, 0.5, 0.5, 0.5, 0.5]),\n",
              " 'test_Accuracy': array([0.88236863, 0.88236863, 0.88236863, 0.88235294, 0.88235294]),\n",
              " 'test_F1': array([0., 0., 0., 0., 0.]),\n",
              " 'test_Precision': array([0., 0., 0., 0., 0.])}"
            ]
          },
          "metadata": {}
        }
      ]
    },
    {
      "cell_type": "markdown",
      "source": [
        "Vemos claramente que nuestro AUC es del 50%, que corresponde a básicamente tirar una moneda al aire al predecir. Ese valor es bastante elevado para el método de coger la etiqueta más frecuente debido a la distribución de los datos. Pero como vemos para los valores....\n",
        "\n",
        "Se acerca mucho a la accuracy de regresión logística, el problema es que \n",
        "la idea de este problema es identificar los casos positivos, no los negativos. \n",
        "\n",
        "Así que a priori, nuestro modelo anterior mejora las predicciones con el conjunto de entreno que disponemos."
      ],
      "metadata": {
        "id": "9GdggxfZQmz6"
      }
    },
    {
      "cell_type": "markdown",
      "source": [
        "Un \"rule of thumb\" es que un clasificador es considerado malo si tiene un AuC menor del 70-75%. Como vemos estamos rondando el 50%. Hay un diferencia tremenda respecto a nuestro modelo de regresión logística. No cumplimos con el objetivo de decir cuando un cliente aceptaría, sin embargo, con el modelo anterior muchas veces acertabamos. \n",
        "\n",
        "Aquí se nota claramente la diferencia en calidad entre los modelos."
      ],
      "metadata": {
        "id": "pZmAKR8CLmcC"
      }
    },
    {
      "cell_type": "markdown",
      "source": [
        "## Perceptrón"
      ],
      "metadata": {
        "id": "4PHwr00HIhOh"
      }
    },
    {
      "cell_type": "markdown",
      "source": [
        "### Introducción Teórica PLA"
      ],
      "metadata": {
        "id": "jjheDid5tqL-"
      }
    },
    {
      "cell_type": "markdown",
      "source": [
        "El perceptrón también lo estudiamos en la práctica anterior.\n",
        "\n",
        "El perceptron en aprendizaje automático es un algoritmo de aprendizaje supervisado de clasificación binaria. El clasificador nos indica a traves de una función si unos datos de entrada pertenecen o no a una clase.  En un sentido moderno el perceptron es un algoritmo denominado de \"funcion de umbral\" que mapea los valores reales \"x\" en valores binarios como sigue:\n",
        "$f(x) = \\begin{cases} 1 & if \\; w\\cdot x + b > 0, \\\\ 0 & otherwise \\end{cases}$\n",
        "\n",
        "El algoritmo del perceptron no termina si el conjunto de datos de entrenamiento no es linealmente separable. Lo que haremos aquí es imponer el parámetro de \"EarlyStopping\" de sklearn que verifica si nuestro modelo está mejorando sobre el conjunto de validación y básicamente simular el algoritmo Pocket-PLA.\n",
        "\n",
        "El proceso de aprendizaje ocurre cuando nos equivocamos, en ese caso lo que haremos es \"mover\" la recta que delimita las clases tal que acierte para el punto equivocado. $ w = w + yx \\; if \\; h(x)!=f(x) $ "
      ],
      "metadata": {
        "id": "Ifm9H9ljIyeR"
      }
    },
    {
      "cell_type": "markdown",
      "source": [
        "### Implementación PLA"
      ],
      "metadata": {
        "id": "5Sar5kKCNr_s"
      }
    },
    {
      "cell_type": "markdown",
      "source": [
        "Aplicaremos la misma regularización para que la comparación entre los algoritmos sean equivalente. A diferencia de la regresión logística, aquí tenemos que especificar una constante $\\alpha$ que multiplica el término de la regularización, experimentaremos con esos valores a igual que en el anterior."
      ],
      "metadata": {
        "id": "v33FpHTTVcdb"
      }
    },
    {
      "cell_type": "code",
      "source": [
        "from sklearn.linear_model import Perceptron\n",
        "\n",
        "pla = Perceptron(penalty='l2',early_stopping=True,random_state=0)\n",
        "alphas = np.linspace(0.0001,1,10)\n",
        "Pla_parameters = {'alpha':alphas}\n",
        "# cv = número de folds, scoring -> métrica. parameters -> parámetros a probar.\n",
        "scoring = {\"AUC\":\"roc_auc\",\"Accuracy\":\"accuracy\",\"Precision\":\"precision\",\"F1\":\"f1\"}\n",
        "cv = 5\n",
        "# cv = número de folds, scoring -> métrica. parameters -> parámetros a probar.\n",
        "pla_clf = GridSearchCV(\n",
        "    pla,\n",
        "    Pla_parameters,\n",
        "    cv=cv,\n",
        "    scoring=scoring,\n",
        "    refit=\"AUC\",\n",
        "    # return_train_score=True,\n",
        "    n_jobs=2,\n",
        ") \n",
        "#scores = cross_val_score(lrm,tdata,ydata,scoring='accuracy',cv=5)\n",
        "pla_clf.fit(tdata,ydata)"
      ],
      "metadata": {
        "colab": {
          "base_uri": "https://localhost:8080/"
        },
        "id": "4h2Rk0YIN2Jx",
        "outputId": "a388d41c-266d-45e1-e721-6ef04b0a0adb"
      },
      "execution_count": 294,
      "outputs": [
        {
          "output_type": "execute_result",
          "data": {
            "text/plain": [
              "GridSearchCV(cv=5, estimator=Perceptron(early_stopping=True, penalty='l2'),\n",
              "             n_jobs=2,\n",
              "             param_grid={'alpha': array([1.000e-04, 1.112e-01, 2.223e-01, 3.334e-01, 4.445e-01, 5.556e-01,\n",
              "       6.667e-01, 7.778e-01, 8.889e-01, 1.000e+00])},\n",
              "             refit='AUC',\n",
              "             scoring={'AUC': 'roc_auc', 'Accuracy': 'accuracy', 'F1': 'f1',\n",
              "                      'Precision': 'precision'})"
            ]
          },
          "metadata": {},
          "execution_count": 294
        }
      ]
    },
    {
      "cell_type": "code",
      "source": [
        "printMetrics(pla_clf.cv_results_,\"AUC\")"
      ],
      "metadata": {
        "colab": {
          "base_uri": "https://localhost:8080/"
        },
        "id": "LSFhk6YjX3nz",
        "outputId": "82b96b8f-1283-4c1b-8a50-3f8651fb6593"
      },
      "execution_count": 295,
      "outputs": [
        {
          "output_type": "stream",
          "name": "stdout",
          "text": [
            "Model with rank: 1\n",
            "Mean AUC score: 0.585 (std: 0.047)\n",
            "Parameters: {'alpha': 0.0001}\n",
            "\n",
            "Model with rank: 8\n",
            "Mean Accuracy score: 0.842 (std: 0.033)\n",
            "Parameters: {'alpha': 0.0001}\n",
            "\n",
            "Model with rank: 1\n",
            "Mean Precision score: 0.255 (std: 0.033)\n",
            "Parameters: {'alpha': 0.0001}\n",
            "\n",
            "Model with rank: 1\n",
            "Mean F1 score: 0.166 (std: 0.079)\n",
            "Parameters: {'alpha': 0.0001}\n",
            "\n"
          ]
        }
      ]
    },
    {
      "cell_type": "markdown",
      "source": [
        "Por casualidad hemos obtenido las mejores métricas posibles con el mismo hiperparámetro. Pero...\n",
        "A priori aparenta que con el simple modelo del perceptrón no hemos sido capaces de extrapolar hacia los casos positivos, ya que la tasa de clasificación obtenida por el modelo es similar al caso base de simplesmente elegir la moda. Eso otra vez puede ser debido al desequilibrio de etiquetas. \n",
        "\n",
        "Además, como no se implementa la variación pocket no podemos determinar si este es realmente el mejor modelo que podríamos obtener con PLA pero si el que recibimos tras ejecutar nuestro modelo sobre el conjunto de datos. "
      ],
      "metadata": {
        "id": "EjsMiJSpYIQE"
      }
    },
    {
      "cell_type": "markdown",
      "source": [
        "## Ridge Classifier"
      ],
      "metadata": {
        "id": "q_w7Iu0jf97N"
      }
    },
    {
      "cell_type": "markdown",
      "source": [
        "Este modelo no lo hemos estudiado en clase pero quisiera experimentar y ver el comportamiento de otros modelos lineales, verificar si alguno podría mejores los resultados dada la situación de los datos.\n",
        "\n",
        "Según he entendido leyendo la documentación oficial y un [post](https://stackoverflow.com/questions/53911663/what-does-sklearn-ridgeclassifier-do), este es un método de regresión lineal adaptado para clasificar.\n",
        "\n",
        "La idea es convertir las etiquetas en valores -1 y 1, que ya es el caso, y luego lo que hace es construir un modelo Ridge() sobre el conjunto de datos y utilizar una función para calcular los signos de los puntos obtenidos por la regresión. La función de pérdida del modelo es MSE (Mean-squared-error) + l2 penalty. Es decir, utiliza el error cuadrático medio y la regularización l2 que hemos estado analizando.\n",
        "\n",
        "$MSE = \\frac{1}{N}\\times\\sum_{t=1}^N(y_i-f_i)^2= \\frac{SSE}{N}$ Dónde SSE = suma de los errores cuadráticos. \n",
        "\n",
        "¿Cómo funciona [Ridge](https://www.youtube.com/watch?v=qC2UCjKRyZM)?"
      ],
      "metadata": {
        "id": "LLiLrp_pgsuz"
      }
    },
    {
      "cell_type": "markdown",
      "source": [
        "### Implementación Ridge"
      ],
      "metadata": {
        "id": "nxxaBC8tmNUV"
      }
    },
    {
      "cell_type": "code",
      "source": [
        "from sklearn.linear_model import RidgeClassifier\n",
        "\n",
        "ridCla = RidgeClassifier()\n",
        "# alphas = np.linspace(0.0001,1,10)\n",
        "alphas = [0,0.0001,0.001,0.01,0.1,1]\n",
        "Rid_parameters = {'alpha':alphas}\n",
        "# cv = número de folds, scoring -> métrica. parameters -> parámetros a probar.\n",
        "scoring = {\"AUC\":\"roc_auc\",\"Accuracy\":\"accuracy\",\"Precision\":\"precision\",\"F1\":\"f1\"}\n",
        "# cv = número de folds, scoring -> métrica. parameters -> parámetros a probar.\n",
        "rid_clf = GridSearchCV(\n",
        "    ridCla,\n",
        "    Rid_parameters,\n",
        "    cv=cv,\n",
        "    scoring=scoring,\n",
        "    refit=\"AUC\",\n",
        "    # return_train_score=True,\n",
        "    n_jobs=2,\n",
        ") \n",
        "#scores = cross_val_score(lrm,tdata,ydata,scoring='accuracy',cv=5)\n",
        "rid_clf.fit(tdata,ydata)"
      ],
      "metadata": {
        "colab": {
          "base_uri": "https://localhost:8080/"
        },
        "id": "Q9aEaKsKmTmR",
        "outputId": "798286bb-e470-473f-f840-ad407caab75a"
      },
      "execution_count": 296,
      "outputs": [
        {
          "output_type": "execute_result",
          "data": {
            "text/plain": [
              "GridSearchCV(cv=5, estimator=RidgeClassifier(), n_jobs=2,\n",
              "             param_grid={'alpha': [0, 0.0001, 0.001, 0.01, 0.1, 1]},\n",
              "             refit='AUC',\n",
              "             scoring={'AUC': 'roc_auc', 'Accuracy': 'accuracy', 'F1': 'f1',\n",
              "                      'Precision': 'precision'})"
            ]
          },
          "metadata": {},
          "execution_count": 296
        }
      ]
    },
    {
      "cell_type": "code",
      "source": [
        "printMetrics(rid_clf.cv_results_,\"AUC\")"
      ],
      "metadata": {
        "colab": {
          "base_uri": "https://localhost:8080/"
        },
        "id": "l4BWRgC6m1DQ",
        "outputId": "c0344fb4-d2f6-45df-83b1-1c9ca45460c8"
      },
      "execution_count": 297,
      "outputs": [
        {
          "output_type": "stream",
          "name": "stdout",
          "text": [
            "Model with rank: 1\n",
            "Mean AUC score: 0.744 (std: 0.010)\n",
            "Parameters: {'alpha': 1}\n",
            "\n",
            "Model with rank: 2\n",
            "Mean Accuracy score: 0.893 (std: 0.002)\n",
            "Parameters: {'alpha': 1}\n",
            "\n",
            "Model with rank: 2\n",
            "Mean Precision score: 0.652 (std: 0.022)\n",
            "Parameters: {'alpha': 1}\n",
            "\n",
            "Model with rank: 1\n",
            "Mean F1 score: 0.289 (std: 0.021)\n",
            "Parameters: {'alpha': 1}\n",
            "\n"
          ]
        }
      ]
    },
    {
      "cell_type": "markdown",
      "source": [
        "Vemos claramente que este modelo es el superior en media respecto a todos los demás implementados anteriormente. Con el mismo hiperparámetro ha podido optimizar todas las métricas utilizadas.\n",
        "\n",
        "Pierde en AUC para regresión logística por pequeña diferencia, pero arrasa en las demás métricas. Por lo que este será el modelo elegido para verificar el comportamiento respecto el conjunto de test y el modelo cual entregaré hacia la empresa."
      ],
      "metadata": {
        "id": "m_MtFJI1zYCJ"
      }
    },
    {
      "cell_type": "markdown",
      "source": [
        "# Conclusión"
      ],
      "metadata": {
        "id": "gE7r78qer6x3"
      }
    },
    {
      "cell_type": "markdown",
      "source": [
        "De entre todos los modelos, vemos que tienen comportamientos distintos, el que mejor cumple con nuestro objetivo de saber cuando un cliente depositará en nuestro banco es el modelo de clasificación Ridge, seguido muy de cerca por el modelo de regresión.\n",
        "\n",
        "La diferencia está en las diferencias entre los ratios de \"falso positivo\" y \"positivo verdadero\". Ya que queremos reducir los \"falsos positivos\" y estimar correctamente los verdaderos. \n",
        "\n",
        "A la hora de entregar este modelo a la empresa para que realize sus determinadas pruebas, lo que haría sería entrenar-lo sobre todos los datos que poseo, aunque dudo que cambie algo por la distribución de datos comentada anteriormente. "
      ],
      "metadata": {
        "id": "5jNEulV5vDIk"
      }
    },
    {
      "cell_type": "code",
      "source": [
        "final_model = RidgeClassifier(alpha=1)\n",
        "final_model.fit(tdata,ydata)"
      ],
      "metadata": {
        "colab": {
          "base_uri": "https://localhost:8080/"
        },
        "id": "4RoazgKW0ToR",
        "outputId": "33218aa3-fe7f-43a2-c1fb-afba0eed11ea"
      },
      "execution_count": 298,
      "outputs": [
        {
          "output_type": "execute_result",
          "data": {
            "text/plain": [
              "RidgeClassifier(alpha=1)"
            ]
          },
          "metadata": {},
          "execution_count": 298
        }
      ]
    },
    {
      "cell_type": "code",
      "source": [
        "print(\"### Coeficientes finales obtenidos ###\")\n",
        "print(final_model.coef_[0])\n",
        "print(\"######################################\")"
      ],
      "metadata": {
        "colab": {
          "base_uri": "https://localhost:8080/"
        },
        "id": "docripDP0tF6",
        "outputId": "31ab5b25-2876-427b-d3a1-ebd1e4a8a14e"
      },
      "execution_count": 299,
      "outputs": [
        {
          "output_type": "stream",
          "name": "stdout",
          "text": [
            "### Coeficientes finales obtenidos ###\n",
            "[ 3.77298503e-03  9.55423914e-03  4.82010294e-02 -7.62767441e-03\n",
            " -1.65203081e-02 -3.36829580e-02 -4.69575615e-02 -5.62092347e-02\n",
            " -2.65966166e-02  1.18069944e-01 -4.87039363e-02 -3.20386780e-02\n",
            "  1.66916783e-01 -3.61183142e-02  1.18408801e-02  3.86400732e-03\n",
            " -2.98001445e-02  2.59361372e-02 -2.99733301e-02 -6.62781427e-03\n",
            "  3.66011444e-02 -4.12153292e-05  4.12153292e-05  6.03725800e-02\n",
            " -6.03725800e-02  3.51787907e-02 -3.51787907e-02  5.95697599e-02\n",
            "  2.94498371e-02 -8.90195970e-02 -2.57073588e-01 -1.93425545e-01\n",
            "  7.12656734e-01 -2.62157601e-01  1.45346476e-03  2.85385983e-02\n",
            " -2.91959292e-02  1.64520933e-02 -6.74316694e-03]\n",
            "######################################\n"
          ]
        }
      ]
    },
    {
      "cell_type": "markdown",
      "source": [
        "Este análisis ha sido posible dado que teníamos una definición clara de los conjuntos de datos disponibles, entre enternamiento y test. Si no lo tuvieramos tendríamos que analizar si disponemos de suficientes datos para realizar la división teniendo en cuenta que un conjunto de test pequeño implica una cota menos fiable pero cuanto mayor menos datos tenemos para entrenar. \n",
        "\n",
        "Mientras que si no dividimos tendríamos que estimar la cota fuera de la muestra utilizando la media de los errores obtenidos en el conjunto de valiación de validación cruzada.\n",
        "\n",
        "Ya que si entrenamos y validamos sobre el mismo conjunto de datos no tendríamos una cota real sobre el rendimiento de nuestro modelo fuera de la muestra. \n",
        "\n",
        "Veremos ahora el comportamiento del modelo fuera de la muestra:"
      ],
      "metadata": {
        "id": "NfP35Dmo9u-t"
      }
    },
    {
      "cell_type": "markdown",
      "source": [
        "## Estudio del Comportamiento Ridge"
      ],
      "metadata": {
        "id": "C8FSOOKlnOTo"
      }
    },
    {
      "cell_type": "markdown",
      "source": [
        "### Resultados Finales Ridge"
      ],
      "metadata": {
        "id": "Isang-F7nGlS"
      }
    },
    {
      "cell_type": "markdown",
      "source": [
        "#### Matriz Confusa Ridge"
      ],
      "metadata": {
        "id": "DrztrZrgnKIC"
      }
    },
    {
      "cell_type": "code",
      "source": [
        "from sklearn.metrics import ConfusionMatrixDisplay\n",
        "ConfusionMatrixDisplay.from_estimator(\n",
        "    rid_clf,tTest,ytest)\n",
        "plt.show()"
      ],
      "metadata": {
        "colab": {
          "base_uri": "https://localhost:8080/",
          "height": 54
        },
        "id": "kX2twqNSm16e",
        "outputId": "d011fdbd-4b2a-4ba5-c45f-48598f6af8e6"
      },
      "execution_count": 300,
      "outputs": [
        {
          "output_type": "display_data",
          "data": {
            "text/plain": [
              "<Figure size 842.4x595.44 with 2 Axes>"
            ],
            "image/png": "[encoded data removed]"
          },
          "metadata": {}
        }
      ]
    },
    {
      "cell_type": "markdown",
      "source": [
        "Vemos que tenemos muchos datos negativos acertados, pero sin embargo muchos datos positivos en los cuales fuimos incapaces de predicir correctamente el valor de la etiqueta.\n",
        "\n",
        "Pero aún así, con la distribución de datos desequilibrada al parecer hemos predecido un buen porcentaje de los pocos datos positivos que disponíamos.\n",
        "Una manera más clara de visualizarlo es através de la curva ROC."
      ],
      "metadata": {
        "id": "vVyBp2lLoZt_"
      }
    },
    {
      "cell_type": "markdown",
      "source": [
        "#### Roc Curve Ridge"
      ],
      "metadata": {
        "id": "CG2975sVnLxz"
      }
    },
    {
      "cell_type": "code",
      "source": [
        "from sklearn.metrics import RocCurveDisplay\n",
        "RocCurveDisplay.from_estimator(\n",
        "    rid_clf,tTest,ytest)\n",
        "plt.show()"
      ],
      "metadata": {
        "colab": {
          "base_uri": "https://localhost:8080/",
          "height": 54
        },
        "id": "K_MAJHK5m6Ni",
        "outputId": "8aeec914-8834-460d-b0d9-509bbdb924ce"
      },
      "execution_count": 301,
      "outputs": [
        {
          "output_type": "display_data",
          "data": {
            "text/plain": [
              "<Figure size 842.4x595.44 with 1 Axes>"
            ],
            "image/png": "[encoded data removed]"
          },
          "metadata": {}
        }
      ]
    },
    {
      "cell_type": "markdown",
      "source": [
        "Vemos que, seguiendo la regla de la mano definida anteriormente, nuestro modelo es apenas mediocre predeciendo las etiquetas fuera de la muestra. Yo, según lo estudiado en diversos cursos, rechazaría el modelo antes de sacarlo a producción, ya que la probabilidad de que se equivoqué y prejudique a la empresa es muy elevada.\n",
        "\n",
        "Pero vemos que el error obtenido se parece al esperado fuera de la muestra si calculamos la cota manualmente. Sin embargo es mejor que realizemos ese estudio visualmente através de las curvas de aprendizaje del modelo: "
      ],
      "metadata": {
        "id": "182KG3ago0uZ"
      }
    },
    {
      "cell_type": "markdown",
      "source": [
        "### Plot LC Ridge"
      ],
      "metadata": {
        "id": "ANvsDNhznRT_"
      }
    },
    {
      "cell_type": "markdown",
      "source": [
        "Según la página oficial de sklearn, disponemos de una función que calcula todo lo necesario para definir las curvas de aprendizaje. La función devolvería el tamaño del grupo de entreno, el tamaño del grupo de test y ambos con sus respectivas puntuaciones y la cantidad de veces que hemos probado entrenar.\n",
        "\n",
        "Sin embargo, al utilizar la función, me he dado cuenta de que se referían a las curvas de \"early-stopping\". Pero, ahora que poseo conocimiento sobre la función y como utilizar-la. Podemos añadir una métrica más a la hora de la toma de decisión sobre nuestro modelo. \n",
        "\n",
        "Con la función podemos definir otra función que nos dibuje fácilmente las curvas para poder analizar-las. Sin embargo, si miramos en los ejemplos que dispone sklearn, podemos encontrar una función definida que dibuja las curvas de aprendizaje [Plotting_LC](https://scikit-learn.org/stable/auto_examples/model_selection/plot_learning_curve.html#)"
      ],
      "metadata": {
        "id": "WR3iKGtt0Jjg"
      }
    },
    {
      "cell_type": "markdown",
      "source": [
        "##### Code LC"
      ],
      "metadata": {
        "id": "_TgZQJY849cN"
      }
    },
    {
      "cell_type": "code",
      "source": [
        "from sklearn.model_selection import learning_curve\n",
        "from sklearn.model_selection import ShuffleSplit\n",
        "def plot_learning_curve(\n",
        "    estimator,\n",
        "    title,\n",
        "    X,\n",
        "    y,\n",
        "    axes=None,\n",
        "    ylim=None,\n",
        "    cv=None,\n",
        "    n_jobs=None,\n",
        "    train_sizes=np.linspace(0.1, 1.0, 5),\n",
        "):\n",
        "    \"\"\"\n",
        "    Generate 3 plots: the test and training learning curve, the training\n",
        "    samples vs fit times curve, the fit times vs score curve.\n",
        "\n",
        "    Parameters\n",
        "    ----------\n",
        "    estimator : estimator instance\n",
        "        An estimator instance implementing `fit` and `predict` methods which\n",
        "        will be cloned for each validation.\n",
        "\n",
        "    title : str\n",
        "        Title for the chart.\n",
        "\n",
        "    X : array-like of shape (n_samples, n_features)\n",
        "        Training vector, where ``n_samples`` is the number of samples and\n",
        "        ``n_features`` is the number of features.\n",
        "\n",
        "    y : array-like of shape (n_samples) or (n_samples, n_features)\n",
        "        Target relative to ``X`` for classification or regression;\n",
        "        None for unsupervised learning.\n",
        "\n",
        "    axes : array-like of shape (3,), default=None\n",
        "        Axes to use for plotting the curves.\n",
        "\n",
        "    ylim : tuple of shape (2,), default=None\n",
        "        Defines minimum and maximum y-values plotted, e.g. (ymin, ymax).\n",
        "\n",
        "    cv : int, cross-validation generator or an iterable, default=None\n",
        "        Determines the cross-validation splitting strategy.\n",
        "        Possible inputs for cv are:\n",
        "\n",
        "          - None, to use the default 5-fold cross-validation,\n",
        "          - integer, to specify the number of folds.\n",
        "          - :term:`CV splitter`,\n",
        "          - An iterable yielding (train, test) splits as arrays of indices.\n",
        "\n",
        "        For integer/None inputs, if ``y`` is binary or multiclass,\n",
        "        :class:`StratifiedKFold` used. If the estimator is not a classifier\n",
        "        or if ``y`` is neither binary nor multiclass, :class:`KFold` is used.\n",
        "\n",
        "        Refer :ref:`User Guide <cross_validation>` for the various\n",
        "        cross-validators that can be used here.\n",
        "\n",
        "    n_jobs : int or None, default=None\n",
        "        Number of jobs to run in parallel.\n",
        "        ``None`` means 1 unless in a :obj:`joblib.parallel_backend` context.\n",
        "        ``-1`` means using all processors. See :term:`Glossary <n_jobs>`\n",
        "        for more details.\n",
        "\n",
        "    train_sizes : array-like of shape (n_ticks,)\n",
        "        Relative or absolute numbers of training examples that will be used to\n",
        "        generate the learning curve. If the ``dtype`` is float, it is regarded\n",
        "        as a fraction of the maximum size of the training set (that is\n",
        "        determined by the selected validation method), i.e. it has to be within\n",
        "        (0, 1]. Otherwise it is interpreted as absolute sizes of the training\n",
        "        sets. Note that for classification the number of samples usually have\n",
        "        to be big enough to contain at least one sample from each class.\n",
        "        (default: np.linspace(0.1, 1.0, 5))\n",
        "    \"\"\"\n",
        "    if axes is None:\n",
        "        _, axes = plt.subplots(1, 3, figsize=(20, 5))\n",
        "\n",
        "    axes[0].set_title(title)\n",
        "    if ylim is not None:\n",
        "        axes[0].set_ylim(*ylim)\n",
        "    axes[0].set_xlabel(\"Training examples\")\n",
        "    axes[0].set_ylabel(\"Score\")\n",
        "\n",
        "    train_sizes, train_scores, test_scores, fit_times, _ = learning_curve(\n",
        "        estimator,\n",
        "        X,\n",
        "        y,\n",
        "        cv=cv,\n",
        "        n_jobs=n_jobs,\n",
        "        train_sizes=train_sizes,\n",
        "        return_times=True,\n",
        "    )\n",
        "    train_scores_mean = np.mean(train_scores, axis=1)\n",
        "    train_scores_std = np.std(train_scores, axis=1)\n",
        "    test_scores_mean = np.mean(test_scores, axis=1)\n",
        "    test_scores_std = np.std(test_scores, axis=1)\n",
        "    fit_times_mean = np.mean(fit_times, axis=1)\n",
        "    fit_times_std = np.std(fit_times, axis=1)\n",
        "\n",
        "    # Plot learning curve\n",
        "    axes[0].grid()\n",
        "    axes[0].fill_between(\n",
        "        train_sizes,\n",
        "        train_scores_mean - train_scores_std,\n",
        "        train_scores_mean + train_scores_std,\n",
        "        alpha=0.1,\n",
        "        color=\"r\",\n",
        "    )\n",
        "    axes[0].fill_between(\n",
        "        train_sizes,\n",
        "        test_scores_mean - test_scores_std,\n",
        "        test_scores_mean + test_scores_std,\n",
        "        alpha=0.1,\n",
        "        color=\"g\",\n",
        "    )\n",
        "    axes[0].plot(\n",
        "        train_sizes, train_scores_mean, \"o-\", color=\"r\", label=\"Training score\"\n",
        "    )\n",
        "    axes[0].plot(\n",
        "        train_sizes, test_scores_mean, \"o-\", color=\"g\", label=\"Cross-validation score\"\n",
        "    )\n",
        "    axes[0].legend(loc=\"best\")\n",
        "\n",
        "    # Plot n_samples vs fit_times\n",
        "    axes[1].grid()\n",
        "    axes[1].plot(train_sizes, fit_times_mean, \"o-\")\n",
        "    axes[1].fill_between(\n",
        "        train_sizes,\n",
        "        fit_times_mean - fit_times_std,\n",
        "        fit_times_mean + fit_times_std,\n",
        "        alpha=0.1,\n",
        "    )\n",
        "    axes[1].set_xlabel(\"Training examples\")\n",
        "    axes[1].set_ylabel(\"fit_times\")\n",
        "    axes[1].set_title(\"Scalability of the model\")\n",
        "\n",
        "    # Plot fit_time vs score\n",
        "    fit_time_argsort = fit_times_mean.argsort()\n",
        "    fit_time_sorted = fit_times_mean[fit_time_argsort]\n",
        "    test_scores_mean_sorted = test_scores_mean[fit_time_argsort]\n",
        "    test_scores_std_sorted = test_scores_std[fit_time_argsort]\n",
        "    axes[2].grid()\n",
        "    axes[2].plot(fit_time_sorted, test_scores_mean_sorted, \"o-\")\n",
        "    axes[2].fill_between(\n",
        "        fit_time_sorted,\n",
        "        test_scores_mean_sorted - test_scores_std_sorted,\n",
        "        test_scores_mean_sorted + test_scores_std_sorted,\n",
        "        alpha=0.1,\n",
        "    )\n",
        "    axes[2].set_xlabel(\"fit_times\")\n",
        "    axes[2].set_ylabel(\"Score\")\n",
        "    axes[2].set_title(\"Performance of the model\")\n",
        "\n",
        "    return plt\n"
      ],
      "metadata": {
        "id": "L4n-GkYn49cQ"
      },
      "execution_count": 302,
      "outputs": []
    },
    {
      "cell_type": "code",
      "source": [
        "# Definimos las variables de matplot\n",
        "fig, axes = plt.subplots(3,1,figsize=(10,12))\n",
        "\n",
        "title = \"Curvas de Aprendizaje Ridge\"\n",
        "# Porcentaje de veces que vamos a iterar para las curvas...\n",
        "# Luego pasaremos el porcentaje del tamaño del conjunto de test y la semilla aleatoria\n",
        "cv = ShuffleSplit(n_splits=10,test_size=0.2, random_state=0)\n",
        "# El ylim la verdad que he ido iterando y probando\n",
        "# n_jobs es la concurrencia \n",
        "ridClaf = RidgeClassifier(alpha=0.0001)\n",
        "plot_learning_curve(\n",
        "    ridClaf,title,tdata,ydata,axes=axes[:],cv=5,n_jobs=4\n",
        ")\n",
        "plt.tight_layout()\n",
        "plt.show()"
      ],
      "metadata": {
        "colab": {
          "base_uri": "https://localhost:8080/",
          "height": 54
        },
        "id": "Og8pSaTSm9mf",
        "outputId": "b7410d83-3950-48d5-d855-22d0755878fa"
      },
      "execution_count": 303,
      "outputs": [
        {
          "output_type": "display_data",
          "data": {
            "text/plain": [
              "<Figure size 720x864 with 3 Axes>"
            ],
            "image/png": "[encoded data removed]"
          },
          "metadata": {}
        }
      ]
    },
    {
      "cell_type": "markdown",
      "source": [
        "Vemos que nuestro modelo parece que converge rápidamente a un óptimo local debido a la distribución de los datos de nuestro conjunto de entrenamiento. Vemos que el tiempo de cómputo crece fuertemente con el tamaño de los datos y nuestro error obtenido fuera de la muestra en el conjunto de validación parece permanecer intacto. \n",
        "\n",
        "Además se puede observar que al parecer si tuvieramos la misma distribución, pero más grande, empezaríamos a realizar \"overfitting\" por como podemos observar que nuestro error dentro de la muestra empezaba a disminuir incluso por debajo del obtenido en el de validación. \n",
        "\n",
        "Digamos que nuestro modelo no necesita de más datos negativos si no de quizás mucho más datos positivos. Y que podríamos haber cortado el entrenamiento con la mitad de los datos. Veremos la curvas de aprendizaje. "
      ],
      "metadata": {
        "id": "vXyKScfGsWQC"
      }
    },
    {
      "cell_type": "markdown",
      "source": [
        "### Curvas de Aprendizaje Ridge"
      ],
      "metadata": {
        "id": "yLSOC8BWnTJZ"
      }
    },
    {
      "cell_type": "markdown",
      "source": [
        "Ahora, para hacer las curvas de aprendizaje vistas en teoría...\n",
        "Primeramente definimos nuestro modelo final con los mismos hiperparámetros y creamos un conjunto de entreno y otro de validación a partir de la librería sklearn que nos permite dividir un conjunto de datos en dos, como hecho anteriormente."
      ],
      "metadata": {
        "id": "JZYWRPpN4mpN"
      }
    },
    {
      "cell_type": "markdown",
      "source": [
        "A continuación para un número determinado de veces, vamos a entrenar el modelo sobre un conjunto de datos cada vez más grande y vamos ir guardando los errores obtenidos. "
      ],
      "metadata": {
        "id": "q-QEk3JE4mpQ"
      }
    },
    {
      "cell_type": "markdown",
      "source": [
        "Utilizaremos la función de pérdida propuesta en la teoría del modelo."
      ],
      "metadata": {
        "id": "L_jeVsF1rcM3"
      }
    },
    {
      "cell_type": "code",
      "source": [
        "def MSE(y,pred):\n",
        "  return (np.sum((y-pred)**2))/len(y)"
      ],
      "metadata": {
        "id": "OSwkIywtpzL5"
      },
      "execution_count": 304,
      "outputs": []
    },
    {
      "cell_type": "code",
      "source": [
        "from scipy.interpolate import make_interp_spline\n",
        "def learning_curve_data(clf,k,Xtrain,ytrain,test,ytest,Ein_Loss=None):\n",
        "  batch_size = int(Xtrain.shape[0]/k)\n",
        "  x = []\n",
        "  y = []\n",
        "  yt = []\n",
        "  for i in range(0,Xtrain.shape[0],batch_size):\n",
        "    dt = Xtrain[0:i+batch_size]\n",
        "    lb = ytrain[0:i+batch_size]\n",
        "    clf.fit(dt,lb)\n",
        "    x.append(i+batch_size)\n",
        "    if(Ein_Loss!=None):\n",
        "      y.append(Ein_Loss(lb,clf.predict(dt)))\n",
        "      yt.append(Ein_Loss(ytest,clf.predict(test)))\n",
        "    else:\n",
        "      y.append(1-clf.score(dt,lb))\n",
        "      yt.append(1-clf.score(test,ytest))\n",
        "  \n",
        "  return x,y,yt"
      ],
      "metadata": {
        "id": "lXnRbFEC2fRR"
      },
      "execution_count": 305,
      "outputs": []
    },
    {
      "cell_type": "code",
      "source": [
        "ridClaf = RidgeClassifier(alpha=0.0001)\n",
        "k = 50\n",
        "xrid, einrid, eoutrid = learning_curve_data(ridClaf,k,tdata,ydata,tTest,ytest,Ein_Loss=MSE)"
      ],
      "metadata": {
        "id": "AoSRyUlynBIe"
      },
      "execution_count": 306,
      "outputs": []
    },
    {
      "cell_type": "code",
      "source": [
        "def plot_slrcurve(x,y,yt):\n",
        "  x_new = np.linspace(0,30000,300)\n",
        "  a_BSpline = make_interp_spline(x,y)\n",
        "  y_new = a_BSpline(x_new)\n",
        "  plt.plot(x_new,y_new,c=\"blue\",label='E_in')\n",
        "  a_BSpline = make_interp_spline(x,yt)\n",
        "  y_t = a_BSpline(x_new)\n",
        "  plt.plot(x_new,y_t,c=\"red\",label='E_out')\n",
        "  plt.legend()\n",
        "  plt.xlabel(\"Tamaño del conjunto de entrenamiento\")\n",
        "  plt.ylabel(\"Error esperado\")\n",
        "\n",
        "def plot_lrcurve(x,y,yt):\n",
        "  plt.plot(x,y,c=\"blue\",label=\"E_in\")\n",
        "  plt.plot(x,yt,c=\"red\",label=\"E_out\")\n",
        "  plt.legend()\n",
        "  plt.xlabel(\"Tamaño del conjunto de entrenamiento\")\n",
        "  plt.ylabel(\"Error esperado\")\n"
      ],
      "metadata": {
        "id": "8C2sOSz92oLr"
      },
      "execution_count": 307,
      "outputs": []
    },
    {
      "cell_type": "code",
      "source": [
        "plot_slrcurve(xrid,einrid,eoutrid)\n",
        "plt.xlim(100,30000)\n",
        "plt.ylim(0.3,0.5)\n",
        "plt.axhline(0.430,linestyle=\"--\")\n",
        "plt.legend(labels=[\"E_in\",\"E_out\",\"Desired performance\"])\n",
        "plt.show()"
      ],
      "metadata": {
        "colab": {
          "base_uri": "https://localhost:8080/",
          "height": 54
        },
        "id": "SX2xPmoinDCm",
        "outputId": "ee23a21b-0857-44c9-f149-50c760d7aac5"
      },
      "execution_count": 308,
      "outputs": [
        {
          "output_type": "display_data",
          "data": {
            "text/plain": [
              "<Figure size 842.4x595.44 with 1 Axes>"
            ],
            "image/png": "[encoded data removed]"
          },
          "metadata": {}
        }
      ]
    },
    {
      "cell_type": "markdown",
      "source": [
        "Vemos que realmente nuestro modelo converje a una solución que minimiza el error fuera de la muestra con nuestro conjunto de datos. El comportamiento es igual al estudiado en teoría y no hay overfitting.\n",
        "\n",
        "El error esperado fuera de la muestra ronda los 0.45 MSE. Que es la función de pérdida empleada por este modelo que indica que tenemos un error esperado relativamente bajo. \n",
        "O también podríamos verlo en función de la tasa de aciertos que es más familiar para un problema de clasificación : "
      ],
      "metadata": {
        "id": "iFJdxUburk1r"
      }
    },
    {
      "cell_type": "code",
      "source": [
        "k = 50\n",
        "xridca, einridca, eoutridca = learning_curve_data(ridClaf,k,tdata,ydata,tTest,ytest)"
      ],
      "metadata": {
        "id": "ujV3XDGc3SDf"
      },
      "execution_count": 309,
      "outputs": []
    },
    {
      "cell_type": "code",
      "source": [
        "plot_slrcurve(xridca,einridca,eoutridca)\n",
        "plt.xlim(100,30000)\n",
        "plt.ylim(0.0,0.2)\n",
        "plt.axhline(0.107,linestyle=\"--\")\n",
        "plt.legend(labels=[\"E_in\",\"E_out\",\"Desired performance\"])\n",
        "plt.show()"
      ],
      "metadata": {
        "colab": {
          "base_uri": "https://localhost:8080/",
          "height": 54
        },
        "id": "ojJYEKY93eb1",
        "outputId": "0c4794e2-e751-4edf-9aac-64025cae848e"
      },
      "execution_count": 310,
      "outputs": [
        {
          "output_type": "display_data",
          "data": {
            "text/plain": [
              "<Figure size 842.4x595.44 with 1 Axes>"
            ],
            "image/png": "[encoded data removed]"
          },
          "metadata": {}
        }
      ]
    },
    {
      "cell_type": "markdown",
      "source": [
        "Dónde supone que esperariamos equivocarnos sobre el 10% de las etiquetas, pero no es una buena cota debido al la distribución de datos inicial. La idea es que podemos predecir casi con certeza todas las etiquetas negativas pero no las positivas. No hemos cumplido con nuestra misión de aprendizaje para este problema.\n",
        "\n",
        "Las posibles soluciones serían buscar más datos respecto a las etiquetas positivas o buscar modelos que se vean menos afectados por malas distribuciones."
      ],
      "metadata": {
        "id": "9ClheHVP31eB"
      }
    }
  ]
}